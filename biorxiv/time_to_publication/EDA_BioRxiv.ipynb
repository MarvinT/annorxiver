{
 "cells": [
  {
   "cell_type": "markdown",
   "metadata": {},
   "source": [
    "This NB is copied from https://github.com/greenelab/annorxiver/ and I parallelized it\n",
    "This should probably be cleaned up quite a bit but... this was for a hackathon and I haven't gotten around to it"
   ]
  },
  {
   "cell_type": "markdown",
   "metadata": {},
   "source": [
    "# Exploratory Data Analysis-BioRxiv"
   ]
  },
  {
   "cell_type": "markdown",
   "metadata": {},
   "source": [
    "This notebook is designed to generate descriptive statistics for a snapshot of the BioRxiv repository. The following information is obtained: \n",
    "1. if the article is a research article\n",
    "2. if the article is a new, contradictory, or confirmatory analysis\n",
    "3. the category assigned to each research article (pi self assigns)\n",
    "4. the type of section headers contain in each research article"
   ]
  },
  {
   "cell_type": "markdown",
   "metadata": {},
   "source": [
    "## Load the environment to parse BioRxiv"
   ]
  },
  {
   "cell_type": "code",
   "execution_count": 1,
   "metadata": {
    "ExecuteTime": {
     "end_time": "2020-04-05T15:42:07.992368Z",
     "start_time": "2020-04-05T15:42:02.317821Z"
    }
   },
   "outputs": [],
   "source": [
    "from pathlib import Path\n",
    "import re\n",
    "from itertools import product\n",
    "\n",
    "import lxml.etree as ET\n",
    "import pandas as pd\n",
    "\n",
    "import plotnine as p9\n",
    "\n",
    "# from tqdm import tqdm_notebook\n",
    "from tqdm.notebook import tqdm"
   ]
  },
  {
   "cell_type": "code",
   "execution_count": 2,
   "metadata": {
    "ExecuteTime": {
     "end_time": "2020-04-05T15:42:08.002970Z",
     "start_time": "2020-04-05T15:42:07.997212Z"
    }
   },
   "outputs": [],
   "source": [
    "biorxiv_files = Path(\"/home/thielk/gitlab/ctha-biorxiv-analysis/notebooks\").rglob(\"content/*.xml\")"
   ]
  },
  {
   "cell_type": "code",
   "execution_count": 3,
   "metadata": {},
   "outputs": [],
   "source": [
    "# total_files = len(list(biorxiv_files))\n",
    "total_files = 110717"
   ]
  },
  {
   "cell_type": "markdown",
   "metadata": {},
   "source": [
    "## Parse BioRxiv"
   ]
  },
  {
   "cell_type": "code",
   "execution_count": 4,
   "metadata": {
    "ExecuteTime": {
     "end_time": "2020-04-05T15:42:08.067259Z",
     "start_time": "2020-04-05T15:42:08.008194Z"
    }
   },
   "outputs": [],
   "source": [
    "def header_group_mapper(header):\n",
    "    if re.search(\"method\", header, flags=re.I):\n",
    "        return \"material and methods\"\n",
    "    if re.search(\"abstract\", header, flags=re.I):\n",
    "        return \"abstract\"\n",
    "    if re.search(\"conclusion\", header, flags=re.I):\n",
    "        return \"conclusion\"\n",
    "    if re.search(r\"(supplementary|supplemental) material\", header, flags=re.I):\n",
    "        return \"supplemental material\"\n",
    "    if re.search(\n",
    "        r\"(declaration[s]?( of interest[s]?)?)|(competing (financial )?interest[s]?)\",\n",
    "        header,\n",
    "        flags=re.I,\n",
    "    ):\n",
    "        return \"conflict of interest\"\n",
    "    if re.search(\"additional information\", header, flags=re.I):\n",
    "        return \"supplemental information\"\n",
    "    if re.search(r\"author[s]?[']? contribution[s]?\", header, flags=re.I):\n",
    "        return \"author contribution\"\n",
    "    if re.search(r\"(supplementary|supporting) information\", header, flags=re.I):\n",
    "        return \"supplemental information\"\n",
    "    if re.search(\"data accessibility\", header, flags=re.I):\n",
    "        return \"data availability\"\n",
    "    if re.search(r\"experimental procedures\", header, flags=re.I):\n",
    "        return \"material and methods\"\n",
    "    return header"
   ]
  },
  {
   "cell_type": "code",
   "execution_count": 5,
   "metadata": {},
   "outputs": [],
   "source": [
    "def parse_article_xml(file):\n",
    "    type_mapper = {\n",
    "        \"author-type\": \"author_type\",\n",
    "        \"heading\": \"heading\",\n",
    "        \"hwp-journal-coll\": \"category\",\n",
    "    }\n",
    "    xml_parser = ET.XMLParser(encoding=\"UTF-8\", recover=True)\n",
    "    article = file.with_suffix(\"\").name\n",
    "    with open(file, \"rb\") as f:\n",
    "        root = ET.parse(f, parser=xml_parser).getroot()\n",
    "\n",
    "    # Grab the subject category\n",
    "    metadata = {\n",
    "        type_mapper[x.attrib[\"subj-group-type\"]]: x.getchildren()[0].text.lower()\n",
    "        for x in root.xpath(\"//subj-group\")\n",
    "    }\n",
    "\n",
    "    metadata.update(\n",
    "        {\n",
    "            \"document\": f\"{article}.xml\",\n",
    "            \"doi\": root.xpath(\"//article-id\")[0].text,\n",
    "            \"date_received\": \"\"\n",
    "            if not root.xpath(\"//history\")\n",
    "            else \"-\".join(\n",
    "                [out.text for out in reversed(root.xpath(\"//history\")[0][0])]\n",
    "            ),\n",
    "        }\n",
    "    )\n",
    "    #     article_metadata.append(metadata)\n",
    "\n",
    "    # Grab the section titles\n",
    "    section_objs = list(\n",
    "        filter(\n",
    "            lambda x: \"id\" in x.attrib\n",
    "            and re.search(r\"s[\\d]+$\", x.attrib[\"id\"]) is not None,\n",
    "            root.xpath(\"//sec\"),\n",
    "        )\n",
    "    )\n",
    "\n",
    "    title_objs = list(map(lambda x: x.xpath(\"title//text()\"), section_objs))\n",
    "    title_objs = list(filter(lambda x: len(x) > 0, title_objs))\n",
    "\n",
    "    # edge case in the xml where\n",
    "    # a tag contains the following: <title>A<sc>bstract</sc></title>\n",
    "    # why is there a <sc> tag?\n",
    "    if any(list(map(lambda x: len(x) > 1, title_objs))):\n",
    "\n",
    "        # filter out weird characters ⓘ\n",
    "        # cant think of a better way to handle these types of edge cases\n",
    "        title_objs = list(\n",
    "            map(\n",
    "                lambda headers: list(filter(lambda token: token != \"ⓘ\", headers)),\n",
    "                title_objs,\n",
    "            )\n",
    "        )\n",
    "        title_objs = list(map(lambda x: x[0] + x[1] if len(x) > 1 else x, title_objs))\n",
    "\n",
    "    abstract_section = root.xpath(\"//abstract/title//text()\")\n",
    "    if len(abstract_section) > 0:\n",
    "\n",
    "        # in case of a parse error that splits A from bstract\n",
    "        if len(abstract_section) > 1:\n",
    "            abstract_section = [\"\".join(abstract_section)]\n",
    "\n",
    "        title_objs = title_objs + [abstract_section]\n",
    "\n",
    "    title_objs = list(map(lambda x: x[0].rstrip().lower(), title_objs))\n",
    "\n",
    "    #     article_sections += list(\n",
    "    #         map(\n",
    "    #             lambda x: {'section':header_group_mapper(x[0]), 'document':x[1]},\n",
    "    #             product(title_objs, [article])\n",
    "    #         )\n",
    "    #     )\n",
    "    return (\n",
    "        metadata,\n",
    "        list(\n",
    "            map(\n",
    "                lambda x: {\"section\": header_group_mapper(x[0]), \"document\": x[1]},\n",
    "                product(title_objs, [article]),\n",
    "            )\n",
    "        ),\n",
    "    )"
   ]
  },
  {
   "cell_type": "code",
   "execution_count": 6,
   "metadata": {},
   "outputs": [],
   "source": [
    "from joblib import Parallel, delayed"
   ]
  },
  {
   "cell_type": "code",
   "execution_count": 7,
   "metadata": {},
   "outputs": [
    {
     "data": {
      "application/vnd.jupyter.widget-view+json": {
       "model_id": "8c23864b9e834936ba38041956ab3330",
       "version_major": 2,
       "version_minor": 0
      },
      "text/plain": [
       "HBox(children=(FloatProgress(value=0.0, max=110717.0), HTML(value='')))"
      ]
     },
     "metadata": {},
     "output_type": "display_data"
    },
    {
     "name": "stdout",
     "output_type": "stream",
     "text": [
      "\n"
     ]
    }
   ],
   "source": [
    "run_in_parallel = True\n",
    "if run_in_parallel:\n",
    "    out = Parallel(n_jobs=40)(\n",
    "        delayed(parse_article_xml)(file)\n",
    "        for file in tqdm(biorxiv_files, total=total_files)\n",
    "    )\n",
    "else:\n",
    "    out = [parse_article_xml(file) for file in tqdm(bioarxiv_files)]\n",
    "\n",
    "article_metadata, article_sections = zip(*out)\n",
    "article_sections = [section for article in article_sections for section in article]"
   ]
  },
  {
   "cell_type": "code",
   "execution_count": 8,
   "metadata": {
    "ExecuteTime": {
     "end_time": "2020-04-05T16:02:23.890168Z",
     "start_time": "2020-04-05T16:02:23.370272Z"
    }
   },
   "outputs": [
    {
     "data": {
      "text/html": [
       "<div>\n",
       "<style scoped>\n",
       "    .dataframe tbody tr th:only-of-type {\n",
       "        vertical-align: middle;\n",
       "    }\n",
       "\n",
       "    .dataframe tbody tr th {\n",
       "        vertical-align: top;\n",
       "    }\n",
       "\n",
       "    .dataframe thead th {\n",
       "        text-align: right;\n",
       "    }\n",
       "</style>\n",
       "<table border=\"1\" class=\"dataframe\">\n",
       "  <thead>\n",
       "    <tr style=\"text-align: right;\">\n",
       "      <th></th>\n",
       "      <th>author_type</th>\n",
       "      <th>heading</th>\n",
       "      <th>category</th>\n",
       "      <th>document</th>\n",
       "      <th>doi</th>\n",
       "      <th>date_received</th>\n",
       "    </tr>\n",
       "  </thead>\n",
       "  <tbody>\n",
       "    <tr>\n",
       "      <th>0</th>\n",
       "      <td>regular article</td>\n",
       "      <td>new results</td>\n",
       "      <td>bioinformatics</td>\n",
       "      <td>463976.xml</td>\n",
       "      <td>10.1101/463976</td>\n",
       "      <td>2018-11-06</td>\n",
       "    </tr>\n",
       "    <tr>\n",
       "      <th>1</th>\n",
       "      <td>regular article</td>\n",
       "      <td>new results</td>\n",
       "      <td>plant biology</td>\n",
       "      <td>466003.xml</td>\n",
       "      <td>10.1101/466003</td>\n",
       "      <td>2018-11-08</td>\n",
       "    </tr>\n",
       "    <tr>\n",
       "      <th>2</th>\n",
       "      <td>regular article</td>\n",
       "      <td>new results</td>\n",
       "      <td>cancer biology</td>\n",
       "      <td>463851.xml</td>\n",
       "      <td>10.1101/463851</td>\n",
       "      <td>2018-11-08</td>\n",
       "    </tr>\n",
       "    <tr>\n",
       "      <th>3</th>\n",
       "      <td>regular article</td>\n",
       "      <td>new results</td>\n",
       "      <td>neuroscience</td>\n",
       "      <td>463109.xml</td>\n",
       "      <td>10.1101/463109</td>\n",
       "      <td>2018-11-06</td>\n",
       "    </tr>\n",
       "    <tr>\n",
       "      <th>4</th>\n",
       "      <td>regular article</td>\n",
       "      <td>new results</td>\n",
       "      <td>ecology</td>\n",
       "      <td>466227.xml</td>\n",
       "      <td>10.1101/466227</td>\n",
       "      <td>2018-11-08</td>\n",
       "    </tr>\n",
       "  </tbody>\n",
       "</table>\n",
       "</div>"
      ],
      "text/plain": [
       "       author_type      heading        category    document             doi  \\\n",
       "0  regular article  new results  bioinformatics  463976.xml  10.1101/463976   \n",
       "1  regular article  new results   plant biology  466003.xml  10.1101/466003   \n",
       "2  regular article  new results  cancer biology  463851.xml  10.1101/463851   \n",
       "3  regular article  new results    neuroscience  463109.xml  10.1101/463109   \n",
       "4  regular article  new results         ecology  466227.xml  10.1101/466227   \n",
       "\n",
       "  date_received  \n",
       "0    2018-11-06  \n",
       "1    2018-11-08  \n",
       "2    2018-11-08  \n",
       "3    2018-11-06  \n",
       "4    2018-11-08  "
      ]
     },
     "execution_count": 8,
     "metadata": {},
     "output_type": "execute_result"
    }
   ],
   "source": [
    "metadata_df = (\n",
    "    pd.DataFrame.from_records(article_metadata)\n",
    "    .fillna({\"category\": \"none\", \"author_type\": \"none\", \"heading\": \"none\"})\n",
    "    .assign(\n",
    "        category=lambda x: x.category.apply(\n",
    "            lambda x: \" \".join(x.split(\"_\")) if \"_\" in x else x\n",
    "        )\n",
    "    )\n",
    "    .replace(\n",
    "        {\n",
    "            \"heading\": {\n",
    "                \"bioinformatics\": \"none\",\n",
    "                \"genomics\": \"none\",\n",
    "                \"zoology\": \"none\",\n",
    "                \"evolutionary biology\": \"none\",\n",
    "                \"animal behavior and cognition\": \"none\",\n",
    "                \"ecology\": \"none\",\n",
    "                \"genetics\": \"none\",\n",
    "            }\n",
    "        }\n",
    "    )\n",
    ")\n",
    "\n",
    "metadata_df.to_csv(\"output/biorxiv_article_metadata.tsv\", sep=\"\\t\", index=False)\n",
    "metadata_df.head()"
   ]
  },
  {
   "cell_type": "code",
   "execution_count": 9,
   "metadata": {
    "ExecuteTime": {
     "end_time": "2020-04-05T16:02:24.825512Z",
     "start_time": "2020-04-05T16:02:23.891321Z"
    }
   },
   "outputs": [
    {
     "data": {
      "text/html": [
       "<div>\n",
       "<style scoped>\n",
       "    .dataframe tbody tr th:only-of-type {\n",
       "        vertical-align: middle;\n",
       "    }\n",
       "\n",
       "    .dataframe tbody tr th {\n",
       "        vertical-align: top;\n",
       "    }\n",
       "\n",
       "    .dataframe thead th {\n",
       "        text-align: right;\n",
       "    }\n",
       "</style>\n",
       "<table border=\"1\" class=\"dataframe\">\n",
       "  <thead>\n",
       "    <tr style=\"text-align: right;\">\n",
       "      <th></th>\n",
       "      <th>section</th>\n",
       "      <th>document</th>\n",
       "    </tr>\n",
       "  </thead>\n",
       "  <tbody>\n",
       "    <tr>\n",
       "      <th>0</th>\n",
       "      <td>introduction</td>\n",
       "      <td>463976</td>\n",
       "    </tr>\n",
       "    <tr>\n",
       "      <th>1</th>\n",
       "      <td>material and methods</td>\n",
       "      <td>463976</td>\n",
       "    </tr>\n",
       "    <tr>\n",
       "      <th>2</th>\n",
       "      <td>results</td>\n",
       "      <td>463976</td>\n",
       "    </tr>\n",
       "    <tr>\n",
       "      <th>3</th>\n",
       "      <td>conclusion</td>\n",
       "      <td>463976</td>\n",
       "    </tr>\n",
       "    <tr>\n",
       "      <th>4</th>\n",
       "      <td>abstract</td>\n",
       "      <td>463976</td>\n",
       "    </tr>\n",
       "  </tbody>\n",
       "</table>\n",
       "</div>"
      ],
      "text/plain": [
       "                section document\n",
       "0          introduction   463976\n",
       "1  material and methods   463976\n",
       "2               results   463976\n",
       "3            conclusion   463976\n",
       "4              abstract   463976"
      ]
     },
     "execution_count": 9,
     "metadata": {},
     "output_type": "execute_result"
    }
   ],
   "source": [
    "sections_df = pd.DataFrame.from_records(article_sections)\n",
    "\n",
    "sections_df.to_csv(\"output/biorxiv_article_sections.tsv\", sep=\"\\t\", index=False)\n",
    "sections_df.head()"
   ]
  }
 ],
 "metadata": {
  "kernelspec": {
   "display_name": "misc",
   "language": "python",
   "name": "misc"
  },
  "language_info": {
   "codemirror_mode": {
    "name": "ipython",
    "version": 3
   },
   "file_extension": ".py",
   "mimetype": "text/x-python",
   "name": "python",
   "nbconvert_exporter": "python",
   "pygments_lexer": "ipython3",
   "version": "3.6.9"
  },
  "toc": {
   "base_numbering": 1,
   "nav_menu": {},
   "number_sections": true,
   "sideBar": true,
   "skip_h1_title": false,
   "title_cell": "Table of Contents",
   "title_sidebar": "Contents",
   "toc_cell": false,
   "toc_position": {},
   "toc_section_display": true,
   "toc_window_display": false
  },
  "varInspector": {
   "cols": {
    "lenName": 16,
    "lenType": 16,
    "lenVar": 40
   },
   "kernels_config": {
    "python": {
     "delete_cmd_postfix": "",
     "delete_cmd_prefix": "del ",
     "library": "var_list.py",
     "varRefreshCmd": "print(var_dic_list())"
    },
    "r": {
     "delete_cmd_postfix": ") ",
     "delete_cmd_prefix": "rm(",
     "library": "var_list.r",
     "varRefreshCmd": "cat(var_dic_list()) "
    }
   },
   "types_to_exclude": [
    "module",
    "function",
    "builtin_function_or_method",
    "instance",
    "_Feature"
   ],
   "window_display": false
  }
 },
 "nbformat": 4,
 "nbformat_minor": 4
}
