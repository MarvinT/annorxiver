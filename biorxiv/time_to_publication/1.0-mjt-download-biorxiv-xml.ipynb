{
 "cells": [
  {
   "cell_type": "code",
   "execution_count": 1,
   "metadata": {},
   "outputs": [],
   "source": [
    "from pathlib import Path\n",
    "from zipfile import ZipFile, BadZipFile\n",
    "from tqdm.notebook import tqdm\n",
    "from joblib import Parallel, delayed\n",
    "import boto3"
   ]
  },
  {
   "cell_type": "code",
   "execution_count": 2,
   "metadata": {},
   "outputs": [],
   "source": [
    "bucket_url = \"biorxiv-src-monthly\""
   ]
  },
  {
   "cell_type": "code",
   "execution_count": 3,
   "metadata": {},
   "outputs": [
    {
     "name": "stdout",
     "output_type": "stream",
     "text": [
      "111154\n",
      "CPU times: user 17.5 s, sys: 396 ms, total: 17.9 s\n",
      "Wall time: 30.5 s\n"
     ]
    }
   ],
   "source": [
    "%%time\n",
    "client = boto3.client(\"s3\")\n",
    "\n",
    "result = client.list_objects_v2(Bucket=bucket_url, RequestPayer=\"requester\")\n",
    "key_list = [r[\"Key\"] for r in result[\"Contents\"]]\n",
    "\n",
    "while result[\"IsTruncated\"]:\n",
    "    result = client.list_objects_v2(\n",
    "        Bucket=bucket_url,\n",
    "        RequestPayer=\"requester\",\n",
    "        ContinuationToken=result[\"NextContinuationToken\"],\n",
    "    )\n",
    "    key_list += [r[\"Key\"] for r in result[\"Contents\"]]\n",
    "\n",
    "print(len(key_list))"
   ]
  },
  {
   "cell_type": "code",
   "execution_count": 4,
   "metadata": {},
   "outputs": [],
   "source": [
    "def get_xml(key):\n",
    "    p = Path(key)\n",
    "    if p.suffix == \".meca\":\n",
    "        target_folder = p.with_suffix(\"\")\n",
    "        if not target_folder.exists():\n",
    "            target_folder.mkdir(exist_ok=True, parents=True)\n",
    "            client = boto3.client(\"s3\")\n",
    "            client.download_file(\n",
    "                bucket_url, key, key, ExtraArgs={\"RequestPayer\": \"requester\"}\n",
    "            )\n",
    "            try:\n",
    "                with ZipFile(key, \"r\") as zipObj:\n",
    "                    for sub_file in zipObj.namelist():\n",
    "                        if sub_file.endswith(\".xml\"):\n",
    "                            zipObj.extract(sub_file, target_folder)\n",
    "            except BadZipFile:\n",
    "                pass\n",
    "            p.unlink()"
   ]
  },
  {
   "cell_type": "code",
   "execution_count": 5,
   "metadata": {},
   "outputs": [
    {
     "data": {
      "application/vnd.jupyter.widget-view+json": {
       "model_id": "2cfed88875984c009d5e9f1744f21693",
       "version_major": 2,
       "version_minor": 0
      },
      "text/plain": [
       "HBox(children=(FloatProgress(value=0.0, max=111154.0), HTML(value='')))"
      ]
     },
     "metadata": {},
     "output_type": "display_data"
    },
    {
     "name": "stdout",
     "output_type": "stream",
     "text": [
      "\n",
      "CPU times: user 1min 5s, sys: 5.05 s, total: 1min 10s\n",
      "Wall time: 19min 43s\n"
     ]
    }
   ],
   "source": [
    "%%time\n",
    "PARALLEL = True\n",
    "if PARALLEL:\n",
    "    Parallel(n_jobs=32)(delayed(get_xml)(key) for key in tqdm(key_list))\n",
    "else:\n",
    "    [get_xml(key) for key in tqdm(key_list)]"
   ]
  },
  {
   "cell_type": "code",
   "execution_count": null,
   "metadata": {},
   "outputs": [],
   "source": []
  }
 ],
 "metadata": {
  "kernelspec": {
   "display_name": "misc",
   "language": "python",
   "name": "misc"
  },
  "language_info": {
   "codemirror_mode": {
    "name": "ipython",
    "version": 3
   },
   "file_extension": ".py",
   "mimetype": "text/x-python",
   "name": "python",
   "nbconvert_exporter": "python",
   "pygments_lexer": "ipython3",
   "version": "3.6.9"
  }
 },
 "nbformat": 4,
 "nbformat_minor": 4
}
