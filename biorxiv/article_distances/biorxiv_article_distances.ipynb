{
 "cells": [
  {
   "cell_type": "markdown",
   "metadata": {},
   "source": [
    "# Find published articles missing from bioRxiv"
   ]
  },
  {
   "cell_type": "code",
   "execution_count": 1,
   "metadata": {
    "ExecuteTime": {
     "end_time": "2020-11-09T21:29:05.610674Z",
     "start_time": "2020-11-09T21:29:04.483760Z"
    }
   },
   "outputs": [],
   "source": [
    "from pathlib import Path\n",
    "\n",
    "import numpy as np\n",
    "import pandas as pd\n",
    "import plotnine as p9\n",
    "from scipy.spatial.distance import cdist\n",
    "from sklearn.linear_model import LogisticRegressionCV\n",
    "import tqdm"
   ]
  },
  {
   "cell_type": "markdown",
   "metadata": {},
   "source": [
    "# Load Embeddings"
   ]
  },
  {
   "cell_type": "markdown",
   "metadata": {},
   "source": [
    "## bioRxiv"
   ]
  },
  {
   "cell_type": "code",
   "execution_count": 2,
   "metadata": {
    "ExecuteTime": {
     "end_time": "2020-11-09T21:29:05.928971Z",
     "start_time": "2020-11-09T21:29:05.612113Z"
    }
   },
   "outputs": [
    {
     "data": {
      "text/html": [
       "<div>\n",
       "<style scoped>\n",
       "    .dataframe tbody tr th:only-of-type {\n",
       "        vertical-align: middle;\n",
       "    }\n",
       "\n",
       "    .dataframe tbody tr th {\n",
       "        vertical-align: top;\n",
       "    }\n",
       "\n",
       "    .dataframe thead th {\n",
       "        text-align: right;\n",
       "    }\n",
       "</style>\n",
       "<table border=\"1\" class=\"dataframe\">\n",
       "  <thead>\n",
       "    <tr style=\"text-align: right;\">\n",
       "      <th></th>\n",
       "      <th>document</th>\n",
       "      <th>category</th>\n",
       "      <th>preprint_doi</th>\n",
       "      <th>published_doi</th>\n",
       "      <th>pmcid</th>\n",
       "      <th>pmcoa</th>\n",
       "    </tr>\n",
       "  </thead>\n",
       "  <tbody>\n",
       "    <tr>\n",
       "      <th>0</th>\n",
       "      <td>000026_v1.xml</td>\n",
       "      <td>genetics</td>\n",
       "      <td>10.1101/000026</td>\n",
       "      <td>10.1371/journal.pgen.1004412</td>\n",
       "      <td>PMC4125079</td>\n",
       "      <td>True</td>\n",
       "    </tr>\n",
       "    <tr>\n",
       "      <th>1</th>\n",
       "      <td>000042_v2.xml</td>\n",
       "      <td>genomics</td>\n",
       "      <td>10.1101/000042</td>\n",
       "      <td>10.1038/nrg3723</td>\n",
       "      <td>PMC4151119</td>\n",
       "      <td>False</td>\n",
       "    </tr>\n",
       "    <tr>\n",
       "      <th>2</th>\n",
       "      <td>000067_v1.xml</td>\n",
       "      <td>genomics</td>\n",
       "      <td>10.1101/000067</td>\n",
       "      <td>10.1038/nature12904</td>\n",
       "      <td>PMC4285441</td>\n",
       "      <td>True</td>\n",
       "    </tr>\n",
       "    <tr>\n",
       "      <th>3</th>\n",
       "      <td>000091_v1.xml</td>\n",
       "      <td>synthetic biology</td>\n",
       "      <td>10.1101/000091</td>\n",
       "      <td>NaN</td>\n",
       "      <td>NaN</td>\n",
       "      <td>False</td>\n",
       "    </tr>\n",
       "    <tr>\n",
       "      <th>4</th>\n",
       "      <td>000109_v1.xml</td>\n",
       "      <td>evolutionary biology</td>\n",
       "      <td>10.1101/000109</td>\n",
       "      <td>10.1371/journal.pgen.1004410</td>\n",
       "      <td>PMC4072524</td>\n",
       "      <td>True</td>\n",
       "    </tr>\n",
       "  </tbody>\n",
       "</table>\n",
       "</div>"
      ],
      "text/plain": [
       "        document              category    preprint_doi  \\\n",
       "0  000026_v1.xml              genetics  10.1101/000026   \n",
       "1  000042_v2.xml              genomics  10.1101/000042   \n",
       "2  000067_v1.xml              genomics  10.1101/000067   \n",
       "3  000091_v1.xml     synthetic biology  10.1101/000091   \n",
       "4  000109_v1.xml  evolutionary biology  10.1101/000109   \n",
       "\n",
       "                  published_doi       pmcid  pmcoa  \n",
       "0  10.1371/journal.pgen.1004412  PMC4125079   True  \n",
       "1               10.1038/nrg3723  PMC4151119  False  \n",
       "2           10.1038/nature12904  PMC4285441   True  \n",
       "3                           NaN         NaN  False  \n",
       "4  10.1371/journal.pgen.1004410  PMC4072524   True  "
      ]
     },
     "execution_count": 2,
     "metadata": {},
     "output_type": "execute_result"
    }
   ],
   "source": [
    "biorxiv_journal_df = (\n",
    "    pd.read_csv(\n",
    "        \"../journal_tracker/output/mapped_published_doi.tsv\", \n",
    "        sep=\"\\t\"\n",
    "    )\n",
    "    .groupby(\"preprint_doi\")\n",
    "    .agg({\n",
    "        \"document\":\"last\",\n",
    "        \"category\":\"first\",\n",
    "        \"preprint_doi\":\"last\",\n",
    "        \"published_doi\":\"first\",  \n",
    "        \"pmcid\":\"first\", \n",
    "        \"pmcoa\":\"first\"\n",
    "    })\n",
    "    .reset_index(drop=True)\n",
    ")\n",
    "biorxiv_journal_df.head()"
   ]
  },
  {
   "cell_type": "code",
   "execution_count": 3,
   "metadata": {
    "ExecuteTime": {
     "end_time": "2020-11-09T21:29:22.908024Z",
     "start_time": "2020-11-09T21:29:05.930371Z"
    }
   },
   "outputs": [
    {
     "data": {
      "text/html": [
       "<div>\n",
       "<style scoped>\n",
       "    .dataframe tbody tr th:only-of-type {\n",
       "        vertical-align: middle;\n",
       "    }\n",
       "\n",
       "    .dataframe tbody tr th {\n",
       "        vertical-align: top;\n",
       "    }\n",
       "\n",
       "    .dataframe thead th {\n",
       "        text-align: right;\n",
       "    }\n",
       "</style>\n",
       "<table border=\"1\" class=\"dataframe\">\n",
       "  <thead>\n",
       "    <tr style=\"text-align: right;\">\n",
       "      <th></th>\n",
       "      <th>document</th>\n",
       "      <th>feat_0</th>\n",
       "      <th>feat_1</th>\n",
       "      <th>feat_2</th>\n",
       "      <th>feat_3</th>\n",
       "      <th>feat_4</th>\n",
       "      <th>feat_5</th>\n",
       "      <th>feat_6</th>\n",
       "      <th>feat_7</th>\n",
       "      <th>feat_8</th>\n",
       "      <th>...</th>\n",
       "      <th>feat_290</th>\n",
       "      <th>feat_291</th>\n",
       "      <th>feat_292</th>\n",
       "      <th>feat_293</th>\n",
       "      <th>feat_294</th>\n",
       "      <th>feat_295</th>\n",
       "      <th>feat_296</th>\n",
       "      <th>feat_297</th>\n",
       "      <th>feat_298</th>\n",
       "      <th>feat_299</th>\n",
       "    </tr>\n",
       "  </thead>\n",
       "  <tbody>\n",
       "    <tr>\n",
       "      <th>0</th>\n",
       "      <td>440735_v1.xml</td>\n",
       "      <td>-0.185549</td>\n",
       "      <td>-0.028703</td>\n",
       "      <td>-0.148555</td>\n",
       "      <td>-0.133172</td>\n",
       "      <td>0.353365</td>\n",
       "      <td>-0.114964</td>\n",
       "      <td>-0.028663</td>\n",
       "      <td>-0.215159</td>\n",
       "      <td>0.551382</td>\n",
       "      <td>...</td>\n",
       "      <td>-0.286513</td>\n",
       "      <td>0.082141</td>\n",
       "      <td>-0.197929</td>\n",
       "      <td>-0.163326</td>\n",
       "      <td>-0.867377</td>\n",
       "      <td>-0.383934</td>\n",
       "      <td>0.684275</td>\n",
       "      <td>0.673811</td>\n",
       "      <td>0.332528</td>\n",
       "      <td>-0.252338</td>\n",
       "    </tr>\n",
       "    <tr>\n",
       "      <th>1</th>\n",
       "      <td>775270_v1.xml</td>\n",
       "      <td>-0.532040</td>\n",
       "      <td>-0.065809</td>\n",
       "      <td>-0.313654</td>\n",
       "      <td>-0.117575</td>\n",
       "      <td>0.372866</td>\n",
       "      <td>-0.318956</td>\n",
       "      <td>-0.368010</td>\n",
       "      <td>0.325850</td>\n",
       "      <td>0.808698</td>\n",
       "      <td>...</td>\n",
       "      <td>-0.199805</td>\n",
       "      <td>-0.083095</td>\n",
       "      <td>0.184185</td>\n",
       "      <td>-0.157145</td>\n",
       "      <td>-0.895367</td>\n",
       "      <td>-0.611417</td>\n",
       "      <td>0.224433</td>\n",
       "      <td>0.857584</td>\n",
       "      <td>-0.442240</td>\n",
       "      <td>-0.229249</td>\n",
       "    </tr>\n",
       "    <tr>\n",
       "      <th>2</th>\n",
       "      <td>242404_v1.xml</td>\n",
       "      <td>-0.511104</td>\n",
       "      <td>-0.203790</td>\n",
       "      <td>-0.171574</td>\n",
       "      <td>0.244052</td>\n",
       "      <td>0.235567</td>\n",
       "      <td>-0.269997</td>\n",
       "      <td>-0.222966</td>\n",
       "      <td>-0.247174</td>\n",
       "      <td>0.385497</td>\n",
       "      <td>...</td>\n",
       "      <td>-0.351890</td>\n",
       "      <td>-0.155088</td>\n",
       "      <td>-0.222041</td>\n",
       "      <td>-0.258185</td>\n",
       "      <td>-0.866121</td>\n",
       "      <td>-0.568663</td>\n",
       "      <td>0.553375</td>\n",
       "      <td>0.890001</td>\n",
       "      <td>0.025051</td>\n",
       "      <td>-0.347382</td>\n",
       "    </tr>\n",
       "    <tr>\n",
       "      <th>3</th>\n",
       "      <td>872994_v1.xml</td>\n",
       "      <td>-0.595936</td>\n",
       "      <td>-0.147790</td>\n",
       "      <td>-0.277296</td>\n",
       "      <td>0.522433</td>\n",
       "      <td>0.574653</td>\n",
       "      <td>-0.046103</td>\n",
       "      <td>-0.586993</td>\n",
       "      <td>-0.312505</td>\n",
       "      <td>0.382142</td>\n",
       "      <td>...</td>\n",
       "      <td>0.074240</td>\n",
       "      <td>0.042758</td>\n",
       "      <td>0.174565</td>\n",
       "      <td>0.155595</td>\n",
       "      <td>-0.557984</td>\n",
       "      <td>-0.445246</td>\n",
       "      <td>0.386596</td>\n",
       "      <td>0.512007</td>\n",
       "      <td>-0.510197</td>\n",
       "      <td>-0.295844</td>\n",
       "    </tr>\n",
       "    <tr>\n",
       "      <th>4</th>\n",
       "      <td>080853_v2.xml</td>\n",
       "      <td>-0.076522</td>\n",
       "      <td>0.039275</td>\n",
       "      <td>-0.928818</td>\n",
       "      <td>0.226103</td>\n",
       "      <td>0.035823</td>\n",
       "      <td>-0.075580</td>\n",
       "      <td>-0.189354</td>\n",
       "      <td>0.243075</td>\n",
       "      <td>0.240977</td>\n",
       "      <td>...</td>\n",
       "      <td>0.524121</td>\n",
       "      <td>0.560223</td>\n",
       "      <td>0.246179</td>\n",
       "      <td>0.242929</td>\n",
       "      <td>-0.810809</td>\n",
       "      <td>-0.118951</td>\n",
       "      <td>0.052647</td>\n",
       "      <td>0.184235</td>\n",
       "      <td>-0.154029</td>\n",
       "      <td>0.469902</td>\n",
       "    </tr>\n",
       "  </tbody>\n",
       "</table>\n",
       "<p>5 rows × 301 columns</p>\n",
       "</div>"
      ],
      "text/plain": [
       "        document    feat_0    feat_1    feat_2    feat_3    feat_4    feat_5  \\\n",
       "0  440735_v1.xml -0.185549 -0.028703 -0.148555 -0.133172  0.353365 -0.114964   \n",
       "1  775270_v1.xml -0.532040 -0.065809 -0.313654 -0.117575  0.372866 -0.318956   \n",
       "2  242404_v1.xml -0.511104 -0.203790 -0.171574  0.244052  0.235567 -0.269997   \n",
       "3  872994_v1.xml -0.595936 -0.147790 -0.277296  0.522433  0.574653 -0.046103   \n",
       "4  080853_v2.xml -0.076522  0.039275 -0.928818  0.226103  0.035823 -0.075580   \n",
       "\n",
       "     feat_6    feat_7    feat_8  ...  feat_290  feat_291  feat_292  feat_293  \\\n",
       "0 -0.028663 -0.215159  0.551382  ... -0.286513  0.082141 -0.197929 -0.163326   \n",
       "1 -0.368010  0.325850  0.808698  ... -0.199805 -0.083095  0.184185 -0.157145   \n",
       "2 -0.222966 -0.247174  0.385497  ... -0.351890 -0.155088 -0.222041 -0.258185   \n",
       "3 -0.586993 -0.312505  0.382142  ...  0.074240  0.042758  0.174565  0.155595   \n",
       "4 -0.189354  0.243075  0.240977  ...  0.524121  0.560223  0.246179  0.242929   \n",
       "\n",
       "   feat_294  feat_295  feat_296  feat_297  feat_298  feat_299  \n",
       "0 -0.867377 -0.383934  0.684275  0.673811  0.332528 -0.252338  \n",
       "1 -0.895367 -0.611417  0.224433  0.857584 -0.442240 -0.229249  \n",
       "2 -0.866121 -0.568663  0.553375  0.890001  0.025051 -0.347382  \n",
       "3 -0.557984 -0.445246  0.386596  0.512007 -0.510197 -0.295844  \n",
       "4 -0.810809 -0.118951  0.052647  0.184235 -0.154029  0.469902  \n",
       "\n",
       "[5 rows x 301 columns]"
      ]
     },
     "execution_count": 3,
     "metadata": {},
     "output_type": "execute_result"
    }
   ],
   "source": [
    "biorxiv_embed_df = (\n",
    "    pd.read_csv(\n",
    "        Path(\"../word_vector_experiment/output/\") /\n",
    "        \"word2vec_output/\" /\n",
    "        \"biorxiv_all_articles_300.tsv.xz\",\n",
    "        sep=\"\\t\"\n",
    "    )   \n",
    ")\n",
    "biorxiv_embed_df.head()"
   ]
  },
  {
   "cell_type": "code",
   "execution_count": 4,
   "metadata": {
    "ExecuteTime": {
     "end_time": "2020-11-09T21:29:23.108627Z",
     "start_time": "2020-11-09T21:29:22.909388Z"
    }
   },
   "outputs": [
    {
     "data": {
      "text/html": [
       "<div>\n",
       "<style scoped>\n",
       "    .dataframe tbody tr th:only-of-type {\n",
       "        vertical-align: middle;\n",
       "    }\n",
       "\n",
       "    .dataframe tbody tr th {\n",
       "        vertical-align: top;\n",
       "    }\n",
       "\n",
       "    .dataframe thead th {\n",
       "        text-align: right;\n",
       "    }\n",
       "</style>\n",
       "<table border=\"1\" class=\"dataframe\">\n",
       "  <thead>\n",
       "    <tr style=\"text-align: right;\">\n",
       "      <th></th>\n",
       "      <th>document</th>\n",
       "      <th>published_doi</th>\n",
       "      <th>pmcid</th>\n",
       "      <th>pmcoa</th>\n",
       "      <th>feat_0</th>\n",
       "      <th>feat_1</th>\n",
       "      <th>feat_2</th>\n",
       "      <th>feat_3</th>\n",
       "      <th>feat_4</th>\n",
       "      <th>feat_5</th>\n",
       "      <th>...</th>\n",
       "      <th>feat_290</th>\n",
       "      <th>feat_291</th>\n",
       "      <th>feat_292</th>\n",
       "      <th>feat_293</th>\n",
       "      <th>feat_294</th>\n",
       "      <th>feat_295</th>\n",
       "      <th>feat_296</th>\n",
       "      <th>feat_297</th>\n",
       "      <th>feat_298</th>\n",
       "      <th>feat_299</th>\n",
       "    </tr>\n",
       "  </thead>\n",
       "  <tbody>\n",
       "    <tr>\n",
       "      <th>0</th>\n",
       "      <td>000026_v1.xml</td>\n",
       "      <td>10.1371/journal.pgen.1004412</td>\n",
       "      <td>PMC4125079</td>\n",
       "      <td>True</td>\n",
       "      <td>-0.354588</td>\n",
       "      <td>-0.039688</td>\n",
       "      <td>-0.264044</td>\n",
       "      <td>0.061171</td>\n",
       "      <td>0.445177</td>\n",
       "      <td>-0.094280</td>\n",
       "      <td>...</td>\n",
       "      <td>0.077113</td>\n",
       "      <td>0.009006</td>\n",
       "      <td>-0.128140</td>\n",
       "      <td>0.107098</td>\n",
       "      <td>-0.896259</td>\n",
       "      <td>-0.591504</td>\n",
       "      <td>0.451696</td>\n",
       "      <td>1.010107</td>\n",
       "      <td>0.155138</td>\n",
       "      <td>-0.141590</td>\n",
       "    </tr>\n",
       "    <tr>\n",
       "      <th>1</th>\n",
       "      <td>000042_v2.xml</td>\n",
       "      <td>10.1038/nrg3723</td>\n",
       "      <td>PMC4151119</td>\n",
       "      <td>False</td>\n",
       "      <td>-0.697319</td>\n",
       "      <td>-0.342986</td>\n",
       "      <td>-0.248835</td>\n",
       "      <td>-0.111381</td>\n",
       "      <td>0.244663</td>\n",
       "      <td>-0.238119</td>\n",
       "      <td>...</td>\n",
       "      <td>-0.126911</td>\n",
       "      <td>0.238912</td>\n",
       "      <td>-0.035375</td>\n",
       "      <td>-0.044733</td>\n",
       "      <td>-0.693987</td>\n",
       "      <td>-0.188221</td>\n",
       "      <td>0.615959</td>\n",
       "      <td>0.625472</td>\n",
       "      <td>-0.067295</td>\n",
       "      <td>-0.161871</td>\n",
       "    </tr>\n",
       "    <tr>\n",
       "      <th>2</th>\n",
       "      <td>000067_v1.xml</td>\n",
       "      <td>10.1038/nature12904</td>\n",
       "      <td>PMC4285441</td>\n",
       "      <td>True</td>\n",
       "      <td>-0.223833</td>\n",
       "      <td>0.104426</td>\n",
       "      <td>-0.187421</td>\n",
       "      <td>-0.097920</td>\n",
       "      <td>0.118555</td>\n",
       "      <td>-0.162342</td>\n",
       "      <td>...</td>\n",
       "      <td>0.110930</td>\n",
       "      <td>0.144949</td>\n",
       "      <td>0.003651</td>\n",
       "      <td>-0.035206</td>\n",
       "      <td>-0.887362</td>\n",
       "      <td>-0.582829</td>\n",
       "      <td>0.407179</td>\n",
       "      <td>0.400775</td>\n",
       "      <td>0.030982</td>\n",
       "      <td>0.238798</td>\n",
       "    </tr>\n",
       "    <tr>\n",
       "      <th>3</th>\n",
       "      <td>000091_v1.xml</td>\n",
       "      <td>NaN</td>\n",
       "      <td>NaN</td>\n",
       "      <td>False</td>\n",
       "      <td>-0.460216</td>\n",
       "      <td>-0.077183</td>\n",
       "      <td>-0.346650</td>\n",
       "      <td>0.354429</td>\n",
       "      <td>0.540097</td>\n",
       "      <td>-0.367523</td>\n",
       "      <td>...</td>\n",
       "      <td>0.313261</td>\n",
       "      <td>-0.251339</td>\n",
       "      <td>0.563322</td>\n",
       "      <td>0.144810</td>\n",
       "      <td>-0.369955</td>\n",
       "      <td>-0.624727</td>\n",
       "      <td>0.338073</td>\n",
       "      <td>0.619281</td>\n",
       "      <td>-0.313213</td>\n",
       "      <td>-0.013729</td>\n",
       "    </tr>\n",
       "    <tr>\n",
       "      <th>4</th>\n",
       "      <td>000109_v1.xml</td>\n",
       "      <td>10.1371/journal.pgen.1004410</td>\n",
       "      <td>PMC4072524</td>\n",
       "      <td>True</td>\n",
       "      <td>-0.359770</td>\n",
       "      <td>-0.034423</td>\n",
       "      <td>-0.211397</td>\n",
       "      <td>0.142895</td>\n",
       "      <td>0.257640</td>\n",
       "      <td>0.214825</td>\n",
       "      <td>...</td>\n",
       "      <td>0.131452</td>\n",
       "      <td>0.034245</td>\n",
       "      <td>0.119621</td>\n",
       "      <td>-0.075230</td>\n",
       "      <td>-0.786596</td>\n",
       "      <td>-0.557854</td>\n",
       "      <td>0.163636</td>\n",
       "      <td>0.867464</td>\n",
       "      <td>0.000889</td>\n",
       "      <td>0.181491</td>\n",
       "    </tr>\n",
       "  </tbody>\n",
       "</table>\n",
       "<p>5 rows × 304 columns</p>\n",
       "</div>"
      ],
      "text/plain": [
       "        document                 published_doi       pmcid  pmcoa    feat_0  \\\n",
       "0  000026_v1.xml  10.1371/journal.pgen.1004412  PMC4125079   True -0.354588   \n",
       "1  000042_v2.xml               10.1038/nrg3723  PMC4151119  False -0.697319   \n",
       "2  000067_v1.xml           10.1038/nature12904  PMC4285441   True -0.223833   \n",
       "3  000091_v1.xml                           NaN         NaN  False -0.460216   \n",
       "4  000109_v1.xml  10.1371/journal.pgen.1004410  PMC4072524   True -0.359770   \n",
       "\n",
       "     feat_1    feat_2    feat_3    feat_4    feat_5  ...  feat_290  feat_291  \\\n",
       "0 -0.039688 -0.264044  0.061171  0.445177 -0.094280  ...  0.077113  0.009006   \n",
       "1 -0.342986 -0.248835 -0.111381  0.244663 -0.238119  ... -0.126911  0.238912   \n",
       "2  0.104426 -0.187421 -0.097920  0.118555 -0.162342  ...  0.110930  0.144949   \n",
       "3 -0.077183 -0.346650  0.354429  0.540097 -0.367523  ...  0.313261 -0.251339   \n",
       "4 -0.034423 -0.211397  0.142895  0.257640  0.214825  ...  0.131452  0.034245   \n",
       "\n",
       "   feat_292  feat_293  feat_294  feat_295  feat_296  feat_297  feat_298  \\\n",
       "0 -0.128140  0.107098 -0.896259 -0.591504  0.451696  1.010107  0.155138   \n",
       "1 -0.035375 -0.044733 -0.693987 -0.188221  0.615959  0.625472 -0.067295   \n",
       "2  0.003651 -0.035206 -0.887362 -0.582829  0.407179  0.400775  0.030982   \n",
       "3  0.563322  0.144810 -0.369955 -0.624727  0.338073  0.619281 -0.313213   \n",
       "4  0.119621 -0.075230 -0.786596 -0.557854  0.163636  0.867464  0.000889   \n",
       "\n",
       "   feat_299  \n",
       "0 -0.141590  \n",
       "1 -0.161871  \n",
       "2  0.238798  \n",
       "3 -0.013729  \n",
       "4  0.181491  \n",
       "\n",
       "[5 rows x 304 columns]"
      ]
     },
     "execution_count": 4,
     "metadata": {},
     "output_type": "execute_result"
    }
   ],
   "source": [
    "biorxiv_journal_mapped_df = (\n",
    "    biorxiv_journal_df[[\"document\", \"published_doi\", \"pmcid\", \"pmcoa\"]]\n",
    "    .merge(biorxiv_embed_df, on=\"document\")\n",
    ")\n",
    "biorxiv_journal_mapped_df.head()"
   ]
  },
  {
   "cell_type": "markdown",
   "metadata": {},
   "source": [
    "## Pubmed Central"
   ]
  },
  {
   "cell_type": "code",
   "execution_count": 5,
   "metadata": {
    "ExecuteTime": {
     "end_time": "2020-11-09T21:29:27.335687Z",
     "start_time": "2020-11-09T21:29:23.109914Z"
    }
   },
   "outputs": [
    {
     "data": {
      "text/html": [
       "<div>\n",
       "<style scoped>\n",
       "    .dataframe tbody tr th:only-of-type {\n",
       "        vertical-align: middle;\n",
       "    }\n",
       "\n",
       "    .dataframe tbody tr th {\n",
       "        vertical-align: top;\n",
       "    }\n",
       "\n",
       "    .dataframe thead th {\n",
       "        text-align: right;\n",
       "    }\n",
       "</style>\n",
       "<table border=\"1\" class=\"dataframe\">\n",
       "  <thead>\n",
       "    <tr style=\"text-align: right;\">\n",
       "      <th></th>\n",
       "      <th>journal</th>\n",
       "      <th>article_type</th>\n",
       "      <th>doi</th>\n",
       "      <th>pmcid</th>\n",
       "    </tr>\n",
       "  </thead>\n",
       "  <tbody>\n",
       "    <tr>\n",
       "      <th>0</th>\n",
       "      <td>Environ_Health</td>\n",
       "      <td>research-article</td>\n",
       "      <td>10.1186/1476-069X-5-22</td>\n",
       "      <td>PMC1552054</td>\n",
       "    </tr>\n",
       "    <tr>\n",
       "      <th>1</th>\n",
       "      <td>Environ_Health</td>\n",
       "      <td>research-article</td>\n",
       "      <td>10.1186/1476-069X-4-12</td>\n",
       "      <td>PMC1226148</td>\n",
       "    </tr>\n",
       "    <tr>\n",
       "      <th>3</th>\n",
       "      <td>Environ_Health</td>\n",
       "      <td>research-article</td>\n",
       "      <td>10.1186/s12940-017-0316-3</td>\n",
       "      <td>PMC5635510</td>\n",
       "    </tr>\n",
       "    <tr>\n",
       "      <th>4</th>\n",
       "      <td>Environ_Health</td>\n",
       "      <td>research-article</td>\n",
       "      <td>10.1186/1476-069X-10-46</td>\n",
       "      <td>PMC3125232</td>\n",
       "    </tr>\n",
       "    <tr>\n",
       "      <th>5</th>\n",
       "      <td>Environ_Health</td>\n",
       "      <td>research-article</td>\n",
       "      <td>10.1186/1476-069X-11-91</td>\n",
       "      <td>PMC3533997</td>\n",
       "    </tr>\n",
       "  </tbody>\n",
       "</table>\n",
       "</div>"
      ],
      "text/plain": [
       "          journal      article_type                        doi       pmcid\n",
       "0  Environ_Health  research-article     10.1186/1476-069X-5-22  PMC1552054\n",
       "1  Environ_Health  research-article     10.1186/1476-069X-4-12  PMC1226148\n",
       "3  Environ_Health  research-article  10.1186/s12940-017-0316-3  PMC5635510\n",
       "4  Environ_Health  research-article    10.1186/1476-069X-10-46  PMC3125232\n",
       "5  Environ_Health  research-article    10.1186/1476-069X-11-91  PMC3533997"
      ]
     },
     "execution_count": 5,
     "metadata": {},
     "output_type": "execute_result"
    }
   ],
   "source": [
    "pmc_articles_df = (\n",
    "    pd.read_csv(\n",
    "        Path(\"../../pmc/exploratory_data_analysis/\") /\n",
    "        \"output/pubmed_central_journal_paper_map.tsv.xz\", \n",
    "        sep=\"\\t\"\n",
    "    )\n",
    "    .query(\"article_type=='research-article'\")\n",
    ")\n",
    "pmc_articles_df.head()"
   ]
  },
  {
   "cell_type": "code",
   "execution_count": 6,
   "metadata": {
    "ExecuteTime": {
     "end_time": "2020-11-09T21:35:06.189293Z",
     "start_time": "2020-11-09T21:29:27.336762Z"
    }
   },
   "outputs": [
    {
     "data": {
      "text/html": [
       "<div>\n",
       "<style scoped>\n",
       "    .dataframe tbody tr th:only-of-type {\n",
       "        vertical-align: middle;\n",
       "    }\n",
       "\n",
       "    .dataframe tbody tr th {\n",
       "        vertical-align: top;\n",
       "    }\n",
       "\n",
       "    .dataframe thead th {\n",
       "        text-align: right;\n",
       "    }\n",
       "</style>\n",
       "<table border=\"1\" class=\"dataframe\">\n",
       "  <thead>\n",
       "    <tr style=\"text-align: right;\">\n",
       "      <th></th>\n",
       "      <th>document</th>\n",
       "      <th>feat_0</th>\n",
       "      <th>feat_1</th>\n",
       "      <th>feat_2</th>\n",
       "      <th>feat_3</th>\n",
       "      <th>feat_4</th>\n",
       "      <th>feat_5</th>\n",
       "      <th>feat_6</th>\n",
       "      <th>feat_7</th>\n",
       "      <th>feat_8</th>\n",
       "      <th>...</th>\n",
       "      <th>feat_290</th>\n",
       "      <th>feat_291</th>\n",
       "      <th>feat_292</th>\n",
       "      <th>feat_293</th>\n",
       "      <th>feat_294</th>\n",
       "      <th>feat_295</th>\n",
       "      <th>feat_296</th>\n",
       "      <th>feat_297</th>\n",
       "      <th>feat_298</th>\n",
       "      <th>feat_299</th>\n",
       "    </tr>\n",
       "  </thead>\n",
       "  <tbody>\n",
       "    <tr>\n",
       "      <th>0</th>\n",
       "      <td>PMC1552054</td>\n",
       "      <td>-0.428596</td>\n",
       "      <td>0.004477</td>\n",
       "      <td>-0.153677</td>\n",
       "      <td>0.059131</td>\n",
       "      <td>-0.394598</td>\n",
       "      <td>-0.066383</td>\n",
       "      <td>0.358798</td>\n",
       "      <td>-0.245809</td>\n",
       "      <td>0.431974</td>\n",
       "      <td>...</td>\n",
       "      <td>-0.067994</td>\n",
       "      <td>0.033121</td>\n",
       "      <td>-0.077121</td>\n",
       "      <td>-0.433617</td>\n",
       "      <td>-1.111247</td>\n",
       "      <td>-0.405260</td>\n",
       "      <td>0.293903</td>\n",
       "      <td>0.613155</td>\n",
       "      <td>-0.500204</td>\n",
       "      <td>-0.214057</td>\n",
       "    </tr>\n",
       "    <tr>\n",
       "      <th>1</th>\n",
       "      <td>PMC1226148</td>\n",
       "      <td>-0.434013</td>\n",
       "      <td>-0.185516</td>\n",
       "      <td>-0.070654</td>\n",
       "      <td>0.488759</td>\n",
       "      <td>-0.280275</td>\n",
       "      <td>0.042681</td>\n",
       "      <td>0.116685</td>\n",
       "      <td>0.037062</td>\n",
       "      <td>0.530896</td>\n",
       "      <td>...</td>\n",
       "      <td>0.318905</td>\n",
       "      <td>-0.065244</td>\n",
       "      <td>0.159258</td>\n",
       "      <td>-0.380412</td>\n",
       "      <td>-0.665559</td>\n",
       "      <td>-0.485417</td>\n",
       "      <td>0.180982</td>\n",
       "      <td>0.523053</td>\n",
       "      <td>-0.485158</td>\n",
       "      <td>-0.251244</td>\n",
       "    </tr>\n",
       "    <tr>\n",
       "      <th>2</th>\n",
       "      <td>PMC5635510</td>\n",
       "      <td>-0.248388</td>\n",
       "      <td>0.118660</td>\n",
       "      <td>-0.103008</td>\n",
       "      <td>0.267721</td>\n",
       "      <td>0.278939</td>\n",
       "      <td>-0.220584</td>\n",
       "      <td>0.089593</td>\n",
       "      <td>-0.159638</td>\n",
       "      <td>0.866190</td>\n",
       "      <td>...</td>\n",
       "      <td>0.081127</td>\n",
       "      <td>-0.110091</td>\n",
       "      <td>-0.031617</td>\n",
       "      <td>-0.188741</td>\n",
       "      <td>-0.936947</td>\n",
       "      <td>-0.461118</td>\n",
       "      <td>0.618781</td>\n",
       "      <td>0.647195</td>\n",
       "      <td>-0.270240</td>\n",
       "      <td>-0.409643</td>\n",
       "    </tr>\n",
       "    <tr>\n",
       "      <th>3</th>\n",
       "      <td>PMC3125232</td>\n",
       "      <td>-0.507224</td>\n",
       "      <td>0.024099</td>\n",
       "      <td>-0.039696</td>\n",
       "      <td>-0.171992</td>\n",
       "      <td>0.371326</td>\n",
       "      <td>-0.137797</td>\n",
       "      <td>-0.202616</td>\n",
       "      <td>-0.156994</td>\n",
       "      <td>0.695519</td>\n",
       "      <td>...</td>\n",
       "      <td>-0.218274</td>\n",
       "      <td>-0.022597</td>\n",
       "      <td>-0.028885</td>\n",
       "      <td>-0.250560</td>\n",
       "      <td>-1.140730</td>\n",
       "      <td>-0.568136</td>\n",
       "      <td>0.482088</td>\n",
       "      <td>0.899122</td>\n",
       "      <td>-0.250971</td>\n",
       "      <td>-0.592976</td>\n",
       "    </tr>\n",
       "    <tr>\n",
       "      <th>4</th>\n",
       "      <td>PMC3533997</td>\n",
       "      <td>-0.424435</td>\n",
       "      <td>0.175519</td>\n",
       "      <td>-0.048797</td>\n",
       "      <td>0.178023</td>\n",
       "      <td>-0.042913</td>\n",
       "      <td>-0.282377</td>\n",
       "      <td>0.317917</td>\n",
       "      <td>-0.007002</td>\n",
       "      <td>0.586774</td>\n",
       "      <td>...</td>\n",
       "      <td>-0.111805</td>\n",
       "      <td>-0.262620</td>\n",
       "      <td>-0.187817</td>\n",
       "      <td>-0.463804</td>\n",
       "      <td>-1.308874</td>\n",
       "      <td>-0.352892</td>\n",
       "      <td>0.251982</td>\n",
       "      <td>0.550853</td>\n",
       "      <td>-0.659678</td>\n",
       "      <td>-0.614042</td>\n",
       "    </tr>\n",
       "  </tbody>\n",
       "</table>\n",
       "<p>5 rows × 301 columns</p>\n",
       "</div>"
      ],
      "text/plain": [
       "     document    feat_0    feat_1    feat_2    feat_3    feat_4    feat_5  \\\n",
       "0  PMC1552054 -0.428596  0.004477 -0.153677  0.059131 -0.394598 -0.066383   \n",
       "1  PMC1226148 -0.434013 -0.185516 -0.070654  0.488759 -0.280275  0.042681   \n",
       "2  PMC5635510 -0.248388  0.118660 -0.103008  0.267721  0.278939 -0.220584   \n",
       "3  PMC3125232 -0.507224  0.024099 -0.039696 -0.171992  0.371326 -0.137797   \n",
       "4  PMC3533997 -0.424435  0.175519 -0.048797  0.178023 -0.042913 -0.282377   \n",
       "\n",
       "     feat_6    feat_7    feat_8  ...  feat_290  feat_291  feat_292  feat_293  \\\n",
       "0  0.358798 -0.245809  0.431974  ... -0.067994  0.033121 -0.077121 -0.433617   \n",
       "1  0.116685  0.037062  0.530896  ...  0.318905 -0.065244  0.159258 -0.380412   \n",
       "2  0.089593 -0.159638  0.866190  ...  0.081127 -0.110091 -0.031617 -0.188741   \n",
       "3 -0.202616 -0.156994  0.695519  ... -0.218274 -0.022597 -0.028885 -0.250560   \n",
       "4  0.317917 -0.007002  0.586774  ... -0.111805 -0.262620 -0.187817 -0.463804   \n",
       "\n",
       "   feat_294  feat_295  feat_296  feat_297  feat_298  feat_299  \n",
       "0 -1.111247 -0.405260  0.293903  0.613155 -0.500204 -0.214057  \n",
       "1 -0.665559 -0.485417  0.180982  0.523053 -0.485158 -0.251244  \n",
       "2 -0.936947 -0.461118  0.618781  0.647195 -0.270240 -0.409643  \n",
       "3 -1.140730 -0.568136  0.482088  0.899122 -0.250971 -0.592976  \n",
       "4 -1.308874 -0.352892  0.251982  0.550853 -0.659678 -0.614042  \n",
       "\n",
       "[5 rows x 301 columns]"
      ]
     },
     "execution_count": 6,
     "metadata": {},
     "output_type": "execute_result"
    }
   ],
   "source": [
    "pmc_embed_df = (\n",
    "    pd.read_csv(\n",
    "        list(\n",
    "            Path(\"../../pmc/word_vector_experiment/output/\")\n",
    "            .glob(\"*300.tsv.xz\")\n",
    "        )[0],\n",
    "        sep=\"\\t\"\n",
    "    )\n",
    ")\n",
    "pmc_embed_df.head()"
   ]
  },
  {
   "cell_type": "code",
   "execution_count": 7,
   "metadata": {
    "ExecuteTime": {
     "end_time": "2020-11-09T21:35:09.504258Z",
     "start_time": "2020-11-09T21:35:06.190567Z"
    }
   },
   "outputs": [
    {
     "data": {
      "text/html": [
       "<div>\n",
       "<style scoped>\n",
       "    .dataframe tbody tr th:only-of-type {\n",
       "        vertical-align: middle;\n",
       "    }\n",
       "\n",
       "    .dataframe tbody tr th {\n",
       "        vertical-align: top;\n",
       "    }\n",
       "\n",
       "    .dataframe thead th {\n",
       "        text-align: right;\n",
       "    }\n",
       "</style>\n",
       "<table border=\"1\" class=\"dataframe\">\n",
       "  <thead>\n",
       "    <tr style=\"text-align: right;\">\n",
       "      <th></th>\n",
       "      <th>journal</th>\n",
       "      <th>doi</th>\n",
       "      <th>document</th>\n",
       "      <th>feat_0</th>\n",
       "      <th>feat_1</th>\n",
       "      <th>feat_2</th>\n",
       "      <th>feat_3</th>\n",
       "      <th>feat_4</th>\n",
       "      <th>feat_5</th>\n",
       "      <th>feat_6</th>\n",
       "      <th>...</th>\n",
       "      <th>feat_290</th>\n",
       "      <th>feat_291</th>\n",
       "      <th>feat_292</th>\n",
       "      <th>feat_293</th>\n",
       "      <th>feat_294</th>\n",
       "      <th>feat_295</th>\n",
       "      <th>feat_296</th>\n",
       "      <th>feat_297</th>\n",
       "      <th>feat_298</th>\n",
       "      <th>feat_299</th>\n",
       "    </tr>\n",
       "  </thead>\n",
       "  <tbody>\n",
       "    <tr>\n",
       "      <th>0</th>\n",
       "      <td>Environ_Health</td>\n",
       "      <td>10.1186/1476-069X-5-22</td>\n",
       "      <td>PMC1552054</td>\n",
       "      <td>-0.428596</td>\n",
       "      <td>0.004477</td>\n",
       "      <td>-0.153677</td>\n",
       "      <td>0.059131</td>\n",
       "      <td>-0.394598</td>\n",
       "      <td>-0.066383</td>\n",
       "      <td>0.358798</td>\n",
       "      <td>...</td>\n",
       "      <td>-0.067994</td>\n",
       "      <td>0.033121</td>\n",
       "      <td>-0.077121</td>\n",
       "      <td>-0.433617</td>\n",
       "      <td>-1.111247</td>\n",
       "      <td>-0.405260</td>\n",
       "      <td>0.293903</td>\n",
       "      <td>0.613155</td>\n",
       "      <td>-0.500204</td>\n",
       "      <td>-0.214057</td>\n",
       "    </tr>\n",
       "    <tr>\n",
       "      <th>1</th>\n",
       "      <td>Environ_Health</td>\n",
       "      <td>10.1186/1476-069X-4-12</td>\n",
       "      <td>PMC1226148</td>\n",
       "      <td>-0.434013</td>\n",
       "      <td>-0.185516</td>\n",
       "      <td>-0.070654</td>\n",
       "      <td>0.488759</td>\n",
       "      <td>-0.280275</td>\n",
       "      <td>0.042681</td>\n",
       "      <td>0.116685</td>\n",
       "      <td>...</td>\n",
       "      <td>0.318905</td>\n",
       "      <td>-0.065244</td>\n",
       "      <td>0.159258</td>\n",
       "      <td>-0.380412</td>\n",
       "      <td>-0.665559</td>\n",
       "      <td>-0.485417</td>\n",
       "      <td>0.180982</td>\n",
       "      <td>0.523053</td>\n",
       "      <td>-0.485158</td>\n",
       "      <td>-0.251244</td>\n",
       "    </tr>\n",
       "    <tr>\n",
       "      <th>2</th>\n",
       "      <td>Environ_Health</td>\n",
       "      <td>10.1186/s12940-017-0316-3</td>\n",
       "      <td>PMC5635510</td>\n",
       "      <td>-0.248388</td>\n",
       "      <td>0.118660</td>\n",
       "      <td>-0.103008</td>\n",
       "      <td>0.267721</td>\n",
       "      <td>0.278939</td>\n",
       "      <td>-0.220584</td>\n",
       "      <td>0.089593</td>\n",
       "      <td>...</td>\n",
       "      <td>0.081127</td>\n",
       "      <td>-0.110091</td>\n",
       "      <td>-0.031617</td>\n",
       "      <td>-0.188741</td>\n",
       "      <td>-0.936947</td>\n",
       "      <td>-0.461118</td>\n",
       "      <td>0.618781</td>\n",
       "      <td>0.647195</td>\n",
       "      <td>-0.270240</td>\n",
       "      <td>-0.409643</td>\n",
       "    </tr>\n",
       "    <tr>\n",
       "      <th>3</th>\n",
       "      <td>Environ_Health</td>\n",
       "      <td>10.1186/1476-069X-10-46</td>\n",
       "      <td>PMC3125232</td>\n",
       "      <td>-0.507224</td>\n",
       "      <td>0.024099</td>\n",
       "      <td>-0.039696</td>\n",
       "      <td>-0.171992</td>\n",
       "      <td>0.371326</td>\n",
       "      <td>-0.137797</td>\n",
       "      <td>-0.202616</td>\n",
       "      <td>...</td>\n",
       "      <td>-0.218274</td>\n",
       "      <td>-0.022597</td>\n",
       "      <td>-0.028885</td>\n",
       "      <td>-0.250560</td>\n",
       "      <td>-1.140730</td>\n",
       "      <td>-0.568136</td>\n",
       "      <td>0.482088</td>\n",
       "      <td>0.899122</td>\n",
       "      <td>-0.250971</td>\n",
       "      <td>-0.592976</td>\n",
       "    </tr>\n",
       "    <tr>\n",
       "      <th>4</th>\n",
       "      <td>Environ_Health</td>\n",
       "      <td>10.1186/1476-069X-11-91</td>\n",
       "      <td>PMC3533997</td>\n",
       "      <td>-0.424435</td>\n",
       "      <td>0.175519</td>\n",
       "      <td>-0.048797</td>\n",
       "      <td>0.178023</td>\n",
       "      <td>-0.042913</td>\n",
       "      <td>-0.282377</td>\n",
       "      <td>0.317917</td>\n",
       "      <td>...</td>\n",
       "      <td>-0.111805</td>\n",
       "      <td>-0.262620</td>\n",
       "      <td>-0.187817</td>\n",
       "      <td>-0.463804</td>\n",
       "      <td>-1.308874</td>\n",
       "      <td>-0.352892</td>\n",
       "      <td>0.251982</td>\n",
       "      <td>0.550853</td>\n",
       "      <td>-0.659678</td>\n",
       "      <td>-0.614042</td>\n",
       "    </tr>\n",
       "  </tbody>\n",
       "</table>\n",
       "<p>5 rows × 303 columns</p>\n",
       "</div>"
      ],
      "text/plain": [
       "          journal                        doi    document    feat_0    feat_1  \\\n",
       "0  Environ_Health     10.1186/1476-069X-5-22  PMC1552054 -0.428596  0.004477   \n",
       "1  Environ_Health     10.1186/1476-069X-4-12  PMC1226148 -0.434013 -0.185516   \n",
       "2  Environ_Health  10.1186/s12940-017-0316-3  PMC5635510 -0.248388  0.118660   \n",
       "3  Environ_Health    10.1186/1476-069X-10-46  PMC3125232 -0.507224  0.024099   \n",
       "4  Environ_Health    10.1186/1476-069X-11-91  PMC3533997 -0.424435  0.175519   \n",
       "\n",
       "     feat_2    feat_3    feat_4    feat_5    feat_6  ...  feat_290  feat_291  \\\n",
       "0 -0.153677  0.059131 -0.394598 -0.066383  0.358798  ... -0.067994  0.033121   \n",
       "1 -0.070654  0.488759 -0.280275  0.042681  0.116685  ...  0.318905 -0.065244   \n",
       "2 -0.103008  0.267721  0.278939 -0.220584  0.089593  ...  0.081127 -0.110091   \n",
       "3 -0.039696 -0.171992  0.371326 -0.137797 -0.202616  ... -0.218274 -0.022597   \n",
       "4 -0.048797  0.178023 -0.042913 -0.282377  0.317917  ... -0.111805 -0.262620   \n",
       "\n",
       "   feat_292  feat_293  feat_294  feat_295  feat_296  feat_297  feat_298  \\\n",
       "0 -0.077121 -0.433617 -1.111247 -0.405260  0.293903  0.613155 -0.500204   \n",
       "1  0.159258 -0.380412 -0.665559 -0.485417  0.180982  0.523053 -0.485158   \n",
       "2 -0.031617 -0.188741 -0.936947 -0.461118  0.618781  0.647195 -0.270240   \n",
       "3 -0.028885 -0.250560 -1.140730 -0.568136  0.482088  0.899122 -0.250971   \n",
       "4 -0.187817 -0.463804 -1.308874 -0.352892  0.251982  0.550853 -0.659678   \n",
       "\n",
       "   feat_299  \n",
       "0 -0.214057  \n",
       "1 -0.251244  \n",
       "2 -0.409643  \n",
       "3 -0.592976  \n",
       "4 -0.614042  \n",
       "\n",
       "[5 rows x 303 columns]"
      ]
     },
     "execution_count": 7,
     "metadata": {},
     "output_type": "execute_result"
    }
   ],
   "source": [
    "pmc_journal_mapped_df = (\n",
    "    pmc_articles_df[[\"journal\", \"doi\", \"pmcid\"]]\n",
    "    .merge(pmc_embed_df, left_on=\"pmcid\", right_on=\"document\")\n",
    "    .drop(\"pmcid\", axis=1)\n",
    ")\n",
    "pmc_journal_mapped_df.head()"
   ]
  },
  {
   "cell_type": "markdown",
   "metadata": {
    "ExecuteTime": {
     "end_time": "2020-06-23T17:33:37.573651Z",
     "start_time": "2020-06-23T17:33:37.571730Z"
    }
   },
   "source": [
    "# Calculate Distances"
   ]
  },
  {
   "cell_type": "markdown",
   "metadata": {},
   "source": [
    "## biorxiv -> published versions"
   ]
  },
  {
   "cell_type": "code",
   "execution_count": 8,
   "metadata": {
    "ExecuteTime": {
     "end_time": "2020-11-09T21:35:09.623412Z",
     "start_time": "2020-11-09T21:35:09.506035Z"
    }
   },
   "outputs": [
    {
     "data": {
      "text/html": [
       "<div>\n",
       "<style scoped>\n",
       "    .dataframe tbody tr th:only-of-type {\n",
       "        vertical-align: middle;\n",
       "    }\n",
       "\n",
       "    .dataframe tbody tr th {\n",
       "        vertical-align: top;\n",
       "    }\n",
       "\n",
       "    .dataframe thead th {\n",
       "        text-align: right;\n",
       "    }\n",
       "</style>\n",
       "<table border=\"1\" class=\"dataframe\">\n",
       "  <thead>\n",
       "    <tr style=\"text-align: right;\">\n",
       "      <th></th>\n",
       "      <th>document</th>\n",
       "      <th>published_doi</th>\n",
       "      <th>pmcoa</th>\n",
       "      <th>feat_0</th>\n",
       "      <th>feat_1</th>\n",
       "      <th>feat_2</th>\n",
       "      <th>feat_3</th>\n",
       "      <th>feat_4</th>\n",
       "      <th>feat_5</th>\n",
       "      <th>feat_6</th>\n",
       "      <th>...</th>\n",
       "      <th>feat_290</th>\n",
       "      <th>feat_291</th>\n",
       "      <th>feat_292</th>\n",
       "      <th>feat_293</th>\n",
       "      <th>feat_294</th>\n",
       "      <th>feat_295</th>\n",
       "      <th>feat_296</th>\n",
       "      <th>feat_297</th>\n",
       "      <th>feat_298</th>\n",
       "      <th>feat_299</th>\n",
       "    </tr>\n",
       "    <tr>\n",
       "      <th>pmcid</th>\n",
       "      <th></th>\n",
       "      <th></th>\n",
       "      <th></th>\n",
       "      <th></th>\n",
       "      <th></th>\n",
       "      <th></th>\n",
       "      <th></th>\n",
       "      <th></th>\n",
       "      <th></th>\n",
       "      <th></th>\n",
       "      <th></th>\n",
       "      <th></th>\n",
       "      <th></th>\n",
       "      <th></th>\n",
       "      <th></th>\n",
       "      <th></th>\n",
       "      <th></th>\n",
       "      <th></th>\n",
       "      <th></th>\n",
       "      <th></th>\n",
       "      <th></th>\n",
       "    </tr>\n",
       "  </thead>\n",
       "  <tbody>\n",
       "    <tr>\n",
       "      <th>PMC3585962</th>\n",
       "      <td>000380_v1.xml</td>\n",
       "      <td>10.1016/j.biochi.2012.05.024</td>\n",
       "      <td>True</td>\n",
       "      <td>-0.089820</td>\n",
       "      <td>0.213478</td>\n",
       "      <td>-0.688674</td>\n",
       "      <td>-0.210780</td>\n",
       "      <td>0.250569</td>\n",
       "      <td>-0.188696</td>\n",
       "      <td>-0.600395</td>\n",
       "      <td>...</td>\n",
       "      <td>0.499104</td>\n",
       "      <td>0.145342</td>\n",
       "      <td>0.351161</td>\n",
       "      <td>-0.199782</td>\n",
       "      <td>-0.716037</td>\n",
       "      <td>-0.701872</td>\n",
       "      <td>0.209843</td>\n",
       "      <td>0.261151</td>\n",
       "      <td>-0.358704</td>\n",
       "      <td>-0.215744</td>\n",
       "    </tr>\n",
       "    <tr>\n",
       "      <th>PMC3866385</th>\n",
       "      <td>000968_v1.xml</td>\n",
       "      <td>10.3389/fnhum.2013.00880</td>\n",
       "      <td>True</td>\n",
       "      <td>-0.255329</td>\n",
       "      <td>0.274540</td>\n",
       "      <td>-0.293852</td>\n",
       "      <td>0.616544</td>\n",
       "      <td>0.524100</td>\n",
       "      <td>-0.057505</td>\n",
       "      <td>-0.383754</td>\n",
       "      <td>...</td>\n",
       "      <td>-0.079164</td>\n",
       "      <td>0.038555</td>\n",
       "      <td>0.149628</td>\n",
       "      <td>0.216948</td>\n",
       "      <td>-0.875129</td>\n",
       "      <td>0.045080</td>\n",
       "      <td>0.847978</td>\n",
       "      <td>0.526043</td>\n",
       "      <td>-0.154849</td>\n",
       "      <td>-0.105887</td>\n",
       "    </tr>\n",
       "    <tr>\n",
       "      <th>PMC3893193</th>\n",
       "      <td>001297_v2.xml</td>\n",
       "      <td>10.1371/journal.pone.0085203</td>\n",
       "      <td>True</td>\n",
       "      <td>-0.216976</td>\n",
       "      <td>-0.324127</td>\n",
       "      <td>-0.311663</td>\n",
       "      <td>0.593512</td>\n",
       "      <td>0.347711</td>\n",
       "      <td>-0.180897</td>\n",
       "      <td>-0.391476</td>\n",
       "      <td>...</td>\n",
       "      <td>0.035644</td>\n",
       "      <td>0.246972</td>\n",
       "      <td>0.466131</td>\n",
       "      <td>0.193137</td>\n",
       "      <td>-0.501147</td>\n",
       "      <td>-0.566383</td>\n",
       "      <td>0.349670</td>\n",
       "      <td>0.751755</td>\n",
       "      <td>-0.369225</td>\n",
       "      <td>-0.157755</td>\n",
       "    </tr>\n",
       "    <tr>\n",
       "      <th>PMC3894166</th>\n",
       "      <td>000141_v1.xml</td>\n",
       "      <td>10.1371/journal.pcbi.1003433</td>\n",
       "      <td>True</td>\n",
       "      <td>-0.489331</td>\n",
       "      <td>0.029247</td>\n",
       "      <td>-0.766819</td>\n",
       "      <td>0.126920</td>\n",
       "      <td>0.228847</td>\n",
       "      <td>-0.231903</td>\n",
       "      <td>-0.362439</td>\n",
       "      <td>...</td>\n",
       "      <td>0.390265</td>\n",
       "      <td>0.303159</td>\n",
       "      <td>0.268525</td>\n",
       "      <td>0.173529</td>\n",
       "      <td>-0.685519</td>\n",
       "      <td>-0.613437</td>\n",
       "      <td>0.188164</td>\n",
       "      <td>0.561036</td>\n",
       "      <td>0.024270</td>\n",
       "      <td>-0.074251</td>\n",
       "    </tr>\n",
       "    <tr>\n",
       "      <th>PMC3906208</th>\n",
       "      <td>000315_v1.xml</td>\n",
       "      <td>10.1371/journal.pone.0087782</td>\n",
       "      <td>True</td>\n",
       "      <td>-0.104042</td>\n",
       "      <td>0.260326</td>\n",
       "      <td>-0.217748</td>\n",
       "      <td>-0.095333</td>\n",
       "      <td>-0.097044</td>\n",
       "      <td>-0.101123</td>\n",
       "      <td>0.092174</td>\n",
       "      <td>...</td>\n",
       "      <td>0.251430</td>\n",
       "      <td>0.733713</td>\n",
       "      <td>-0.425069</td>\n",
       "      <td>0.159021</td>\n",
       "      <td>-0.980853</td>\n",
       "      <td>0.014888</td>\n",
       "      <td>0.823273</td>\n",
       "      <td>0.441548</td>\n",
       "      <td>0.268824</td>\n",
       "      <td>-0.114512</td>\n",
       "    </tr>\n",
       "  </tbody>\n",
       "</table>\n",
       "<p>5 rows × 303 columns</p>\n",
       "</div>"
      ],
      "text/plain": [
       "                 document                 published_doi  pmcoa    feat_0  \\\n",
       "pmcid                                                                      \n",
       "PMC3585962  000380_v1.xml  10.1016/j.biochi.2012.05.024   True -0.089820   \n",
       "PMC3866385  000968_v1.xml      10.3389/fnhum.2013.00880   True -0.255329   \n",
       "PMC3893193  001297_v2.xml  10.1371/journal.pone.0085203   True -0.216976   \n",
       "PMC3894166  000141_v1.xml  10.1371/journal.pcbi.1003433   True -0.489331   \n",
       "PMC3906208  000315_v1.xml  10.1371/journal.pone.0087782   True -0.104042   \n",
       "\n",
       "              feat_1    feat_2    feat_3    feat_4    feat_5    feat_6  ...  \\\n",
       "pmcid                                                                   ...   \n",
       "PMC3585962  0.213478 -0.688674 -0.210780  0.250569 -0.188696 -0.600395  ...   \n",
       "PMC3866385  0.274540 -0.293852  0.616544  0.524100 -0.057505 -0.383754  ...   \n",
       "PMC3893193 -0.324127 -0.311663  0.593512  0.347711 -0.180897 -0.391476  ...   \n",
       "PMC3894166  0.029247 -0.766819  0.126920  0.228847 -0.231903 -0.362439  ...   \n",
       "PMC3906208  0.260326 -0.217748 -0.095333 -0.097044 -0.101123  0.092174  ...   \n",
       "\n",
       "            feat_290  feat_291  feat_292  feat_293  feat_294  feat_295  \\\n",
       "pmcid                                                                    \n",
       "PMC3585962  0.499104  0.145342  0.351161 -0.199782 -0.716037 -0.701872   \n",
       "PMC3866385 -0.079164  0.038555  0.149628  0.216948 -0.875129  0.045080   \n",
       "PMC3893193  0.035644  0.246972  0.466131  0.193137 -0.501147 -0.566383   \n",
       "PMC3894166  0.390265  0.303159  0.268525  0.173529 -0.685519 -0.613437   \n",
       "PMC3906208  0.251430  0.733713 -0.425069  0.159021 -0.980853  0.014888   \n",
       "\n",
       "            feat_296  feat_297  feat_298  feat_299  \n",
       "pmcid                                               \n",
       "PMC3585962  0.209843  0.261151 -0.358704 -0.215744  \n",
       "PMC3866385  0.847978  0.526043 -0.154849 -0.105887  \n",
       "PMC3893193  0.349670  0.751755 -0.369225 -0.157755  \n",
       "PMC3894166  0.188164  0.561036  0.024270 -0.074251  \n",
       "PMC3906208  0.823273  0.441548  0.268824 -0.114512  \n",
       "\n",
       "[5 rows x 303 columns]"
      ]
     },
     "execution_count": 8,
     "metadata": {},
     "output_type": "execute_result"
    }
   ],
   "source": [
    "biorxiv_published = (\n",
    "    biorxiv_journal_mapped_df\n",
    "    .query(\"pmcid.notnull()\")\n",
    "    .query(\"pmcoa == True\")\n",
    "    .sort_values(\"pmcid\", ascending=True)\n",
    "    .drop_duplicates(\"pmcid\")\n",
    "    .set_index(\"pmcid\")\n",
    ")\n",
    "biorxiv_published.head()"
   ]
  },
  {
   "cell_type": "code",
   "execution_count": 9,
   "metadata": {
    "ExecuteTime": {
     "end_time": "2020-11-09T21:35:10.437828Z",
     "start_time": "2020-11-09T21:35:09.624685Z"
    }
   },
   "outputs": [
    {
     "data": {
      "text/html": [
       "<div>\n",
       "<style scoped>\n",
       "    .dataframe tbody tr th:only-of-type {\n",
       "        vertical-align: middle;\n",
       "    }\n",
       "\n",
       "    .dataframe tbody tr th {\n",
       "        vertical-align: top;\n",
       "    }\n",
       "\n",
       "    .dataframe thead th {\n",
       "        text-align: right;\n",
       "    }\n",
       "</style>\n",
       "<table border=\"1\" class=\"dataframe\">\n",
       "  <thead>\n",
       "    <tr style=\"text-align: right;\">\n",
       "      <th></th>\n",
       "      <th>journal</th>\n",
       "      <th>doi</th>\n",
       "      <th>feat_0</th>\n",
       "      <th>feat_1</th>\n",
       "      <th>feat_2</th>\n",
       "      <th>feat_3</th>\n",
       "      <th>feat_4</th>\n",
       "      <th>feat_5</th>\n",
       "      <th>feat_6</th>\n",
       "      <th>feat_7</th>\n",
       "      <th>...</th>\n",
       "      <th>feat_290</th>\n",
       "      <th>feat_291</th>\n",
       "      <th>feat_292</th>\n",
       "      <th>feat_293</th>\n",
       "      <th>feat_294</th>\n",
       "      <th>feat_295</th>\n",
       "      <th>feat_296</th>\n",
       "      <th>feat_297</th>\n",
       "      <th>feat_298</th>\n",
       "      <th>feat_299</th>\n",
       "    </tr>\n",
       "    <tr>\n",
       "      <th>document</th>\n",
       "      <th></th>\n",
       "      <th></th>\n",
       "      <th></th>\n",
       "      <th></th>\n",
       "      <th></th>\n",
       "      <th></th>\n",
       "      <th></th>\n",
       "      <th></th>\n",
       "      <th></th>\n",
       "      <th></th>\n",
       "      <th></th>\n",
       "      <th></th>\n",
       "      <th></th>\n",
       "      <th></th>\n",
       "      <th></th>\n",
       "      <th></th>\n",
       "      <th></th>\n",
       "      <th></th>\n",
       "      <th></th>\n",
       "      <th></th>\n",
       "      <th></th>\n",
       "    </tr>\n",
       "  </thead>\n",
       "  <tbody>\n",
       "    <tr>\n",
       "      <th>PMC3585962</th>\n",
       "      <td>Biochimie</td>\n",
       "      <td>10.1016/j.biochi.2012.05.024</td>\n",
       "      <td>-0.098884</td>\n",
       "      <td>0.214301</td>\n",
       "      <td>-0.645178</td>\n",
       "      <td>-0.272175</td>\n",
       "      <td>0.373711</td>\n",
       "      <td>-0.188448</td>\n",
       "      <td>-0.596447</td>\n",
       "      <td>-0.039941</td>\n",
       "      <td>...</td>\n",
       "      <td>0.502021</td>\n",
       "      <td>0.073569</td>\n",
       "      <td>0.412591</td>\n",
       "      <td>-0.172567</td>\n",
       "      <td>-0.779263</td>\n",
       "      <td>-0.697926</td>\n",
       "      <td>0.369576</td>\n",
       "      <td>0.315655</td>\n",
       "      <td>-0.331896</td>\n",
       "      <td>-0.372914</td>\n",
       "    </tr>\n",
       "    <tr>\n",
       "      <th>PMC3866385</th>\n",
       "      <td>Front_Hum_Neurosci</td>\n",
       "      <td>10.3389/fnhum.2013.00880</td>\n",
       "      <td>-0.240794</td>\n",
       "      <td>0.307311</td>\n",
       "      <td>-0.202005</td>\n",
       "      <td>0.581624</td>\n",
       "      <td>0.644356</td>\n",
       "      <td>-0.006195</td>\n",
       "      <td>-0.435495</td>\n",
       "      <td>-0.641621</td>\n",
       "      <td>...</td>\n",
       "      <td>-0.010112</td>\n",
       "      <td>0.024885</td>\n",
       "      <td>0.164740</td>\n",
       "      <td>0.282565</td>\n",
       "      <td>-0.826444</td>\n",
       "      <td>0.048025</td>\n",
       "      <td>0.924790</td>\n",
       "      <td>0.553071</td>\n",
       "      <td>-0.085559</td>\n",
       "      <td>-0.068807</td>\n",
       "    </tr>\n",
       "    <tr>\n",
       "      <th>PMC3893193</th>\n",
       "      <td>PLoS_One</td>\n",
       "      <td>10.1371/journal.pone.0085203</td>\n",
       "      <td>-0.185743</td>\n",
       "      <td>-0.312882</td>\n",
       "      <td>-0.242535</td>\n",
       "      <td>0.560396</td>\n",
       "      <td>0.488412</td>\n",
       "      <td>-0.207604</td>\n",
       "      <td>-0.392894</td>\n",
       "      <td>-0.127650</td>\n",
       "      <td>...</td>\n",
       "      <td>0.021451</td>\n",
       "      <td>0.185137</td>\n",
       "      <td>0.462166</td>\n",
       "      <td>0.328489</td>\n",
       "      <td>-0.486121</td>\n",
       "      <td>-0.511641</td>\n",
       "      <td>0.471794</td>\n",
       "      <td>0.813252</td>\n",
       "      <td>-0.352215</td>\n",
       "      <td>-0.204227</td>\n",
       "    </tr>\n",
       "    <tr>\n",
       "      <th>PMC3894166</th>\n",
       "      <td>PLoS_Comput_Biol</td>\n",
       "      <td>10.1371/journal.pcbi.1003433</td>\n",
       "      <td>-0.503416</td>\n",
       "      <td>0.009370</td>\n",
       "      <td>-0.754106</td>\n",
       "      <td>0.152181</td>\n",
       "      <td>0.285587</td>\n",
       "      <td>-0.186768</td>\n",
       "      <td>-0.380495</td>\n",
       "      <td>0.292699</td>\n",
       "      <td>...</td>\n",
       "      <td>0.414183</td>\n",
       "      <td>0.246784</td>\n",
       "      <td>0.284164</td>\n",
       "      <td>0.261274</td>\n",
       "      <td>-0.678757</td>\n",
       "      <td>-0.567737</td>\n",
       "      <td>0.203805</td>\n",
       "      <td>0.600919</td>\n",
       "      <td>0.069438</td>\n",
       "      <td>-0.128604</td>\n",
       "    </tr>\n",
       "    <tr>\n",
       "      <th>PMC3906208</th>\n",
       "      <td>PLoS_One</td>\n",
       "      <td>10.1371/journal.pone.0087782</td>\n",
       "      <td>-0.061851</td>\n",
       "      <td>0.253736</td>\n",
       "      <td>-0.245582</td>\n",
       "      <td>-0.053743</td>\n",
       "      <td>0.005017</td>\n",
       "      <td>-0.107049</td>\n",
       "      <td>0.067445</td>\n",
       "      <td>0.234168</td>\n",
       "      <td>...</td>\n",
       "      <td>0.276434</td>\n",
       "      <td>0.664756</td>\n",
       "      <td>-0.424959</td>\n",
       "      <td>0.181098</td>\n",
       "      <td>-0.940328</td>\n",
       "      <td>0.021027</td>\n",
       "      <td>0.899146</td>\n",
       "      <td>0.498804</td>\n",
       "      <td>0.231698</td>\n",
       "      <td>-0.119860</td>\n",
       "    </tr>\n",
       "  </tbody>\n",
       "</table>\n",
       "<p>5 rows × 302 columns</p>\n",
       "</div>"
      ],
      "text/plain": [
       "                       journal                           doi    feat_0  \\\n",
       "document                                                                 \n",
       "PMC3585962           Biochimie  10.1016/j.biochi.2012.05.024 -0.098884   \n",
       "PMC3866385  Front_Hum_Neurosci      10.3389/fnhum.2013.00880 -0.240794   \n",
       "PMC3893193            PLoS_One  10.1371/journal.pone.0085203 -0.185743   \n",
       "PMC3894166    PLoS_Comput_Biol  10.1371/journal.pcbi.1003433 -0.503416   \n",
       "PMC3906208            PLoS_One  10.1371/journal.pone.0087782 -0.061851   \n",
       "\n",
       "              feat_1    feat_2    feat_3    feat_4    feat_5    feat_6  \\\n",
       "document                                                                 \n",
       "PMC3585962  0.214301 -0.645178 -0.272175  0.373711 -0.188448 -0.596447   \n",
       "PMC3866385  0.307311 -0.202005  0.581624  0.644356 -0.006195 -0.435495   \n",
       "PMC3893193 -0.312882 -0.242535  0.560396  0.488412 -0.207604 -0.392894   \n",
       "PMC3894166  0.009370 -0.754106  0.152181  0.285587 -0.186768 -0.380495   \n",
       "PMC3906208  0.253736 -0.245582 -0.053743  0.005017 -0.107049  0.067445   \n",
       "\n",
       "              feat_7  ...  feat_290  feat_291  feat_292  feat_293  feat_294  \\\n",
       "document              ...                                                     \n",
       "PMC3585962 -0.039941  ...  0.502021  0.073569  0.412591 -0.172567 -0.779263   \n",
       "PMC3866385 -0.641621  ... -0.010112  0.024885  0.164740  0.282565 -0.826444   \n",
       "PMC3893193 -0.127650  ...  0.021451  0.185137  0.462166  0.328489 -0.486121   \n",
       "PMC3894166  0.292699  ...  0.414183  0.246784  0.284164  0.261274 -0.678757   \n",
       "PMC3906208  0.234168  ...  0.276434  0.664756 -0.424959  0.181098 -0.940328   \n",
       "\n",
       "            feat_295  feat_296  feat_297  feat_298  feat_299  \n",
       "document                                                      \n",
       "PMC3585962 -0.697926  0.369576  0.315655 -0.331896 -0.372914  \n",
       "PMC3866385  0.048025  0.924790  0.553071 -0.085559 -0.068807  \n",
       "PMC3893193 -0.511641  0.471794  0.813252 -0.352215 -0.204227  \n",
       "PMC3894166 -0.567737  0.203805  0.600919  0.069438 -0.128604  \n",
       "PMC3906208  0.021027  0.899146  0.498804  0.231698 -0.119860  \n",
       "\n",
       "[5 rows x 302 columns]"
      ]
     },
     "execution_count": 9,
     "metadata": {},
     "output_type": "execute_result"
    }
   ],
   "source": [
    "PMC_published = (\n",
    "    pmc_journal_mapped_df\n",
    "    .query(f\"document in {biorxiv_published.index.tolist()}\")\n",
    "    .sort_values(\"document\", ascending=True)\n",
    "    .set_index(\"document\")\n",
    ")\n",
    "PMC_published.head()"
   ]
  },
  {
   "cell_type": "code",
   "execution_count": 10,
   "metadata": {
    "ExecuteTime": {
     "end_time": "2020-11-09T21:36:08.962163Z",
     "start_time": "2020-11-09T21:35:10.439086Z"
    }
   },
   "outputs": [
    {
     "data": {
      "text/plain": [
       "(17496, 17496)"
      ]
     },
     "execution_count": 10,
     "metadata": {},
     "output_type": "execute_result"
    }
   ],
   "source": [
    "article_distances = cdist(\n",
    "    biorxiv_published\n",
    "    .loc[PMC_published.index.tolist()]\n",
    "    .drop([\"document\", \"published_doi\", \"pmcoa\"], axis=1), \n",
    "    PMC_published\n",
    "    .drop([\"doi\",\"journal\"], axis=1),\n",
    "    'euclidean'\n",
    ")\n",
    "article_distances.shape"
   ]
  },
  {
   "cell_type": "code",
   "execution_count": 11,
   "metadata": {
    "ExecuteTime": {
     "end_time": "2020-11-09T21:36:09.003231Z",
     "start_time": "2020-11-09T21:36:08.963372Z"
    }
   },
   "outputs": [
    {
     "data": {
      "text/html": [
       "<div>\n",
       "<style scoped>\n",
       "    .dataframe tbody tr th:only-of-type {\n",
       "        vertical-align: middle;\n",
       "    }\n",
       "\n",
       "    .dataframe tbody tr th {\n",
       "        vertical-align: top;\n",
       "    }\n",
       "\n",
       "    .dataframe thead th {\n",
       "        text-align: right;\n",
       "    }\n",
       "</style>\n",
       "<table border=\"1\" class=\"dataframe\">\n",
       "  <thead>\n",
       "    <tr style=\"text-align: right;\">\n",
       "      <th></th>\n",
       "      <th>document</th>\n",
       "      <th>pmcid</th>\n",
       "      <th>distance</th>\n",
       "      <th>journal</th>\n",
       "    </tr>\n",
       "  </thead>\n",
       "  <tbody>\n",
       "    <tr>\n",
       "      <th>0</th>\n",
       "      <td>000380_v1.xml</td>\n",
       "      <td>PMC3585962</td>\n",
       "      <td>1.392411</td>\n",
       "      <td>Biochimie</td>\n",
       "    </tr>\n",
       "    <tr>\n",
       "      <th>1</th>\n",
       "      <td>000968_v1.xml</td>\n",
       "      <td>PMC3866385</td>\n",
       "      <td>0.872499</td>\n",
       "      <td>Front_Hum_Neurosci</td>\n",
       "    </tr>\n",
       "    <tr>\n",
       "      <th>2</th>\n",
       "      <td>001297_v2.xml</td>\n",
       "      <td>PMC3893193</td>\n",
       "      <td>1.354614</td>\n",
       "      <td>PLoS_One</td>\n",
       "    </tr>\n",
       "    <tr>\n",
       "      <th>3</th>\n",
       "      <td>000141_v1.xml</td>\n",
       "      <td>PMC3894166</td>\n",
       "      <td>0.972641</td>\n",
       "      <td>PLoS_Comput_Biol</td>\n",
       "    </tr>\n",
       "    <tr>\n",
       "      <th>4</th>\n",
       "      <td>000315_v1.xml</td>\n",
       "      <td>PMC3906208</td>\n",
       "      <td>0.827357</td>\n",
       "      <td>PLoS_One</td>\n",
       "    </tr>\n",
       "  </tbody>\n",
       "</table>\n",
       "</div>"
      ],
      "text/plain": [
       "        document       pmcid  distance             journal\n",
       "0  000380_v1.xml  PMC3585962  1.392411           Biochimie\n",
       "1  000968_v1.xml  PMC3866385  0.872499  Front_Hum_Neurosci\n",
       "2  001297_v2.xml  PMC3893193  1.354614            PLoS_One\n",
       "3  000141_v1.xml  PMC3894166  0.972641    PLoS_Comput_Biol\n",
       "4  000315_v1.xml  PMC3906208  0.827357            PLoS_One"
      ]
     },
     "execution_count": 11,
     "metadata": {},
     "output_type": "execute_result"
    }
   ],
   "source": [
    "articles_distance_df = (\n",
    "    biorxiv_published\n",
    "    .loc[PMC_published.index.tolist()]\n",
    "    .reset_index()\n",
    "    [[\"document\", \"pmcid\"]]\n",
    "    .assign(\n",
    "            distance=np.diag(article_distances, k=0),\n",
    "            journal=PMC_published.journal.tolist()\n",
    "    )\n",
    ")\n",
    "articles_distance_df.head()"
   ]
  },
  {
   "cell_type": "markdown",
   "metadata": {},
   "source": [
    "## biorxiv -> random paper same journal"
   ]
  },
  {
   "cell_type": "code",
   "execution_count": 12,
   "metadata": {
    "ExecuteTime": {
     "end_time": "2020-11-09T21:36:14.181026Z",
     "start_time": "2020-11-09T21:36:09.004178Z"
    }
   },
   "outputs": [
    {
     "data": {
      "text/html": [
       "<div>\n",
       "<style scoped>\n",
       "    .dataframe tbody tr th:only-of-type {\n",
       "        vertical-align: middle;\n",
       "    }\n",
       "\n",
       "    .dataframe tbody tr th {\n",
       "        vertical-align: top;\n",
       "    }\n",
       "\n",
       "    .dataframe thead th {\n",
       "        text-align: right;\n",
       "    }\n",
       "</style>\n",
       "<table border=\"1\" class=\"dataframe\">\n",
       "  <thead>\n",
       "    <tr style=\"text-align: right;\">\n",
       "      <th></th>\n",
       "      <th>journal</th>\n",
       "      <th>document</th>\n",
       "      <th>feat_0</th>\n",
       "      <th>feat_1</th>\n",
       "      <th>feat_2</th>\n",
       "      <th>feat_3</th>\n",
       "      <th>feat_4</th>\n",
       "      <th>feat_5</th>\n",
       "      <th>feat_6</th>\n",
       "      <th>feat_7</th>\n",
       "      <th>...</th>\n",
       "      <th>feat_290</th>\n",
       "      <th>feat_291</th>\n",
       "      <th>feat_292</th>\n",
       "      <th>feat_293</th>\n",
       "      <th>feat_294</th>\n",
       "      <th>feat_295</th>\n",
       "      <th>feat_296</th>\n",
       "      <th>feat_297</th>\n",
       "      <th>feat_298</th>\n",
       "      <th>feat_299</th>\n",
       "    </tr>\n",
       "  </thead>\n",
       "  <tbody>\n",
       "    <tr>\n",
       "      <th>1767448</th>\n",
       "      <td>ACS_Cent_Sci</td>\n",
       "      <td>PMC5571463</td>\n",
       "      <td>-0.677030</td>\n",
       "      <td>-0.490846</td>\n",
       "      <td>-0.741353</td>\n",
       "      <td>0.570429</td>\n",
       "      <td>0.487178</td>\n",
       "      <td>-0.086121</td>\n",
       "      <td>-0.683731</td>\n",
       "      <td>-0.088609</td>\n",
       "      <td>...</td>\n",
       "      <td>0.033188</td>\n",
       "      <td>-0.056555</td>\n",
       "      <td>0.404581</td>\n",
       "      <td>0.125894</td>\n",
       "      <td>-0.468554</td>\n",
       "      <td>-0.118383</td>\n",
       "      <td>0.406614</td>\n",
       "      <td>0.623329</td>\n",
       "      <td>-0.369119</td>\n",
       "      <td>-0.012756</td>\n",
       "    </tr>\n",
       "    <tr>\n",
       "      <th>1068151</th>\n",
       "      <td>ACS_Chem_Biol</td>\n",
       "      <td>PMC4301073</td>\n",
       "      <td>-0.162504</td>\n",
       "      <td>-0.076428</td>\n",
       "      <td>-0.586010</td>\n",
       "      <td>-0.104994</td>\n",
       "      <td>0.022800</td>\n",
       "      <td>-0.306275</td>\n",
       "      <td>-0.327971</td>\n",
       "      <td>0.117899</td>\n",
       "      <td>...</td>\n",
       "      <td>0.612453</td>\n",
       "      <td>-0.108235</td>\n",
       "      <td>0.295738</td>\n",
       "      <td>-0.395565</td>\n",
       "      <td>-0.419562</td>\n",
       "      <td>-0.520783</td>\n",
       "      <td>0.035572</td>\n",
       "      <td>0.203761</td>\n",
       "      <td>-0.590230</td>\n",
       "      <td>0.357272</td>\n",
       "    </tr>\n",
       "    <tr>\n",
       "      <th>1809571</th>\n",
       "      <td>ACS_Nano</td>\n",
       "      <td>PMC4790916</td>\n",
       "      <td>-0.275100</td>\n",
       "      <td>-0.278459</td>\n",
       "      <td>-0.641691</td>\n",
       "      <td>0.187864</td>\n",
       "      <td>0.073597</td>\n",
       "      <td>-0.220199</td>\n",
       "      <td>-0.415956</td>\n",
       "      <td>0.098405</td>\n",
       "      <td>...</td>\n",
       "      <td>0.363933</td>\n",
       "      <td>-0.147958</td>\n",
       "      <td>0.381390</td>\n",
       "      <td>-0.278015</td>\n",
       "      <td>-0.243830</td>\n",
       "      <td>-0.226550</td>\n",
       "      <td>0.266010</td>\n",
       "      <td>0.349118</td>\n",
       "      <td>-0.700667</td>\n",
       "      <td>0.179545</td>\n",
       "    </tr>\n",
       "    <tr>\n",
       "      <th>1531947</th>\n",
       "      <td>ACS_Omega</td>\n",
       "      <td>PMC6868605</td>\n",
       "      <td>-0.109398</td>\n",
       "      <td>-0.418697</td>\n",
       "      <td>-0.614022</td>\n",
       "      <td>0.398614</td>\n",
       "      <td>0.056774</td>\n",
       "      <td>-0.235086</td>\n",
       "      <td>-0.373450</td>\n",
       "      <td>0.116038</td>\n",
       "      <td>...</td>\n",
       "      <td>0.248762</td>\n",
       "      <td>-0.223828</td>\n",
       "      <td>0.257694</td>\n",
       "      <td>-0.332157</td>\n",
       "      <td>-0.177069</td>\n",
       "      <td>-0.461912</td>\n",
       "      <td>0.161302</td>\n",
       "      <td>0.473625</td>\n",
       "      <td>-0.460267</td>\n",
       "      <td>0.083440</td>\n",
       "    </tr>\n",
       "    <tr>\n",
       "      <th>472680</th>\n",
       "      <td>ACS_Synth_Biol</td>\n",
       "      <td>PMC4161666</td>\n",
       "      <td>-0.094321</td>\n",
       "      <td>-0.111716</td>\n",
       "      <td>-0.704025</td>\n",
       "      <td>-0.256490</td>\n",
       "      <td>0.469590</td>\n",
       "      <td>-0.366533</td>\n",
       "      <td>-0.300815</td>\n",
       "      <td>0.274875</td>\n",
       "      <td>...</td>\n",
       "      <td>0.278693</td>\n",
       "      <td>0.236691</td>\n",
       "      <td>0.184397</td>\n",
       "      <td>-0.212639</td>\n",
       "      <td>-0.543930</td>\n",
       "      <td>-0.003095</td>\n",
       "      <td>0.357382</td>\n",
       "      <td>0.222288</td>\n",
       "      <td>-0.288696</td>\n",
       "      <td>0.752761</td>\n",
       "    </tr>\n",
       "  </tbody>\n",
       "</table>\n",
       "<p>5 rows × 302 columns</p>\n",
       "</div>"
      ],
      "text/plain": [
       "                journal    document    feat_0    feat_1    feat_2    feat_3  \\\n",
       "1767448    ACS_Cent_Sci  PMC5571463 -0.677030 -0.490846 -0.741353  0.570429   \n",
       "1068151   ACS_Chem_Biol  PMC4301073 -0.162504 -0.076428 -0.586010 -0.104994   \n",
       "1809571        ACS_Nano  PMC4790916 -0.275100 -0.278459 -0.641691  0.187864   \n",
       "1531947       ACS_Omega  PMC6868605 -0.109398 -0.418697 -0.614022  0.398614   \n",
       "472680   ACS_Synth_Biol  PMC4161666 -0.094321 -0.111716 -0.704025 -0.256490   \n",
       "\n",
       "           feat_4    feat_5    feat_6    feat_7  ...  feat_290  feat_291  \\\n",
       "1767448  0.487178 -0.086121 -0.683731 -0.088609  ...  0.033188 -0.056555   \n",
       "1068151  0.022800 -0.306275 -0.327971  0.117899  ...  0.612453 -0.108235   \n",
       "1809571  0.073597 -0.220199 -0.415956  0.098405  ...  0.363933 -0.147958   \n",
       "1531947  0.056774 -0.235086 -0.373450  0.116038  ...  0.248762 -0.223828   \n",
       "472680   0.469590 -0.366533 -0.300815  0.274875  ...  0.278693  0.236691   \n",
       "\n",
       "         feat_292  feat_293  feat_294  feat_295  feat_296  feat_297  feat_298  \\\n",
       "1767448  0.404581  0.125894 -0.468554 -0.118383  0.406614  0.623329 -0.369119   \n",
       "1068151  0.295738 -0.395565 -0.419562 -0.520783  0.035572  0.203761 -0.590230   \n",
       "1809571  0.381390 -0.278015 -0.243830 -0.226550  0.266010  0.349118 -0.700667   \n",
       "1531947  0.257694 -0.332157 -0.177069 -0.461912  0.161302  0.473625 -0.460267   \n",
       "472680   0.184397 -0.212639 -0.543930 -0.003095  0.357382  0.222288 -0.288696   \n",
       "\n",
       "         feat_299  \n",
       "1767448 -0.012756  \n",
       "1068151  0.357272  \n",
       "1809571  0.179545  \n",
       "1531947  0.083440  \n",
       "472680   0.752761  \n",
       "\n",
       "[5 rows x 302 columns]"
      ]
     },
     "execution_count": 12,
     "metadata": {},
     "output_type": "execute_result"
    }
   ],
   "source": [
    "PMC_off_published = (\n",
    "    pmc_journal_mapped_df\n",
    "    .drop(\"doi\", axis=1)\n",
    "    .query(f\"document not in {biorxiv_published.index.tolist()}\")\n",
    "    .query(f\"journal in {articles_distance_df.journal.unique().tolist()}\")\n",
    "    .groupby(\"journal\", group_keys=False)\n",
    "    .apply(lambda x: x.sample(1, random_state=100))\n",
    ")\n",
    "PMC_off_published.head()"
   ]
  },
  {
   "cell_type": "code",
   "execution_count": 13,
   "metadata": {
    "ExecuteTime": {
     "end_time": "2020-11-09T21:36:14.186214Z",
     "start_time": "2020-11-09T21:36:14.182276Z"
    }
   },
   "outputs": [
    {
     "data": {
      "text/plain": [
       "[('ACS_Cent_Sci', 0),\n",
       " ('ACS_Chem_Biol', 1),\n",
       " ('ACS_Nano', 2),\n",
       " ('ACS_Omega', 3),\n",
       " ('ACS_Synth_Biol', 4),\n",
       " ('AIDS', 5),\n",
       " ('AIDS_Res_Hum_Retroviruses', 6),\n",
       " ('AIMS_Genet', 7),\n",
       " ('AMB_Express', 8),\n",
       " ('APL_Bioeng', 9)]"
      ]
     },
     "execution_count": 13,
     "metadata": {},
     "output_type": "execute_result"
    }
   ],
   "source": [
    "journal_mapper = {\n",
    "    journal:col\n",
    "    for col, journal in enumerate(PMC_off_published.journal.tolist())\n",
    "}\n",
    "list(journal_mapper.items())[0:10]"
   ]
  },
  {
   "cell_type": "code",
   "execution_count": 14,
   "metadata": {
    "ExecuteTime": {
     "end_time": "2020-11-09T21:36:16.713028Z",
     "start_time": "2020-11-09T21:36:14.187137Z"
    }
   },
   "outputs": [
    {
     "data": {
      "text/plain": [
       "(17496, 916)"
      ]
     },
     "execution_count": 14,
     "metadata": {},
     "output_type": "execute_result"
    }
   ],
   "source": [
    "off_article_dist = cdist(\n",
    "    biorxiv_published\n",
    "    .loc[PMC_published.index.tolist()]\n",
    "    .drop([\"document\", \"published_doi\", \"pmcoa\"], axis=1)\n",
    "    .values, \n",
    "    PMC_off_published\n",
    "    .drop([\"document\", \"journal\"], axis=1)\n",
    "    .values,\n",
    "    'euclidean'\n",
    ")\n",
    "off_article_dist.shape"
   ]
  },
  {
   "cell_type": "code",
   "execution_count": 15,
   "metadata": {
    "ExecuteTime": {
     "end_time": "2020-11-09T21:37:53.568080Z",
     "start_time": "2020-11-09T21:36:16.714115Z"
    }
   },
   "outputs": [
    {
     "name": "stderr",
     "output_type": "stream",
     "text": [
      "17496it [01:36, 180.65it/s]\n"
     ]
    }
   ],
   "source": [
    "data = []\n",
    "for idx, row in tqdm.tqdm(articles_distance_df.iterrows()):\n",
    "    if row['journal'] in journal_mapper:\n",
    "        data.append(\n",
    "            {\n",
    "                \"document\": row['document'],\n",
    "                \"pmcid\":  (\n",
    "                    PMC_off_published\n",
    "                    .query(f\"journal=='{row['journal']}'\")\n",
    "                    .reset_index()\n",
    "                    .document\n",
    "                    .values[0]\n",
    "                ),\n",
    "                \"journal\": row['journal'],\n",
    "                \"distance\": off_article_dist[idx, journal_mapper[row['journal']]]\n",
    "            }\n",
    "        )"
   ]
  },
  {
   "cell_type": "code",
   "execution_count": 16,
   "metadata": {
    "ExecuteTime": {
     "end_time": "2020-11-09T21:37:53.599822Z",
     "start_time": "2020-11-09T21:37:53.569167Z"
    }
   },
   "outputs": [
    {
     "data": {
      "text/html": [
       "<div>\n",
       "<style scoped>\n",
       "    .dataframe tbody tr th:only-of-type {\n",
       "        vertical-align: middle;\n",
       "    }\n",
       "\n",
       "    .dataframe tbody tr th {\n",
       "        vertical-align: top;\n",
       "    }\n",
       "\n",
       "    .dataframe thead th {\n",
       "        text-align: right;\n",
       "    }\n",
       "</style>\n",
       "<table border=\"1\" class=\"dataframe\">\n",
       "  <thead>\n",
       "    <tr style=\"text-align: right;\">\n",
       "      <th></th>\n",
       "      <th>document</th>\n",
       "      <th>pmcid</th>\n",
       "      <th>distance</th>\n",
       "      <th>journal</th>\n",
       "      <th>label</th>\n",
       "    </tr>\n",
       "  </thead>\n",
       "  <tbody>\n",
       "    <tr>\n",
       "      <th>0</th>\n",
       "      <td>000380_v1.xml</td>\n",
       "      <td>PMC3585962</td>\n",
       "      <td>1.392411</td>\n",
       "      <td>Biochimie</td>\n",
       "      <td>pre_vs_published</td>\n",
       "    </tr>\n",
       "    <tr>\n",
       "      <th>1</th>\n",
       "      <td>000968_v1.xml</td>\n",
       "      <td>PMC3866385</td>\n",
       "      <td>0.872499</td>\n",
       "      <td>Front_Hum_Neurosci</td>\n",
       "      <td>pre_vs_published</td>\n",
       "    </tr>\n",
       "    <tr>\n",
       "      <th>2</th>\n",
       "      <td>001297_v2.xml</td>\n",
       "      <td>PMC3893193</td>\n",
       "      <td>1.354614</td>\n",
       "      <td>PLoS_One</td>\n",
       "      <td>pre_vs_published</td>\n",
       "    </tr>\n",
       "    <tr>\n",
       "      <th>3</th>\n",
       "      <td>000141_v1.xml</td>\n",
       "      <td>PMC3894166</td>\n",
       "      <td>0.972641</td>\n",
       "      <td>PLoS_Comput_Biol</td>\n",
       "      <td>pre_vs_published</td>\n",
       "    </tr>\n",
       "    <tr>\n",
       "      <th>4</th>\n",
       "      <td>000315_v1.xml</td>\n",
       "      <td>PMC3906208</td>\n",
       "      <td>0.827357</td>\n",
       "      <td>PLoS_One</td>\n",
       "      <td>pre_vs_published</td>\n",
       "    </tr>\n",
       "  </tbody>\n",
       "</table>\n",
       "</div>"
      ],
      "text/plain": [
       "        document       pmcid  distance             journal             label\n",
       "0  000380_v1.xml  PMC3585962  1.392411           Biochimie  pre_vs_published\n",
       "1  000968_v1.xml  PMC3866385  0.872499  Front_Hum_Neurosci  pre_vs_published\n",
       "2  001297_v2.xml  PMC3893193  1.354614            PLoS_One  pre_vs_published\n",
       "3  000141_v1.xml  PMC3894166  0.972641    PLoS_Comput_Biol  pre_vs_published\n",
       "4  000315_v1.xml  PMC3906208  0.827357            PLoS_One  pre_vs_published"
      ]
     },
     "execution_count": 16,
     "metadata": {},
     "output_type": "execute_result"
    }
   ],
   "source": [
    "final_df = (\n",
    "    articles_distance_df\n",
    "    .assign(label=\"pre_vs_published\")\n",
    "    .append(\n",
    "        pd.DataFrame\n",
    "        .from_records(data)\n",
    "        .assign(label=\"pre_vs_random\")\n",
    "    )\n",
    ")\n",
    "final_df.head()"
   ]
  },
  {
   "cell_type": "code",
   "execution_count": 17,
   "metadata": {
    "ExecuteTime": {
     "end_time": "2020-11-09T21:37:53.825245Z",
     "start_time": "2020-11-09T21:37:53.601282Z"
    }
   },
   "outputs": [
    {
     "data": {
      "text/html": [
       "<div>\n",
       "<style scoped>\n",
       "    .dataframe tbody tr th:only-of-type {\n",
       "        vertical-align: middle;\n",
       "    }\n",
       "\n",
       "    .dataframe tbody tr th {\n",
       "        vertical-align: top;\n",
       "    }\n",
       "\n",
       "    .dataframe thead th {\n",
       "        text-align: right;\n",
       "    }\n",
       "</style>\n",
       "<table border=\"1\" class=\"dataframe\">\n",
       "  <thead>\n",
       "    <tr style=\"text-align: right;\">\n",
       "      <th></th>\n",
       "      <th>document</th>\n",
       "      <th>preprint_doi</th>\n",
       "      <th>pmcid</th>\n",
       "      <th>distance</th>\n",
       "      <th>journal</th>\n",
       "      <th>label</th>\n",
       "    </tr>\n",
       "  </thead>\n",
       "  <tbody>\n",
       "    <tr>\n",
       "      <th>0</th>\n",
       "      <td>000026_v1.xml</td>\n",
       "      <td>10.1101/000026</td>\n",
       "      <td>PMC4125079</td>\n",
       "      <td>1.640911</td>\n",
       "      <td>PLoS_Genet</td>\n",
       "      <td>pre_vs_published</td>\n",
       "    </tr>\n",
       "    <tr>\n",
       "      <th>1</th>\n",
       "      <td>000026_v1.xml</td>\n",
       "      <td>10.1101/000026</td>\n",
       "      <td>PMC2748686</td>\n",
       "      <td>3.884264</td>\n",
       "      <td>PLoS_Genet</td>\n",
       "      <td>pre_vs_random</td>\n",
       "    </tr>\n",
       "    <tr>\n",
       "      <th>2</th>\n",
       "      <td>000067_v1.xml</td>\n",
       "      <td>10.1101/000067</td>\n",
       "      <td>PMC4285441</td>\n",
       "      <td>1.683717</td>\n",
       "      <td>Nature</td>\n",
       "      <td>pre_vs_published</td>\n",
       "    </tr>\n",
       "    <tr>\n",
       "      <th>3</th>\n",
       "      <td>000067_v1.xml</td>\n",
       "      <td>10.1101/000067</td>\n",
       "      <td>PMC6175059</td>\n",
       "      <td>7.796365</td>\n",
       "      <td>Nature</td>\n",
       "      <td>pre_vs_random</td>\n",
       "    </tr>\n",
       "    <tr>\n",
       "      <th>4</th>\n",
       "      <td>000109_v1.xml</td>\n",
       "      <td>10.1101/000109</td>\n",
       "      <td>PMC4072524</td>\n",
       "      <td>1.244658</td>\n",
       "      <td>PLoS_Genet</td>\n",
       "      <td>pre_vs_published</td>\n",
       "    </tr>\n",
       "  </tbody>\n",
       "</table>\n",
       "</div>"
      ],
      "text/plain": [
       "        document    preprint_doi       pmcid  distance     journal  \\\n",
       "0  000026_v1.xml  10.1101/000026  PMC4125079  1.640911  PLoS_Genet   \n",
       "1  000026_v1.xml  10.1101/000026  PMC2748686  3.884264  PLoS_Genet   \n",
       "2  000067_v1.xml  10.1101/000067  PMC4285441  1.683717      Nature   \n",
       "3  000067_v1.xml  10.1101/000067  PMC6175059  7.796365      Nature   \n",
       "4  000109_v1.xml  10.1101/000109  PMC4072524  1.244658  PLoS_Genet   \n",
       "\n",
       "              label  \n",
       "0  pre_vs_published  \n",
       "1     pre_vs_random  \n",
       "2  pre_vs_published  \n",
       "3     pre_vs_random  \n",
       "4  pre_vs_published  "
      ]
     },
     "execution_count": 17,
     "metadata": {},
     "output_type": "execute_result"
    }
   ],
   "source": [
    "final_df = (\n",
    "    biorxiv_journal_df[[\"document\", \"preprint_doi\"]]\n",
    "    .merge(final_df)\n",
    ")\n",
    "final_df.to_csv(\"output/annotated_links/article_distances.tsv\", sep=\"\\t\", index=False)\n",
    "final_df.head()"
   ]
  },
  {
   "cell_type": "markdown",
   "metadata": {
    "ExecuteTime": {
     "end_time": "2020-06-23T18:33:46.540866Z",
     "start_time": "2020-06-23T18:33:46.532754Z"
    }
   },
   "source": [
    "# Distribution plot"
   ]
  },
  {
   "cell_type": "code",
   "execution_count": 18,
   "metadata": {
    "ExecuteTime": {
     "end_time": "2020-11-09T21:38:29.612057Z",
     "start_time": "2020-11-09T21:37:53.826418Z"
    }
   },
   "outputs": [
    {
     "name": "stderr",
     "output_type": "stream",
     "text": [
      "/home/danich1/anaconda3/envs/annorxiver/lib/python3.7/site-packages/plotnine/ggplot.py:729: PlotnineWarning: Saving 6.4 x 4.8 in image.\n",
      "/home/danich1/anaconda3/envs/annorxiver/lib/python3.7/site-packages/plotnine/ggplot.py:730: PlotnineWarning: Filename: output/figures/biorxiv_article_distance.svg\n",
      "/home/danich1/anaconda3/envs/annorxiver/lib/python3.7/site-packages/plotnine/ggplot.py:729: PlotnineWarning: Saving 6.4 x 4.8 in image.\n",
      "/home/danich1/anaconda3/envs/annorxiver/lib/python3.7/site-packages/plotnine/ggplot.py:730: PlotnineWarning: Filename: output/figures/biorxiv_article_distance.png\n"
     ]
    },
    {
     "data": {
      "image/png": "[encoded data removed]",
      "text/plain": [
       "<Figure size 640x480 with 1 Axes>"
      ]
     },
     "metadata": {},
     "output_type": "display_data"
    },
    {
     "name": "stdout",
     "output_type": "stream",
     "text": [
      "<ggplot: (8770620015389)>\n"
     ]
    }
   ],
   "source": [
    "g = (\n",
    "    p9.ggplot(\n",
    "        final_df.replace({\n",
    "            \"pre_vs_published\":\"preprint-published\", \n",
    "            \"pre_vs_random\":\"preprint-random\"\n",
    "        })\n",
    "    )\n",
    "    + p9.aes(x=\"label\",y=\"distance\")\n",
    "    + p9.geom_violin(fill=\"#a6cee3\")\n",
    "    + p9.labs(\n",
    "        x=\"Document Pair Groups\",\n",
    "        y=\"Euclidean Distance\"\n",
    "    )\n",
    "    + p9.theme_seaborn(\n",
    "        context=\"paper\",\n",
    "        style=\"ticks\",\n",
    "        font=\"Arial\",\n",
    "        font_scale=1.35\n",
    "    )\n",
    ")\n",
    "g.save(\"output/figures/biorxiv_article_distance.svg\", dpi=250)\n",
    "g.save(\"output/figures/biorxiv_article_distance.png\", dpi=250)\n",
    "print(g)"
   ]
  },
  {
   "cell_type": "markdown",
   "metadata": {},
   "source": [
    "# Logistic Regression bioRxiv preprints -> published PMC articles"
   ]
  },
  {
   "cell_type": "code",
   "execution_count": 19,
   "metadata": {
    "ExecuteTime": {
     "end_time": "2020-07-07T16:30:17.184043Z",
     "start_time": "2020-07-07T16:30:17.181641Z"
    }
   },
   "outputs": [],
   "source": [
    "model = LogisticRegressionCV(\n",
    "    Cs=5, cv=10, random_state=100,\n",
    "    penalty='elasticnet', solver='saga',\n",
    "    l1_ratios=[0.1, 0.5, 0.8], verbose=2\n",
    ")"
   ]
  },
  {
   "cell_type": "code",
   "execution_count": 20,
   "metadata": {
    "ExecuteTime": {
     "end_time": "2020-07-07T16:30:17.317801Z",
     "start_time": "2020-07-07T16:30:17.185258Z"
    }
   },
   "outputs": [
    {
     "name": "stderr",
     "output_type": "stream",
     "text": [
      "/home/danich1/anaconda3/envs/annorxiver/lib/python3.7/site-packages/ipykernel_launcher.py:8: FutureWarning: \n",
      "Passing list-likes to .loc or [] with any missing label will raise\n",
      "KeyError in the future, you can use .reindex() as an alternative.\n",
      "\n",
      "See the documentation here:\n",
      "https://pandas.pydata.org/pandas-docs/stable/user_guide/indexing.html#deprecate-loc-reindex-listlike\n",
      "  \n"
     ]
    },
    {
     "data": {
      "text/html": [
       "<div>\n",
       "<style scoped>\n",
       "    .dataframe tbody tr th:only-of-type {\n",
       "        vertical-align: middle;\n",
       "    }\n",
       "\n",
       "    .dataframe tbody tr th {\n",
       "        vertical-align: top;\n",
       "    }\n",
       "\n",
       "    .dataframe thead th {\n",
       "        text-align: right;\n",
       "    }\n",
       "</style>\n",
       "<table border=\"1\" class=\"dataframe\">\n",
       "  <thead>\n",
       "    <tr style=\"text-align: right;\">\n",
       "      <th></th>\n",
       "      <th>feat_0</th>\n",
       "      <th>feat_1</th>\n",
       "      <th>feat_2</th>\n",
       "      <th>feat_3</th>\n",
       "      <th>feat_4</th>\n",
       "      <th>feat_5</th>\n",
       "      <th>feat_6</th>\n",
       "      <th>feat_7</th>\n",
       "      <th>feat_8</th>\n",
       "      <th>feat_9</th>\n",
       "      <th>...</th>\n",
       "      <th>feat_292</th>\n",
       "      <th>feat_293</th>\n",
       "      <th>feat_294</th>\n",
       "      <th>feat_295</th>\n",
       "      <th>feat_296</th>\n",
       "      <th>feat_297</th>\n",
       "      <th>feat_298</th>\n",
       "      <th>feat_299</th>\n",
       "      <th>biorxiv_document</th>\n",
       "      <th>true_link</th>\n",
       "    </tr>\n",
       "  </thead>\n",
       "  <tbody>\n",
       "    <tr>\n",
       "      <td>PMC3585962</td>\n",
       "      <td>0.009064</td>\n",
       "      <td>-0.000823</td>\n",
       "      <td>-0.043496</td>\n",
       "      <td>0.061395</td>\n",
       "      <td>-0.123143</td>\n",
       "      <td>-0.000249</td>\n",
       "      <td>-0.003949</td>\n",
       "      <td>0.041907</td>\n",
       "      <td>-0.147803</td>\n",
       "      <td>-0.016656</td>\n",
       "      <td>...</td>\n",
       "      <td>-0.061430</td>\n",
       "      <td>-0.027216</td>\n",
       "      <td>0.063225</td>\n",
       "      <td>-0.003946</td>\n",
       "      <td>-0.159734</td>\n",
       "      <td>-0.054504</td>\n",
       "      <td>-0.026808</td>\n",
       "      <td>0.157170</td>\n",
       "      <td>000380_v1.xml</td>\n",
       "      <td>1</td>\n",
       "    </tr>\n",
       "    <tr>\n",
       "      <td>PMC3866385</td>\n",
       "      <td>-0.014535</td>\n",
       "      <td>-0.032770</td>\n",
       "      <td>-0.091847</td>\n",
       "      <td>0.034921</td>\n",
       "      <td>-0.120255</td>\n",
       "      <td>-0.051310</td>\n",
       "      <td>0.051741</td>\n",
       "      <td>0.039426</td>\n",
       "      <td>0.042513</td>\n",
       "      <td>-0.048026</td>\n",
       "      <td>...</td>\n",
       "      <td>-0.015112</td>\n",
       "      <td>-0.065617</td>\n",
       "      <td>-0.048685</td>\n",
       "      <td>-0.002945</td>\n",
       "      <td>-0.076812</td>\n",
       "      <td>-0.027028</td>\n",
       "      <td>-0.069290</td>\n",
       "      <td>-0.037080</td>\n",
       "      <td>000968_v1.xml</td>\n",
       "      <td>1</td>\n",
       "    </tr>\n",
       "    <tr>\n",
       "      <td>PMC3893193</td>\n",
       "      <td>-0.031233</td>\n",
       "      <td>-0.011245</td>\n",
       "      <td>-0.069128</td>\n",
       "      <td>0.033117</td>\n",
       "      <td>-0.140701</td>\n",
       "      <td>0.026707</td>\n",
       "      <td>0.001418</td>\n",
       "      <td>0.004358</td>\n",
       "      <td>-0.092967</td>\n",
       "      <td>-0.058892</td>\n",
       "      <td>...</td>\n",
       "      <td>0.003965</td>\n",
       "      <td>-0.135352</td>\n",
       "      <td>-0.015026</td>\n",
       "      <td>-0.054742</td>\n",
       "      <td>-0.122125</td>\n",
       "      <td>-0.061497</td>\n",
       "      <td>-0.017010</td>\n",
       "      <td>0.046472</td>\n",
       "      <td>001297_v2.xml</td>\n",
       "      <td>1</td>\n",
       "    </tr>\n",
       "    <tr>\n",
       "      <td>PMC3894166</td>\n",
       "      <td>0.014085</td>\n",
       "      <td>0.019877</td>\n",
       "      <td>-0.012712</td>\n",
       "      <td>-0.025261</td>\n",
       "      <td>-0.056740</td>\n",
       "      <td>-0.045135</td>\n",
       "      <td>0.018056</td>\n",
       "      <td>-0.004632</td>\n",
       "      <td>0.016861</td>\n",
       "      <td>0.010429</td>\n",
       "      <td>...</td>\n",
       "      <td>-0.015639</td>\n",
       "      <td>-0.087745</td>\n",
       "      <td>-0.006762</td>\n",
       "      <td>-0.045700</td>\n",
       "      <td>-0.015641</td>\n",
       "      <td>-0.039882</td>\n",
       "      <td>-0.045169</td>\n",
       "      <td>0.054353</td>\n",
       "      <td>000141_v1.xml</td>\n",
       "      <td>1</td>\n",
       "    </tr>\n",
       "    <tr>\n",
       "      <td>PMC3906208</td>\n",
       "      <td>-0.042190</td>\n",
       "      <td>0.006590</td>\n",
       "      <td>0.027834</td>\n",
       "      <td>-0.041590</td>\n",
       "      <td>-0.102061</td>\n",
       "      <td>0.005926</td>\n",
       "      <td>0.024729</td>\n",
       "      <td>-0.012260</td>\n",
       "      <td>-0.083363</td>\n",
       "      <td>-0.016308</td>\n",
       "      <td>...</td>\n",
       "      <td>-0.000110</td>\n",
       "      <td>-0.022076</td>\n",
       "      <td>-0.040525</td>\n",
       "      <td>-0.006139</td>\n",
       "      <td>-0.075874</td>\n",
       "      <td>-0.057256</td>\n",
       "      <td>0.037127</td>\n",
       "      <td>0.005347</td>\n",
       "      <td>000315_v1.xml</td>\n",
       "      <td>1</td>\n",
       "    </tr>\n",
       "  </tbody>\n",
       "</table>\n",
       "<p>5 rows × 302 columns</p>\n",
       "</div>"
      ],
      "text/plain": [
       "              feat_0    feat_1    feat_2    feat_3    feat_4    feat_5  \\\n",
       "PMC3585962  0.009064 -0.000823 -0.043496  0.061395 -0.123143 -0.000249   \n",
       "PMC3866385 -0.014535 -0.032770 -0.091847  0.034921 -0.120255 -0.051310   \n",
       "PMC3893193 -0.031233 -0.011245 -0.069128  0.033117 -0.140701  0.026707   \n",
       "PMC3894166  0.014085  0.019877 -0.012712 -0.025261 -0.056740 -0.045135   \n",
       "PMC3906208 -0.042190  0.006590  0.027834 -0.041590 -0.102061  0.005926   \n",
       "\n",
       "              feat_6    feat_7    feat_8    feat_9  ...  feat_292  feat_293  \\\n",
       "PMC3585962 -0.003949  0.041907 -0.147803 -0.016656  ... -0.061430 -0.027216   \n",
       "PMC3866385  0.051741  0.039426  0.042513 -0.048026  ... -0.015112 -0.065617   \n",
       "PMC3893193  0.001418  0.004358 -0.092967 -0.058892  ...  0.003965 -0.135352   \n",
       "PMC3894166  0.018056 -0.004632  0.016861  0.010429  ... -0.015639 -0.087745   \n",
       "PMC3906208  0.024729 -0.012260 -0.083363 -0.016308  ... -0.000110 -0.022076   \n",
       "\n",
       "            feat_294  feat_295  feat_296  feat_297  feat_298  feat_299  \\\n",
       "PMC3585962  0.063225 -0.003946 -0.159734 -0.054504 -0.026808  0.157170   \n",
       "PMC3866385 -0.048685 -0.002945 -0.076812 -0.027028 -0.069290 -0.037080   \n",
       "PMC3893193 -0.015026 -0.054742 -0.122125 -0.061497 -0.017010  0.046472   \n",
       "PMC3894166 -0.006762 -0.045700 -0.015641 -0.039882 -0.045169  0.054353   \n",
       "PMC3906208 -0.040525 -0.006139 -0.075874 -0.057256  0.037127  0.005347   \n",
       "\n",
       "            biorxiv_document  true_link  \n",
       "PMC3585962     000380_v1.xml          1  \n",
       "PMC3866385     000968_v1.xml          1  \n",
       "PMC3893193     001297_v2.xml          1  \n",
       "PMC3894166     000141_v1.xml          1  \n",
       "PMC3906208     000315_v1.xml          1  \n",
       "\n",
       "[5 rows x 302 columns]"
      ]
     },
     "execution_count": 20,
     "metadata": {},
     "output_type": "execute_result"
    }
   ],
   "source": [
    "training_dataset=(\n",
    "    (\n",
    "        biorxiv_published\n",
    "        .dropna()\n",
    "        .drop([\"document\", \"published_doi\", \"pmcoa\"], axis=1)\n",
    "        -\n",
    "        PMC_published\n",
    "        .loc[biorxiv_published.index.tolist()]\n",
    "        .dropna()\n",
    "        .drop([\"journal\", \"doi\"], axis=1)\n",
    "    )\n",
    "    .assign(\n",
    "        biorxiv_document=biorxiv_published.document.values,\n",
    "        true_link=1\n",
    "    )\n",
    ")\n",
    "training_dataset.head()"
   ]
  },
  {
   "cell_type": "code",
   "execution_count": 21,
   "metadata": {
    "ExecuteTime": {
     "end_time": "2020-07-07T16:30:17.391660Z",
     "start_time": "2020-07-07T16:30:17.319061Z"
    }
   },
   "outputs": [
    {
     "name": "stderr",
     "output_type": "stream",
     "text": [
      "/home/danich1/anaconda3/envs/annorxiver/lib/python3.7/site-packages/ipykernel_launcher.py:3: FutureWarning: \n",
      "Passing list-likes to .loc or [] with any missing label will raise\n",
      "KeyError in the future, you can use .reindex() as an alternative.\n",
      "\n",
      "See the documentation here:\n",
      "https://pandas.pydata.org/pandas-docs/stable/user_guide/indexing.html#deprecate-loc-reindex-listlike\n",
      "  This is separate from the ipykernel package so we can avoid doing imports until\n"
     ]
    }
   ],
   "source": [
    "journals = (\n",
    "    PMC_published\n",
    "    .loc[biorxiv_published.index.tolist()]\n",
    "    .query(f\"journal in {PMC_off_published.journal.tolist()}\")\n",
    "    .journal\n",
    "    .values\n",
    "    .tolist()\n",
    ")"
   ]
  },
  {
   "cell_type": "code",
   "execution_count": 22,
   "metadata": {
    "ExecuteTime": {
     "end_time": "2020-07-07T16:30:17.465721Z",
     "start_time": "2020-07-07T16:30:17.392938Z"
    }
   },
   "outputs": [
    {
     "name": "stderr",
     "output_type": "stream",
     "text": [
      "/home/danich1/anaconda3/envs/annorxiver/lib/python3.7/site-packages/ipykernel_launcher.py:3: FutureWarning: \n",
      "Passing list-likes to .loc or [] with any missing label will raise\n",
      "KeyError in the future, you can use .reindex() as an alternative.\n",
      "\n",
      "See the documentation here:\n",
      "https://pandas.pydata.org/pandas-docs/stable/user_guide/indexing.html#deprecate-loc-reindex-listlike\n",
      "  This is separate from the ipykernel package so we can avoid doing imports until\n"
     ]
    }
   ],
   "source": [
    "off_documents = (\n",
    "    PMC_published\n",
    "    .loc[biorxiv_published.index.tolist()]\n",
    "    .query(f\"journal in {PMC_off_published.journal.tolist()}\")\n",
    "    .index\n",
    "    .tolist()\n",
    ")"
   ]
  },
  {
   "cell_type": "code",
   "execution_count": 23,
   "metadata": {
    "ExecuteTime": {
     "end_time": "2020-07-07T16:30:17.597768Z",
     "start_time": "2020-07-07T16:30:17.467696Z"
    }
   },
   "outputs": [
    {
     "data": {
      "text/html": [
       "<div>\n",
       "<style scoped>\n",
       "    .dataframe tbody tr th:only-of-type {\n",
       "        vertical-align: middle;\n",
       "    }\n",
       "\n",
       "    .dataframe tbody tr th {\n",
       "        vertical-align: top;\n",
       "    }\n",
       "\n",
       "    .dataframe thead th {\n",
       "        text-align: right;\n",
       "    }\n",
       "</style>\n",
       "<table border=\"1\" class=\"dataframe\">\n",
       "  <thead>\n",
       "    <tr style=\"text-align: right;\">\n",
       "      <th></th>\n",
       "      <th>feat_0</th>\n",
       "      <th>feat_1</th>\n",
       "      <th>feat_10</th>\n",
       "      <th>feat_100</th>\n",
       "      <th>feat_101</th>\n",
       "      <th>feat_102</th>\n",
       "      <th>feat_103</th>\n",
       "      <th>feat_104</th>\n",
       "      <th>feat_105</th>\n",
       "      <th>feat_106</th>\n",
       "      <th>...</th>\n",
       "      <th>feat_91</th>\n",
       "      <th>feat_92</th>\n",
       "      <th>feat_93</th>\n",
       "      <th>feat_94</th>\n",
       "      <th>feat_95</th>\n",
       "      <th>feat_96</th>\n",
       "      <th>feat_97</th>\n",
       "      <th>feat_98</th>\n",
       "      <th>feat_99</th>\n",
       "      <th>true_link</th>\n",
       "    </tr>\n",
       "  </thead>\n",
       "  <tbody>\n",
       "    <tr>\n",
       "      <td>0</td>\n",
       "      <td>0.009064</td>\n",
       "      <td>-0.000823</td>\n",
       "      <td>0.023797</td>\n",
       "      <td>-0.046164</td>\n",
       "      <td>0.068757</td>\n",
       "      <td>-0.007358</td>\n",
       "      <td>-0.138738</td>\n",
       "      <td>-0.023491</td>\n",
       "      <td>0.056129</td>\n",
       "      <td>-0.112846</td>\n",
       "      <td>...</td>\n",
       "      <td>-0.038536</td>\n",
       "      <td>0.083080</td>\n",
       "      <td>0.004578</td>\n",
       "      <td>-0.042012</td>\n",
       "      <td>0.032515</td>\n",
       "      <td>-0.011364</td>\n",
       "      <td>0.026318</td>\n",
       "      <td>0.012145</td>\n",
       "      <td>-0.159117</td>\n",
       "      <td>1</td>\n",
       "    </tr>\n",
       "    <tr>\n",
       "      <td>1</td>\n",
       "      <td>-0.014535</td>\n",
       "      <td>-0.032770</td>\n",
       "      <td>-0.036483</td>\n",
       "      <td>0.032781</td>\n",
       "      <td>0.046944</td>\n",
       "      <td>-0.023940</td>\n",
       "      <td>-0.021749</td>\n",
       "      <td>-0.022915</td>\n",
       "      <td>0.025358</td>\n",
       "      <td>-0.000589</td>\n",
       "      <td>...</td>\n",
       "      <td>0.032973</td>\n",
       "      <td>0.091818</td>\n",
       "      <td>0.028400</td>\n",
       "      <td>0.028328</td>\n",
       "      <td>0.018053</td>\n",
       "      <td>-0.009167</td>\n",
       "      <td>-0.009260</td>\n",
       "      <td>0.057351</td>\n",
       "      <td>0.005674</td>\n",
       "      <td>1</td>\n",
       "    </tr>\n",
       "    <tr>\n",
       "      <td>2</td>\n",
       "      <td>-0.031233</td>\n",
       "      <td>-0.011245</td>\n",
       "      <td>-0.059920</td>\n",
       "      <td>-0.048860</td>\n",
       "      <td>0.046043</td>\n",
       "      <td>-0.099474</td>\n",
       "      <td>-0.123049</td>\n",
       "      <td>0.027652</td>\n",
       "      <td>0.089800</td>\n",
       "      <td>-0.089618</td>\n",
       "      <td>...</td>\n",
       "      <td>-0.032178</td>\n",
       "      <td>0.045831</td>\n",
       "      <td>-0.001445</td>\n",
       "      <td>-0.015592</td>\n",
       "      <td>0.033533</td>\n",
       "      <td>0.017725</td>\n",
       "      <td>-0.045323</td>\n",
       "      <td>0.002169</td>\n",
       "      <td>-0.068280</td>\n",
       "      <td>1</td>\n",
       "    </tr>\n",
       "    <tr>\n",
       "      <td>3</td>\n",
       "      <td>0.014085</td>\n",
       "      <td>0.019877</td>\n",
       "      <td>-0.096678</td>\n",
       "      <td>-0.092069</td>\n",
       "      <td>0.004430</td>\n",
       "      <td>-0.054995</td>\n",
       "      <td>-0.097458</td>\n",
       "      <td>-0.081546</td>\n",
       "      <td>-0.040478</td>\n",
       "      <td>-0.046230</td>\n",
       "      <td>...</td>\n",
       "      <td>0.046318</td>\n",
       "      <td>0.003453</td>\n",
       "      <td>-0.030622</td>\n",
       "      <td>-0.048440</td>\n",
       "      <td>-0.026411</td>\n",
       "      <td>-0.007505</td>\n",
       "      <td>0.017432</td>\n",
       "      <td>-0.041739</td>\n",
       "      <td>-0.053863</td>\n",
       "      <td>1</td>\n",
       "    </tr>\n",
       "    <tr>\n",
       "      <td>4</td>\n",
       "      <td>-0.042190</td>\n",
       "      <td>0.006590</td>\n",
       "      <td>-0.008508</td>\n",
       "      <td>0.003562</td>\n",
       "      <td>-0.020626</td>\n",
       "      <td>-0.004356</td>\n",
       "      <td>-0.047743</td>\n",
       "      <td>0.002162</td>\n",
       "      <td>0.006244</td>\n",
       "      <td>-0.029538</td>\n",
       "      <td>...</td>\n",
       "      <td>0.066111</td>\n",
       "      <td>0.031721</td>\n",
       "      <td>0.070657</td>\n",
       "      <td>0.015557</td>\n",
       "      <td>0.039802</td>\n",
       "      <td>0.012338</td>\n",
       "      <td>0.055734</td>\n",
       "      <td>0.021399</td>\n",
       "      <td>-0.013729</td>\n",
       "      <td>1</td>\n",
       "    </tr>\n",
       "  </tbody>\n",
       "</table>\n",
       "<p>5 rows × 301 columns</p>\n",
       "</div>"
      ],
      "text/plain": [
       "     feat_0    feat_1   feat_10  feat_100  feat_101  feat_102  feat_103  \\\n",
       "0  0.009064 -0.000823  0.023797 -0.046164  0.068757 -0.007358 -0.138738   \n",
       "1 -0.014535 -0.032770 -0.036483  0.032781  0.046944 -0.023940 -0.021749   \n",
       "2 -0.031233 -0.011245 -0.059920 -0.048860  0.046043 -0.099474 -0.123049   \n",
       "3  0.014085  0.019877 -0.096678 -0.092069  0.004430 -0.054995 -0.097458   \n",
       "4 -0.042190  0.006590 -0.008508  0.003562 -0.020626 -0.004356 -0.047743   \n",
       "\n",
       "   feat_104  feat_105  feat_106  ...   feat_91   feat_92   feat_93   feat_94  \\\n",
       "0 -0.023491  0.056129 -0.112846  ... -0.038536  0.083080  0.004578 -0.042012   \n",
       "1 -0.022915  0.025358 -0.000589  ...  0.032973  0.091818  0.028400  0.028328   \n",
       "2  0.027652  0.089800 -0.089618  ... -0.032178  0.045831 -0.001445 -0.015592   \n",
       "3 -0.081546 -0.040478 -0.046230  ...  0.046318  0.003453 -0.030622 -0.048440   \n",
       "4  0.002162  0.006244 -0.029538  ...  0.066111  0.031721  0.070657  0.015557   \n",
       "\n",
       "    feat_95   feat_96   feat_97   feat_98   feat_99  true_link  \n",
       "0  0.032515 -0.011364  0.026318  0.012145 -0.159117          1  \n",
       "1  0.018053 -0.009167 -0.009260  0.057351  0.005674          1  \n",
       "2  0.033533  0.017725 -0.045323  0.002169 -0.068280          1  \n",
       "3 -0.026411 -0.007505  0.017432 -0.041739 -0.053863          1  \n",
       "4  0.039802  0.012338  0.055734  0.021399 -0.013729          1  \n",
       "\n",
       "[5 rows x 301 columns]"
      ]
     },
     "execution_count": 23,
     "metadata": {},
     "output_type": "execute_result"
    }
   ],
   "source": [
    "training_dataset=(\n",
    "    training_dataset\n",
    "    .append(\n",
    "        pd.DataFrame(\n",
    "            biorxiv_published\n",
    "            .loc[off_documents]\n",
    "            .drop([\"document\", \"published_doi\", \"pmcoa\"], axis=1)\n",
    "            .values \n",
    "            -\n",
    "            PMC_off_published\n",
    "            .iloc[list(map(lambda x: journal_mapper[x], journals))]\n",
    "            .set_index(\"journal\")\n",
    "            .drop(\"document\", axis=1)\n",
    "            .values,\n",
    "            columns=[f\"feat_{idx}\" for idx in range(300)]\n",
    "        )\n",
    "        .assign(true_link=-1)\n",
    "    )\n",
    "    .reset_index(drop=True)\n",
    "    .drop(\"biorxiv_document\", axis=1)\n",
    "    .dropna()\n",
    ")\n",
    "training_dataset.head()"
   ]
  },
  {
   "cell_type": "code",
   "execution_count": 24,
   "metadata": {
    "ExecuteTime": {
     "end_time": "2020-07-07T16:49:15.221311Z",
     "start_time": "2020-07-07T16:30:17.599185Z"
    }
   },
   "outputs": [
    {
     "name": "stderr",
     "output_type": "stream",
     "text": [
      "[Parallel(n_jobs=1)]: Using backend SequentialBackend with 1 concurrent workers.\n"
     ]
    },
    {
     "name": "stdout",
     "output_type": "stream",
     "text": [
      "convergence after 14 epochs took 2 seconds\n",
      "convergence after 29 epochs took 3 seconds\n",
      "max_iter reached after 11 seconds\n"
     ]
    },
    {
     "name": "stderr",
     "output_type": "stream",
     "text": [
      "/home/danich1/anaconda3/envs/annorxiver/lib/python3.7/site-packages/sklearn/linear_model/_sag.py:330: ConvergenceWarning: The max_iter was reached which means the coef_ did not converge\n",
      "  \"the coef_ did not converge\", ConvergenceWarning)\n"
     ]
    },
    {
     "name": "stdout",
     "output_type": "stream",
     "text": [
      "max_iter reached after 10 seconds\n"
     ]
    },
    {
     "name": "stderr",
     "output_type": "stream",
     "text": [
      "/home/danich1/anaconda3/envs/annorxiver/lib/python3.7/site-packages/sklearn/linear_model/_sag.py:330: ConvergenceWarning: The max_iter was reached which means the coef_ did not converge\n",
      "  \"the coef_ did not converge\", ConvergenceWarning)\n"
     ]
    },
    {
     "name": "stdout",
     "output_type": "stream",
     "text": [
      "max_iter reached after 11 seconds\n"
     ]
    },
    {
     "name": "stderr",
     "output_type": "stream",
     "text": [
      "/home/danich1/anaconda3/envs/annorxiver/lib/python3.7/site-packages/sklearn/linear_model/_sag.py:330: ConvergenceWarning: The max_iter was reached which means the coef_ did not converge\n",
      "  \"the coef_ did not converge\", ConvergenceWarning)\n",
      "[Parallel(n_jobs=1)]: Done   1 out of   1 | elapsed:   36.8s remaining:    0.0s\n"
     ]
    },
    {
     "name": "stdout",
     "output_type": "stream",
     "text": [
      "convergence after 3 epochs took 0 seconds\n",
      "convergence after 38 epochs took 5 seconds\n",
      "max_iter reached after 11 seconds\n"
     ]
    },
    {
     "name": "stderr",
     "output_type": "stream",
     "text": [
      "/home/danich1/anaconda3/envs/annorxiver/lib/python3.7/site-packages/sklearn/linear_model/_sag.py:330: ConvergenceWarning: The max_iter was reached which means the coef_ did not converge\n",
      "  \"the coef_ did not converge\", ConvergenceWarning)\n"
     ]
    },
    {
     "name": "stdout",
     "output_type": "stream",
     "text": [
      "max_iter reached after 11 seconds\n"
     ]
    },
    {
     "name": "stderr",
     "output_type": "stream",
     "text": [
      "/home/danich1/anaconda3/envs/annorxiver/lib/python3.7/site-packages/sklearn/linear_model/_sag.py:330: ConvergenceWarning: The max_iter was reached which means the coef_ did not converge\n",
      "  \"the coef_ did not converge\", ConvergenceWarning)\n"
     ]
    },
    {
     "name": "stdout",
     "output_type": "stream",
     "text": [
      "max_iter reached after 11 seconds\n"
     ]
    },
    {
     "name": "stderr",
     "output_type": "stream",
     "text": [
      "/home/danich1/anaconda3/envs/annorxiver/lib/python3.7/site-packages/sklearn/linear_model/_sag.py:330: ConvergenceWarning: The max_iter was reached which means the coef_ did not converge\n",
      "  \"the coef_ did not converge\", ConvergenceWarning)\n"
     ]
    },
    {
     "name": "stdout",
     "output_type": "stream",
     "text": [
      "convergence after 3 epochs took 0 seconds\n",
      "convergence after 45 epochs took 5 seconds\n",
      "max_iter reached after 12 seconds\n"
     ]
    },
    {
     "name": "stderr",
     "output_type": "stream",
     "text": [
      "/home/danich1/anaconda3/envs/annorxiver/lib/python3.7/site-packages/sklearn/linear_model/_sag.py:330: ConvergenceWarning: The max_iter was reached which means the coef_ did not converge\n",
      "  \"the coef_ did not converge\", ConvergenceWarning)\n"
     ]
    },
    {
     "name": "stdout",
     "output_type": "stream",
     "text": [
      "max_iter reached after 11 seconds\n"
     ]
    },
    {
     "name": "stderr",
     "output_type": "stream",
     "text": [
      "/home/danich1/anaconda3/envs/annorxiver/lib/python3.7/site-packages/sklearn/linear_model/_sag.py:330: ConvergenceWarning: The max_iter was reached which means the coef_ did not converge\n",
      "  \"the coef_ did not converge\", ConvergenceWarning)\n"
     ]
    },
    {
     "name": "stdout",
     "output_type": "stream",
     "text": [
      "max_iter reached after 10 seconds\n"
     ]
    },
    {
     "name": "stderr",
     "output_type": "stream",
     "text": [
      "/home/danich1/anaconda3/envs/annorxiver/lib/python3.7/site-packages/sklearn/linear_model/_sag.py:330: ConvergenceWarning: The max_iter was reached which means the coef_ did not converge\n",
      "  \"the coef_ did not converge\", ConvergenceWarning)\n"
     ]
    },
    {
     "name": "stdout",
     "output_type": "stream",
     "text": [
      "convergence after 14 epochs took 2 seconds\n",
      "convergence after 29 epochs took 3 seconds\n",
      "max_iter reached after 11 seconds\n"
     ]
    },
    {
     "name": "stderr",
     "output_type": "stream",
     "text": [
      "/home/danich1/anaconda3/envs/annorxiver/lib/python3.7/site-packages/sklearn/linear_model/_sag.py:330: ConvergenceWarning: The max_iter was reached which means the coef_ did not converge\n",
      "  \"the coef_ did not converge\", ConvergenceWarning)\n"
     ]
    },
    {
     "name": "stdout",
     "output_type": "stream",
     "text": [
      "max_iter reached after 10 seconds\n"
     ]
    },
    {
     "name": "stderr",
     "output_type": "stream",
     "text": [
      "/home/danich1/anaconda3/envs/annorxiver/lib/python3.7/site-packages/sklearn/linear_model/_sag.py:330: ConvergenceWarning: The max_iter was reached which means the coef_ did not converge\n",
      "  \"the coef_ did not converge\", ConvergenceWarning)\n"
     ]
    },
    {
     "name": "stdout",
     "output_type": "stream",
     "text": [
      "max_iter reached after 11 seconds\n"
     ]
    },
    {
     "name": "stderr",
     "output_type": "stream",
     "text": [
      "/home/danich1/anaconda3/envs/annorxiver/lib/python3.7/site-packages/sklearn/linear_model/_sag.py:330: ConvergenceWarning: The max_iter was reached which means the coef_ did not converge\n",
      "  \"the coef_ did not converge\", ConvergenceWarning)\n"
     ]
    },
    {
     "name": "stdout",
     "output_type": "stream",
     "text": [
      "convergence after 3 epochs took 0 seconds\n",
      "convergence after 38 epochs took 5 seconds\n",
      "max_iter reached after 11 seconds\n"
     ]
    },
    {
     "name": "stderr",
     "output_type": "stream",
     "text": [
      "/home/danich1/anaconda3/envs/annorxiver/lib/python3.7/site-packages/sklearn/linear_model/_sag.py:330: ConvergenceWarning: The max_iter was reached which means the coef_ did not converge\n",
      "  \"the coef_ did not converge\", ConvergenceWarning)\n"
     ]
    },
    {
     "name": "stdout",
     "output_type": "stream",
     "text": [
      "max_iter reached after 11 seconds\n"
     ]
    },
    {
     "name": "stderr",
     "output_type": "stream",
     "text": [
      "/home/danich1/anaconda3/envs/annorxiver/lib/python3.7/site-packages/sklearn/linear_model/_sag.py:330: ConvergenceWarning: The max_iter was reached which means the coef_ did not converge\n",
      "  \"the coef_ did not converge\", ConvergenceWarning)\n"
     ]
    },
    {
     "name": "stdout",
     "output_type": "stream",
     "text": [
      "max_iter reached after 11 seconds\n"
     ]
    },
    {
     "name": "stderr",
     "output_type": "stream",
     "text": [
      "/home/danich1/anaconda3/envs/annorxiver/lib/python3.7/site-packages/sklearn/linear_model/_sag.py:330: ConvergenceWarning: The max_iter was reached which means the coef_ did not converge\n",
      "  \"the coef_ did not converge\", ConvergenceWarning)\n"
     ]
    },
    {
     "name": "stdout",
     "output_type": "stream",
     "text": [
      "convergence after 3 epochs took 0 seconds\n",
      "convergence after 48 epochs took 6 seconds\n",
      "max_iter reached after 11 seconds\n"
     ]
    },
    {
     "name": "stderr",
     "output_type": "stream",
     "text": [
      "/home/danich1/anaconda3/envs/annorxiver/lib/python3.7/site-packages/sklearn/linear_model/_sag.py:330: ConvergenceWarning: The max_iter was reached which means the coef_ did not converge\n",
      "  \"the coef_ did not converge\", ConvergenceWarning)\n"
     ]
    },
    {
     "name": "stdout",
     "output_type": "stream",
     "text": [
      "max_iter reached after 11 seconds\n"
     ]
    },
    {
     "name": "stderr",
     "output_type": "stream",
     "text": [
      "/home/danich1/anaconda3/envs/annorxiver/lib/python3.7/site-packages/sklearn/linear_model/_sag.py:330: ConvergenceWarning: The max_iter was reached which means the coef_ did not converge\n",
      "  \"the coef_ did not converge\", ConvergenceWarning)\n"
     ]
    },
    {
     "name": "stdout",
     "output_type": "stream",
     "text": [
      "max_iter reached after 10 seconds\n"
     ]
    },
    {
     "name": "stderr",
     "output_type": "stream",
     "text": [
      "/home/danich1/anaconda3/envs/annorxiver/lib/python3.7/site-packages/sklearn/linear_model/_sag.py:330: ConvergenceWarning: The max_iter was reached which means the coef_ did not converge\n",
      "  \"the coef_ did not converge\", ConvergenceWarning)\n"
     ]
    },
    {
     "name": "stdout",
     "output_type": "stream",
     "text": [
      "convergence after 13 epochs took 2 seconds\n",
      "convergence after 30 epochs took 3 seconds\n",
      "max_iter reached after 11 seconds\n"
     ]
    },
    {
     "name": "stderr",
     "output_type": "stream",
     "text": [
      "/home/danich1/anaconda3/envs/annorxiver/lib/python3.7/site-packages/sklearn/linear_model/_sag.py:330: ConvergenceWarning: The max_iter was reached which means the coef_ did not converge\n",
      "  \"the coef_ did not converge\", ConvergenceWarning)\n"
     ]
    },
    {
     "name": "stdout",
     "output_type": "stream",
     "text": [
      "max_iter reached after 11 seconds\n"
     ]
    },
    {
     "name": "stderr",
     "output_type": "stream",
     "text": [
      "/home/danich1/anaconda3/envs/annorxiver/lib/python3.7/site-packages/sklearn/linear_model/_sag.py:330: ConvergenceWarning: The max_iter was reached which means the coef_ did not converge\n",
      "  \"the coef_ did not converge\", ConvergenceWarning)\n"
     ]
    },
    {
     "name": "stdout",
     "output_type": "stream",
     "text": [
      "max_iter reached after 10 seconds\n",
      "convergence after 1 epochs took 0 seconds\n"
     ]
    },
    {
     "name": "stderr",
     "output_type": "stream",
     "text": [
      "/home/danich1/anaconda3/envs/annorxiver/lib/python3.7/site-packages/sklearn/linear_model/_sag.py:330: ConvergenceWarning: The max_iter was reached which means the coef_ did not converge\n",
      "  \"the coef_ did not converge\", ConvergenceWarning)\n"
     ]
    },
    {
     "name": "stdout",
     "output_type": "stream",
     "text": [
      "convergence after 38 epochs took 5 seconds\n",
      "max_iter reached after 12 seconds\n"
     ]
    },
    {
     "name": "stderr",
     "output_type": "stream",
     "text": [
      "/home/danich1/anaconda3/envs/annorxiver/lib/python3.7/site-packages/sklearn/linear_model/_sag.py:330: ConvergenceWarning: The max_iter was reached which means the coef_ did not converge\n",
      "  \"the coef_ did not converge\", ConvergenceWarning)\n"
     ]
    },
    {
     "name": "stdout",
     "output_type": "stream",
     "text": [
      "max_iter reached after 10 seconds\n"
     ]
    },
    {
     "name": "stderr",
     "output_type": "stream",
     "text": [
      "/home/danich1/anaconda3/envs/annorxiver/lib/python3.7/site-packages/sklearn/linear_model/_sag.py:330: ConvergenceWarning: The max_iter was reached which means the coef_ did not converge\n",
      "  \"the coef_ did not converge\", ConvergenceWarning)\n"
     ]
    },
    {
     "name": "stdout",
     "output_type": "stream",
     "text": [
      "max_iter reached after 11 seconds\n",
      "convergence after 1 epochs took 0 seconds\n"
     ]
    },
    {
     "name": "stderr",
     "output_type": "stream",
     "text": [
      "/home/danich1/anaconda3/envs/annorxiver/lib/python3.7/site-packages/sklearn/linear_model/_sag.py:330: ConvergenceWarning: The max_iter was reached which means the coef_ did not converge\n",
      "  \"the coef_ did not converge\", ConvergenceWarning)\n"
     ]
    },
    {
     "name": "stdout",
     "output_type": "stream",
     "text": [
      "convergence after 45 epochs took 5 seconds\n",
      "max_iter reached after 12 seconds\n"
     ]
    },
    {
     "name": "stderr",
     "output_type": "stream",
     "text": [
      "/home/danich1/anaconda3/envs/annorxiver/lib/python3.7/site-packages/sklearn/linear_model/_sag.py:330: ConvergenceWarning: The max_iter was reached which means the coef_ did not converge\n",
      "  \"the coef_ did not converge\", ConvergenceWarning)\n"
     ]
    },
    {
     "name": "stdout",
     "output_type": "stream",
     "text": [
      "max_iter reached after 10 seconds\n"
     ]
    },
    {
     "name": "stderr",
     "output_type": "stream",
     "text": [
      "/home/danich1/anaconda3/envs/annorxiver/lib/python3.7/site-packages/sklearn/linear_model/_sag.py:330: ConvergenceWarning: The max_iter was reached which means the coef_ did not converge\n",
      "  \"the coef_ did not converge\", ConvergenceWarning)\n"
     ]
    },
    {
     "name": "stdout",
     "output_type": "stream",
     "text": [
      "max_iter reached after 11 seconds\n"
     ]
    },
    {
     "name": "stderr",
     "output_type": "stream",
     "text": [
      "/home/danich1/anaconda3/envs/annorxiver/lib/python3.7/site-packages/sklearn/linear_model/_sag.py:330: ConvergenceWarning: The max_iter was reached which means the coef_ did not converge\n",
      "  \"the coef_ did not converge\", ConvergenceWarning)\n"
     ]
    },
    {
     "name": "stdout",
     "output_type": "stream",
     "text": [
      "convergence after 14 epochs took 1 seconds\n",
      "convergence after 29 epochs took 4 seconds\n",
      "max_iter reached after 10 seconds\n"
     ]
    },
    {
     "name": "stderr",
     "output_type": "stream",
     "text": [
      "/home/danich1/anaconda3/envs/annorxiver/lib/python3.7/site-packages/sklearn/linear_model/_sag.py:330: ConvergenceWarning: The max_iter was reached which means the coef_ did not converge\n",
      "  \"the coef_ did not converge\", ConvergenceWarning)\n"
     ]
    },
    {
     "name": "stdout",
     "output_type": "stream",
     "text": [
      "max_iter reached after 11 seconds\n"
     ]
    },
    {
     "name": "stderr",
     "output_type": "stream",
     "text": [
      "/home/danich1/anaconda3/envs/annorxiver/lib/python3.7/site-packages/sklearn/linear_model/_sag.py:330: ConvergenceWarning: The max_iter was reached which means the coef_ did not converge\n",
      "  \"the coef_ did not converge\", ConvergenceWarning)\n"
     ]
    },
    {
     "name": "stdout",
     "output_type": "stream",
     "text": [
      "max_iter reached after 10 seconds\n",
      "convergence after 1 epochs took 1 seconds\n"
     ]
    },
    {
     "name": "stderr",
     "output_type": "stream",
     "text": [
      "/home/danich1/anaconda3/envs/annorxiver/lib/python3.7/site-packages/sklearn/linear_model/_sag.py:330: ConvergenceWarning: The max_iter was reached which means the coef_ did not converge\n",
      "  \"the coef_ did not converge\", ConvergenceWarning)\n"
     ]
    },
    {
     "name": "stdout",
     "output_type": "stream",
     "text": [
      "convergence after 38 epochs took 4 seconds\n",
      "max_iter reached after 12 seconds\n"
     ]
    },
    {
     "name": "stderr",
     "output_type": "stream",
     "text": [
      "/home/danich1/anaconda3/envs/annorxiver/lib/python3.7/site-packages/sklearn/linear_model/_sag.py:330: ConvergenceWarning: The max_iter was reached which means the coef_ did not converge\n",
      "  \"the coef_ did not converge\", ConvergenceWarning)\n"
     ]
    },
    {
     "name": "stdout",
     "output_type": "stream",
     "text": [
      "max_iter reached after 10 seconds\n"
     ]
    },
    {
     "name": "stderr",
     "output_type": "stream",
     "text": [
      "/home/danich1/anaconda3/envs/annorxiver/lib/python3.7/site-packages/sklearn/linear_model/_sag.py:330: ConvergenceWarning: The max_iter was reached which means the coef_ did not converge\n",
      "  \"the coef_ did not converge\", ConvergenceWarning)\n"
     ]
    },
    {
     "name": "stdout",
     "output_type": "stream",
     "text": [
      "max_iter reached after 11 seconds\n",
      "convergence after 1 epochs took 0 seconds\n"
     ]
    },
    {
     "name": "stderr",
     "output_type": "stream",
     "text": [
      "/home/danich1/anaconda3/envs/annorxiver/lib/python3.7/site-packages/sklearn/linear_model/_sag.py:330: ConvergenceWarning: The max_iter was reached which means the coef_ did not converge\n",
      "  \"the coef_ did not converge\", ConvergenceWarning)\n"
     ]
    },
    {
     "name": "stdout",
     "output_type": "stream",
     "text": [
      "convergence after 47 epochs took 6 seconds\n",
      "max_iter reached after 11 seconds\n"
     ]
    },
    {
     "name": "stderr",
     "output_type": "stream",
     "text": [
      "/home/danich1/anaconda3/envs/annorxiver/lib/python3.7/site-packages/sklearn/linear_model/_sag.py:330: ConvergenceWarning: The max_iter was reached which means the coef_ did not converge\n",
      "  \"the coef_ did not converge\", ConvergenceWarning)\n"
     ]
    },
    {
     "name": "stdout",
     "output_type": "stream",
     "text": [
      "max_iter reached after 11 seconds\n"
     ]
    },
    {
     "name": "stderr",
     "output_type": "stream",
     "text": [
      "/home/danich1/anaconda3/envs/annorxiver/lib/python3.7/site-packages/sklearn/linear_model/_sag.py:330: ConvergenceWarning: The max_iter was reached which means the coef_ did not converge\n",
      "  \"the coef_ did not converge\", ConvergenceWarning)\n"
     ]
    },
    {
     "name": "stdout",
     "output_type": "stream",
     "text": [
      "max_iter reached after 10 seconds\n"
     ]
    },
    {
     "name": "stderr",
     "output_type": "stream",
     "text": [
      "/home/danich1/anaconda3/envs/annorxiver/lib/python3.7/site-packages/sklearn/linear_model/_sag.py:330: ConvergenceWarning: The max_iter was reached which means the coef_ did not converge\n",
      "  \"the coef_ did not converge\", ConvergenceWarning)\n"
     ]
    },
    {
     "name": "stdout",
     "output_type": "stream",
     "text": [
      "convergence after 14 epochs took 2 seconds\n",
      "convergence after 29 epochs took 3 seconds\n",
      "max_iter reached after 11 seconds\n"
     ]
    },
    {
     "name": "stderr",
     "output_type": "stream",
     "text": [
      "/home/danich1/anaconda3/envs/annorxiver/lib/python3.7/site-packages/sklearn/linear_model/_sag.py:330: ConvergenceWarning: The max_iter was reached which means the coef_ did not converge\n",
      "  \"the coef_ did not converge\", ConvergenceWarning)\n"
     ]
    },
    {
     "name": "stdout",
     "output_type": "stream",
     "text": [
      "max_iter reached after 11 seconds\n"
     ]
    },
    {
     "name": "stderr",
     "output_type": "stream",
     "text": [
      "/home/danich1/anaconda3/envs/annorxiver/lib/python3.7/site-packages/sklearn/linear_model/_sag.py:330: ConvergenceWarning: The max_iter was reached which means the coef_ did not converge\n",
      "  \"the coef_ did not converge\", ConvergenceWarning)\n"
     ]
    },
    {
     "name": "stdout",
     "output_type": "stream",
     "text": [
      "max_iter reached after 10 seconds\n",
      "convergence after 1 epochs took 0 seconds\n"
     ]
    },
    {
     "name": "stderr",
     "output_type": "stream",
     "text": [
      "/home/danich1/anaconda3/envs/annorxiver/lib/python3.7/site-packages/sklearn/linear_model/_sag.py:330: ConvergenceWarning: The max_iter was reached which means the coef_ did not converge\n",
      "  \"the coef_ did not converge\", ConvergenceWarning)\n"
     ]
    },
    {
     "name": "stdout",
     "output_type": "stream",
     "text": [
      "convergence after 37 epochs took 5 seconds\n",
      "max_iter reached after 11 seconds\n"
     ]
    },
    {
     "name": "stderr",
     "output_type": "stream",
     "text": [
      "/home/danich1/anaconda3/envs/annorxiver/lib/python3.7/site-packages/sklearn/linear_model/_sag.py:330: ConvergenceWarning: The max_iter was reached which means the coef_ did not converge\n",
      "  \"the coef_ did not converge\", ConvergenceWarning)\n"
     ]
    },
    {
     "name": "stdout",
     "output_type": "stream",
     "text": [
      "max_iter reached after 11 seconds\n"
     ]
    },
    {
     "name": "stderr",
     "output_type": "stream",
     "text": [
      "/home/danich1/anaconda3/envs/annorxiver/lib/python3.7/site-packages/sklearn/linear_model/_sag.py:330: ConvergenceWarning: The max_iter was reached which means the coef_ did not converge\n",
      "  \"the coef_ did not converge\", ConvergenceWarning)\n"
     ]
    },
    {
     "name": "stdout",
     "output_type": "stream",
     "text": [
      "max_iter reached after 10 seconds\n",
      "convergence after 1 epochs took 1 seconds\n"
     ]
    },
    {
     "name": "stderr",
     "output_type": "stream",
     "text": [
      "/home/danich1/anaconda3/envs/annorxiver/lib/python3.7/site-packages/sklearn/linear_model/_sag.py:330: ConvergenceWarning: The max_iter was reached which means the coef_ did not converge\n",
      "  \"the coef_ did not converge\", ConvergenceWarning)\n"
     ]
    },
    {
     "name": "stdout",
     "output_type": "stream",
     "text": [
      "convergence after 45 epochs took 5 seconds\n",
      "max_iter reached after 12 seconds\n"
     ]
    },
    {
     "name": "stderr",
     "output_type": "stream",
     "text": [
      "/home/danich1/anaconda3/envs/annorxiver/lib/python3.7/site-packages/sklearn/linear_model/_sag.py:330: ConvergenceWarning: The max_iter was reached which means the coef_ did not converge\n",
      "  \"the coef_ did not converge\", ConvergenceWarning)\n"
     ]
    },
    {
     "name": "stdout",
     "output_type": "stream",
     "text": [
      "max_iter reached after 10 seconds\n"
     ]
    },
    {
     "name": "stderr",
     "output_type": "stream",
     "text": [
      "/home/danich1/anaconda3/envs/annorxiver/lib/python3.7/site-packages/sklearn/linear_model/_sag.py:330: ConvergenceWarning: The max_iter was reached which means the coef_ did not converge\n",
      "  \"the coef_ did not converge\", ConvergenceWarning)\n"
     ]
    },
    {
     "name": "stdout",
     "output_type": "stream",
     "text": [
      "max_iter reached after 11 seconds\n"
     ]
    },
    {
     "name": "stderr",
     "output_type": "stream",
     "text": [
      "/home/danich1/anaconda3/envs/annorxiver/lib/python3.7/site-packages/sklearn/linear_model/_sag.py:330: ConvergenceWarning: The max_iter was reached which means the coef_ did not converge\n",
      "  \"the coef_ did not converge\", ConvergenceWarning)\n"
     ]
    },
    {
     "name": "stdout",
     "output_type": "stream",
     "text": [
      "convergence after 13 epochs took 1 seconds\n",
      "convergence after 30 epochs took 4 seconds\n",
      "max_iter reached after 10 seconds\n"
     ]
    },
    {
     "name": "stderr",
     "output_type": "stream",
     "text": [
      "/home/danich1/anaconda3/envs/annorxiver/lib/python3.7/site-packages/sklearn/linear_model/_sag.py:330: ConvergenceWarning: The max_iter was reached which means the coef_ did not converge\n",
      "  \"the coef_ did not converge\", ConvergenceWarning)\n"
     ]
    },
    {
     "name": "stdout",
     "output_type": "stream",
     "text": [
      "max_iter reached after 11 seconds\n"
     ]
    },
    {
     "name": "stderr",
     "output_type": "stream",
     "text": [
      "/home/danich1/anaconda3/envs/annorxiver/lib/python3.7/site-packages/sklearn/linear_model/_sag.py:330: ConvergenceWarning: The max_iter was reached which means the coef_ did not converge\n",
      "  \"the coef_ did not converge\", ConvergenceWarning)\n"
     ]
    },
    {
     "name": "stdout",
     "output_type": "stream",
     "text": [
      "max_iter reached after 10 seconds\n",
      "convergence after 1 epochs took 0 seconds\n"
     ]
    },
    {
     "name": "stderr",
     "output_type": "stream",
     "text": [
      "/home/danich1/anaconda3/envs/annorxiver/lib/python3.7/site-packages/sklearn/linear_model/_sag.py:330: ConvergenceWarning: The max_iter was reached which means the coef_ did not converge\n",
      "  \"the coef_ did not converge\", ConvergenceWarning)\n"
     ]
    },
    {
     "name": "stdout",
     "output_type": "stream",
     "text": [
      "convergence after 37 epochs took 5 seconds\n",
      "max_iter reached after 11 seconds\n"
     ]
    },
    {
     "name": "stderr",
     "output_type": "stream",
     "text": [
      "/home/danich1/anaconda3/envs/annorxiver/lib/python3.7/site-packages/sklearn/linear_model/_sag.py:330: ConvergenceWarning: The max_iter was reached which means the coef_ did not converge\n",
      "  \"the coef_ did not converge\", ConvergenceWarning)\n"
     ]
    },
    {
     "name": "stdout",
     "output_type": "stream",
     "text": [
      "max_iter reached after 11 seconds\n"
     ]
    },
    {
     "name": "stderr",
     "output_type": "stream",
     "text": [
      "/home/danich1/anaconda3/envs/annorxiver/lib/python3.7/site-packages/sklearn/linear_model/_sag.py:330: ConvergenceWarning: The max_iter was reached which means the coef_ did not converge\n",
      "  \"the coef_ did not converge\", ConvergenceWarning)\n"
     ]
    },
    {
     "name": "stdout",
     "output_type": "stream",
     "text": [
      "max_iter reached after 11 seconds\n",
      "convergence after 1 epochs took 0 seconds\n"
     ]
    },
    {
     "name": "stderr",
     "output_type": "stream",
     "text": [
      "/home/danich1/anaconda3/envs/annorxiver/lib/python3.7/site-packages/sklearn/linear_model/_sag.py:330: ConvergenceWarning: The max_iter was reached which means the coef_ did not converge\n",
      "  \"the coef_ did not converge\", ConvergenceWarning)\n"
     ]
    },
    {
     "name": "stdout",
     "output_type": "stream",
     "text": [
      "convergence after 45 epochs took 5 seconds\n",
      "max_iter reached after 12 seconds\n"
     ]
    },
    {
     "name": "stderr",
     "output_type": "stream",
     "text": [
      "/home/danich1/anaconda3/envs/annorxiver/lib/python3.7/site-packages/sklearn/linear_model/_sag.py:330: ConvergenceWarning: The max_iter was reached which means the coef_ did not converge\n",
      "  \"the coef_ did not converge\", ConvergenceWarning)\n"
     ]
    },
    {
     "name": "stdout",
     "output_type": "stream",
     "text": [
      "max_iter reached after 10 seconds\n"
     ]
    },
    {
     "name": "stderr",
     "output_type": "stream",
     "text": [
      "/home/danich1/anaconda3/envs/annorxiver/lib/python3.7/site-packages/sklearn/linear_model/_sag.py:330: ConvergenceWarning: The max_iter was reached which means the coef_ did not converge\n",
      "  \"the coef_ did not converge\", ConvergenceWarning)\n"
     ]
    },
    {
     "name": "stdout",
     "output_type": "stream",
     "text": [
      "max_iter reached after 11 seconds\n"
     ]
    },
    {
     "name": "stderr",
     "output_type": "stream",
     "text": [
      "/home/danich1/anaconda3/envs/annorxiver/lib/python3.7/site-packages/sklearn/linear_model/_sag.py:330: ConvergenceWarning: The max_iter was reached which means the coef_ did not converge\n",
      "  \"the coef_ did not converge\", ConvergenceWarning)\n"
     ]
    },
    {
     "name": "stdout",
     "output_type": "stream",
     "text": [
      "convergence after 13 epochs took 1 seconds\n",
      "convergence after 29 epochs took 3 seconds\n",
      "max_iter reached after 11 seconds\n"
     ]
    },
    {
     "name": "stderr",
     "output_type": "stream",
     "text": [
      "/home/danich1/anaconda3/envs/annorxiver/lib/python3.7/site-packages/sklearn/linear_model/_sag.py:330: ConvergenceWarning: The max_iter was reached which means the coef_ did not converge\n",
      "  \"the coef_ did not converge\", ConvergenceWarning)\n"
     ]
    },
    {
     "name": "stdout",
     "output_type": "stream",
     "text": [
      "max_iter reached after 11 seconds\n"
     ]
    },
    {
     "name": "stderr",
     "output_type": "stream",
     "text": [
      "/home/danich1/anaconda3/envs/annorxiver/lib/python3.7/site-packages/sklearn/linear_model/_sag.py:330: ConvergenceWarning: The max_iter was reached which means the coef_ did not converge\n",
      "  \"the coef_ did not converge\", ConvergenceWarning)\n"
     ]
    },
    {
     "name": "stdout",
     "output_type": "stream",
     "text": [
      "max_iter reached after 10 seconds\n",
      "convergence after 1 epochs took 0 seconds\n"
     ]
    },
    {
     "name": "stderr",
     "output_type": "stream",
     "text": [
      "/home/danich1/anaconda3/envs/annorxiver/lib/python3.7/site-packages/sklearn/linear_model/_sag.py:330: ConvergenceWarning: The max_iter was reached which means the coef_ did not converge\n",
      "  \"the coef_ did not converge\", ConvergenceWarning)\n"
     ]
    },
    {
     "name": "stdout",
     "output_type": "stream",
     "text": [
      "convergence after 37 epochs took 5 seconds\n",
      "max_iter reached after 11 seconds\n"
     ]
    },
    {
     "name": "stderr",
     "output_type": "stream",
     "text": [
      "/home/danich1/anaconda3/envs/annorxiver/lib/python3.7/site-packages/sklearn/linear_model/_sag.py:330: ConvergenceWarning: The max_iter was reached which means the coef_ did not converge\n",
      "  \"the coef_ did not converge\", ConvergenceWarning)\n"
     ]
    },
    {
     "name": "stdout",
     "output_type": "stream",
     "text": [
      "max_iter reached after 11 seconds\n"
     ]
    },
    {
     "name": "stderr",
     "output_type": "stream",
     "text": [
      "/home/danich1/anaconda3/envs/annorxiver/lib/python3.7/site-packages/sklearn/linear_model/_sag.py:330: ConvergenceWarning: The max_iter was reached which means the coef_ did not converge\n",
      "  \"the coef_ did not converge\", ConvergenceWarning)\n"
     ]
    },
    {
     "name": "stdout",
     "output_type": "stream",
     "text": [
      "max_iter reached after 11 seconds\n",
      "convergence after 1 epochs took 0 seconds\n"
     ]
    },
    {
     "name": "stderr",
     "output_type": "stream",
     "text": [
      "/home/danich1/anaconda3/envs/annorxiver/lib/python3.7/site-packages/sklearn/linear_model/_sag.py:330: ConvergenceWarning: The max_iter was reached which means the coef_ did not converge\n",
      "  \"the coef_ did not converge\", ConvergenceWarning)\n"
     ]
    },
    {
     "name": "stdout",
     "output_type": "stream",
     "text": [
      "convergence after 47 epochs took 5 seconds\n",
      "max_iter reached after 12 seconds\n"
     ]
    },
    {
     "name": "stderr",
     "output_type": "stream",
     "text": [
      "/home/danich1/anaconda3/envs/annorxiver/lib/python3.7/site-packages/sklearn/linear_model/_sag.py:330: ConvergenceWarning: The max_iter was reached which means the coef_ did not converge\n",
      "  \"the coef_ did not converge\", ConvergenceWarning)\n"
     ]
    },
    {
     "name": "stdout",
     "output_type": "stream",
     "text": [
      "max_iter reached after 11 seconds\n"
     ]
    },
    {
     "name": "stderr",
     "output_type": "stream",
     "text": [
      "/home/danich1/anaconda3/envs/annorxiver/lib/python3.7/site-packages/sklearn/linear_model/_sag.py:330: ConvergenceWarning: The max_iter was reached which means the coef_ did not converge\n",
      "  \"the coef_ did not converge\", ConvergenceWarning)\n"
     ]
    },
    {
     "name": "stdout",
     "output_type": "stream",
     "text": [
      "max_iter reached after 10 seconds\n"
     ]
    },
    {
     "name": "stderr",
     "output_type": "stream",
     "text": [
      "/home/danich1/anaconda3/envs/annorxiver/lib/python3.7/site-packages/sklearn/linear_model/_sag.py:330: ConvergenceWarning: The max_iter was reached which means the coef_ did not converge\n",
      "  \"the coef_ did not converge\", ConvergenceWarning)\n"
     ]
    },
    {
     "name": "stdout",
     "output_type": "stream",
     "text": [
      "convergence after 13 epochs took 2 seconds\n",
      "convergence after 29 epochs took 3 seconds\n",
      "max_iter reached after 11 seconds\n"
     ]
    },
    {
     "name": "stderr",
     "output_type": "stream",
     "text": [
      "/home/danich1/anaconda3/envs/annorxiver/lib/python3.7/site-packages/sklearn/linear_model/_sag.py:330: ConvergenceWarning: The max_iter was reached which means the coef_ did not converge\n",
      "  \"the coef_ did not converge\", ConvergenceWarning)\n"
     ]
    },
    {
     "name": "stdout",
     "output_type": "stream",
     "text": [
      "max_iter reached after 10 seconds\n"
     ]
    },
    {
     "name": "stderr",
     "output_type": "stream",
     "text": [
      "/home/danich1/anaconda3/envs/annorxiver/lib/python3.7/site-packages/sklearn/linear_model/_sag.py:330: ConvergenceWarning: The max_iter was reached which means the coef_ did not converge\n",
      "  \"the coef_ did not converge\", ConvergenceWarning)\n"
     ]
    },
    {
     "name": "stdout",
     "output_type": "stream",
     "text": [
      "max_iter reached after 11 seconds\n"
     ]
    },
    {
     "name": "stderr",
     "output_type": "stream",
     "text": [
      "/home/danich1/anaconda3/envs/annorxiver/lib/python3.7/site-packages/sklearn/linear_model/_sag.py:330: ConvergenceWarning: The max_iter was reached which means the coef_ did not converge\n",
      "  \"the coef_ did not converge\", ConvergenceWarning)\n"
     ]
    },
    {
     "name": "stdout",
     "output_type": "stream",
     "text": [
      "convergence after 3 epochs took 0 seconds\n",
      "convergence after 38 epochs took 5 seconds\n",
      "max_iter reached after 11 seconds\n"
     ]
    },
    {
     "name": "stderr",
     "output_type": "stream",
     "text": [
      "/home/danich1/anaconda3/envs/annorxiver/lib/python3.7/site-packages/sklearn/linear_model/_sag.py:330: ConvergenceWarning: The max_iter was reached which means the coef_ did not converge\n",
      "  \"the coef_ did not converge\", ConvergenceWarning)\n"
     ]
    },
    {
     "name": "stdout",
     "output_type": "stream",
     "text": [
      "max_iter reached after 11 seconds\n"
     ]
    },
    {
     "name": "stderr",
     "output_type": "stream",
     "text": [
      "/home/danich1/anaconda3/envs/annorxiver/lib/python3.7/site-packages/sklearn/linear_model/_sag.py:330: ConvergenceWarning: The max_iter was reached which means the coef_ did not converge\n",
      "  \"the coef_ did not converge\", ConvergenceWarning)\n"
     ]
    },
    {
     "name": "stdout",
     "output_type": "stream",
     "text": [
      "max_iter reached after 10 seconds\n"
     ]
    },
    {
     "name": "stderr",
     "output_type": "stream",
     "text": [
      "/home/danich1/anaconda3/envs/annorxiver/lib/python3.7/site-packages/sklearn/linear_model/_sag.py:330: ConvergenceWarning: The max_iter was reached which means the coef_ did not converge\n",
      "  \"the coef_ did not converge\", ConvergenceWarning)\n"
     ]
    },
    {
     "name": "stdout",
     "output_type": "stream",
     "text": [
      "convergence after 3 epochs took 1 seconds\n",
      "convergence after 44 epochs took 5 seconds\n",
      "max_iter reached after 12 seconds\n"
     ]
    },
    {
     "name": "stderr",
     "output_type": "stream",
     "text": [
      "/home/danich1/anaconda3/envs/annorxiver/lib/python3.7/site-packages/sklearn/linear_model/_sag.py:330: ConvergenceWarning: The max_iter was reached which means the coef_ did not converge\n",
      "  \"the coef_ did not converge\", ConvergenceWarning)\n"
     ]
    },
    {
     "name": "stdout",
     "output_type": "stream",
     "text": [
      "max_iter reached after 10 seconds\n"
     ]
    },
    {
     "name": "stderr",
     "output_type": "stream",
     "text": [
      "/home/danich1/anaconda3/envs/annorxiver/lib/python3.7/site-packages/sklearn/linear_model/_sag.py:330: ConvergenceWarning: The max_iter was reached which means the coef_ did not converge\n",
      "  \"the coef_ did not converge\", ConvergenceWarning)\n"
     ]
    },
    {
     "name": "stdout",
     "output_type": "stream",
     "text": [
      "max_iter reached after 11 seconds\n"
     ]
    },
    {
     "name": "stderr",
     "output_type": "stream",
     "text": [
      "/home/danich1/anaconda3/envs/annorxiver/lib/python3.7/site-packages/sklearn/linear_model/_sag.py:330: ConvergenceWarning: The max_iter was reached which means the coef_ did not converge\n",
      "  \"the coef_ did not converge\", ConvergenceWarning)\n"
     ]
    },
    {
     "name": "stdout",
     "output_type": "stream",
     "text": [
      "convergence after 12 epochs took 1 seconds\n",
      "convergence after 29 epochs took 3 seconds\n",
      "max_iter reached after 11 seconds\n"
     ]
    },
    {
     "name": "stderr",
     "output_type": "stream",
     "text": [
      "/home/danich1/anaconda3/envs/annorxiver/lib/python3.7/site-packages/sklearn/linear_model/_sag.py:330: ConvergenceWarning: The max_iter was reached which means the coef_ did not converge\n",
      "  \"the coef_ did not converge\", ConvergenceWarning)\n"
     ]
    },
    {
     "name": "stdout",
     "output_type": "stream",
     "text": [
      "max_iter reached after 11 seconds\n"
     ]
    },
    {
     "name": "stderr",
     "output_type": "stream",
     "text": [
      "/home/danich1/anaconda3/envs/annorxiver/lib/python3.7/site-packages/sklearn/linear_model/_sag.py:330: ConvergenceWarning: The max_iter was reached which means the coef_ did not converge\n",
      "  \"the coef_ did not converge\", ConvergenceWarning)\n"
     ]
    },
    {
     "name": "stdout",
     "output_type": "stream",
     "text": [
      "max_iter reached after 10 seconds\n"
     ]
    },
    {
     "name": "stderr",
     "output_type": "stream",
     "text": [
      "/home/danich1/anaconda3/envs/annorxiver/lib/python3.7/site-packages/sklearn/linear_model/_sag.py:330: ConvergenceWarning: The max_iter was reached which means the coef_ did not converge\n",
      "  \"the coef_ did not converge\", ConvergenceWarning)\n"
     ]
    },
    {
     "name": "stdout",
     "output_type": "stream",
     "text": [
      "convergence after 3 epochs took 0 seconds\n",
      "convergence after 38 epochs took 5 seconds\n",
      "max_iter reached after 12 seconds\n"
     ]
    },
    {
     "name": "stderr",
     "output_type": "stream",
     "text": [
      "/home/danich1/anaconda3/envs/annorxiver/lib/python3.7/site-packages/sklearn/linear_model/_sag.py:330: ConvergenceWarning: The max_iter was reached which means the coef_ did not converge\n",
      "  \"the coef_ did not converge\", ConvergenceWarning)\n"
     ]
    },
    {
     "name": "stdout",
     "output_type": "stream",
     "text": [
      "max_iter reached after 10 seconds\n"
     ]
    },
    {
     "name": "stderr",
     "output_type": "stream",
     "text": [
      "/home/danich1/anaconda3/envs/annorxiver/lib/python3.7/site-packages/sklearn/linear_model/_sag.py:330: ConvergenceWarning: The max_iter was reached which means the coef_ did not converge\n",
      "  \"the coef_ did not converge\", ConvergenceWarning)\n"
     ]
    },
    {
     "name": "stdout",
     "output_type": "stream",
     "text": [
      "max_iter reached after 11 seconds\n"
     ]
    },
    {
     "name": "stderr",
     "output_type": "stream",
     "text": [
      "/home/danich1/anaconda3/envs/annorxiver/lib/python3.7/site-packages/sklearn/linear_model/_sag.py:330: ConvergenceWarning: The max_iter was reached which means the coef_ did not converge\n",
      "  \"the coef_ did not converge\", ConvergenceWarning)\n"
     ]
    },
    {
     "name": "stdout",
     "output_type": "stream",
     "text": [
      "convergence after 3 epochs took 0 seconds\n",
      "convergence after 48 epochs took 6 seconds\n",
      "max_iter reached after 11 seconds\n"
     ]
    },
    {
     "name": "stderr",
     "output_type": "stream",
     "text": [
      "/home/danich1/anaconda3/envs/annorxiver/lib/python3.7/site-packages/sklearn/linear_model/_sag.py:330: ConvergenceWarning: The max_iter was reached which means the coef_ did not converge\n",
      "  \"the coef_ did not converge\", ConvergenceWarning)\n"
     ]
    },
    {
     "name": "stdout",
     "output_type": "stream",
     "text": [
      "max_iter reached after 11 seconds\n"
     ]
    },
    {
     "name": "stderr",
     "output_type": "stream",
     "text": [
      "/home/danich1/anaconda3/envs/annorxiver/lib/python3.7/site-packages/sklearn/linear_model/_sag.py:330: ConvergenceWarning: The max_iter was reached which means the coef_ did not converge\n",
      "  \"the coef_ did not converge\", ConvergenceWarning)\n"
     ]
    },
    {
     "name": "stdout",
     "output_type": "stream",
     "text": [
      "max_iter reached after 10 seconds\n"
     ]
    },
    {
     "name": "stderr",
     "output_type": "stream",
     "text": [
      "/home/danich1/anaconda3/envs/annorxiver/lib/python3.7/site-packages/sklearn/linear_model/_sag.py:330: ConvergenceWarning: The max_iter was reached which means the coef_ did not converge\n",
      "  \"the coef_ did not converge\", ConvergenceWarning)\n"
     ]
    },
    {
     "name": "stdout",
     "output_type": "stream",
     "text": [
      "convergence after 13 epochs took 2 seconds\n",
      "convergence after 29 epochs took 3 seconds\n",
      "max_iter reached after 11 seconds\n"
     ]
    },
    {
     "name": "stderr",
     "output_type": "stream",
     "text": [
      "/home/danich1/anaconda3/envs/annorxiver/lib/python3.7/site-packages/sklearn/linear_model/_sag.py:330: ConvergenceWarning: The max_iter was reached which means the coef_ did not converge\n",
      "  \"the coef_ did not converge\", ConvergenceWarning)\n"
     ]
    },
    {
     "name": "stdout",
     "output_type": "stream",
     "text": [
      "max_iter reached after 11 seconds\n"
     ]
    },
    {
     "name": "stderr",
     "output_type": "stream",
     "text": [
      "/home/danich1/anaconda3/envs/annorxiver/lib/python3.7/site-packages/sklearn/linear_model/_sag.py:330: ConvergenceWarning: The max_iter was reached which means the coef_ did not converge\n",
      "  \"the coef_ did not converge\", ConvergenceWarning)\n"
     ]
    },
    {
     "name": "stdout",
     "output_type": "stream",
     "text": [
      "max_iter reached after 10 seconds\n"
     ]
    },
    {
     "name": "stderr",
     "output_type": "stream",
     "text": [
      "/home/danich1/anaconda3/envs/annorxiver/lib/python3.7/site-packages/sklearn/linear_model/_sag.py:330: ConvergenceWarning: The max_iter was reached which means the coef_ did not converge\n",
      "  \"the coef_ did not converge\", ConvergenceWarning)\n"
     ]
    },
    {
     "name": "stdout",
     "output_type": "stream",
     "text": [
      "convergence after 3 epochs took 0 seconds\n",
      "convergence after 37 epochs took 5 seconds\n",
      "max_iter reached after 11 seconds\n"
     ]
    },
    {
     "name": "stderr",
     "output_type": "stream",
     "text": [
      "/home/danich1/anaconda3/envs/annorxiver/lib/python3.7/site-packages/sklearn/linear_model/_sag.py:330: ConvergenceWarning: The max_iter was reached which means the coef_ did not converge\n",
      "  \"the coef_ did not converge\", ConvergenceWarning)\n"
     ]
    },
    {
     "name": "stdout",
     "output_type": "stream",
     "text": [
      "max_iter reached after 11 seconds\n"
     ]
    },
    {
     "name": "stderr",
     "output_type": "stream",
     "text": [
      "/home/danich1/anaconda3/envs/annorxiver/lib/python3.7/site-packages/sklearn/linear_model/_sag.py:330: ConvergenceWarning: The max_iter was reached which means the coef_ did not converge\n",
      "  \"the coef_ did not converge\", ConvergenceWarning)\n"
     ]
    },
    {
     "name": "stdout",
     "output_type": "stream",
     "text": [
      "max_iter reached after 10 seconds\n"
     ]
    },
    {
     "name": "stderr",
     "output_type": "stream",
     "text": [
      "/home/danich1/anaconda3/envs/annorxiver/lib/python3.7/site-packages/sklearn/linear_model/_sag.py:330: ConvergenceWarning: The max_iter was reached which means the coef_ did not converge\n",
      "  \"the coef_ did not converge\", ConvergenceWarning)\n"
     ]
    },
    {
     "name": "stdout",
     "output_type": "stream",
     "text": [
      "convergence after 3 epochs took 1 seconds\n",
      "convergence after 46 epochs took 5 seconds\n",
      "max_iter reached after 12 seconds\n"
     ]
    },
    {
     "name": "stderr",
     "output_type": "stream",
     "text": [
      "/home/danich1/anaconda3/envs/annorxiver/lib/python3.7/site-packages/sklearn/linear_model/_sag.py:330: ConvergenceWarning: The max_iter was reached which means the coef_ did not converge\n",
      "  \"the coef_ did not converge\", ConvergenceWarning)\n"
     ]
    },
    {
     "name": "stdout",
     "output_type": "stream",
     "text": [
      "max_iter reached after 10 seconds\n"
     ]
    },
    {
     "name": "stderr",
     "output_type": "stream",
     "text": [
      "/home/danich1/anaconda3/envs/annorxiver/lib/python3.7/site-packages/sklearn/linear_model/_sag.py:330: ConvergenceWarning: The max_iter was reached which means the coef_ did not converge\n",
      "  \"the coef_ did not converge\", ConvergenceWarning)\n"
     ]
    },
    {
     "name": "stdout",
     "output_type": "stream",
     "text": [
      "max_iter reached after 11 seconds\n"
     ]
    },
    {
     "name": "stderr",
     "output_type": "stream",
     "text": [
      "/home/danich1/anaconda3/envs/annorxiver/lib/python3.7/site-packages/sklearn/linear_model/_sag.py:330: ConvergenceWarning: The max_iter was reached which means the coef_ did not converge\n",
      "  \"the coef_ did not converge\", ConvergenceWarning)\n",
      "[Parallel(n_jobs=1)]: Done  30 out of  30 | elapsed: 18.8min finished\n"
     ]
    },
    {
     "name": "stdout",
     "output_type": "stream",
     "text": [
      "max_iter reached after 12 seconds\n"
     ]
    },
    {
     "name": "stderr",
     "output_type": "stream",
     "text": [
      "/home/danich1/anaconda3/envs/annorxiver/lib/python3.7/site-packages/sklearn/linear_model/_sag.py:330: ConvergenceWarning: The max_iter was reached which means the coef_ did not converge\n",
      "  \"the coef_ did not converge\", ConvergenceWarning)\n"
     ]
    }
   ],
   "source": [
    "fit_model = model.fit(\n",
    "    training_dataset.sample(frac=1, random_state=100).drop(\"true_link\", axis=1), \n",
    "    training_dataset.sample(frac=1, random_state=100).true_link\n",
    ")"
   ]
  },
  {
   "cell_type": "code",
   "execution_count": 25,
   "metadata": {
    "ExecuteTime": {
     "end_time": "2020-07-07T16:49:15.242371Z",
     "start_time": "2020-07-07T16:49:15.222281Z"
    }
   },
   "outputs": [
    {
     "data": {
      "text/plain": [
       "{1: array([[[0.74456364, 0.49985503, 0.49985503],\n",
       "         [0.87967527, 0.87039722, 0.86517831],\n",
       "         [0.9162076 , 0.91591766, 0.91591766],\n",
       "         [0.91823717, 0.91765729, 0.91823717],\n",
       "         [0.91968687, 0.91968687, 0.91968687]],\n",
       " \n",
       "        [[0.73528559, 0.49985503, 0.49985503],\n",
       "         [0.87822557, 0.87213685, 0.86633807],\n",
       "         [0.91504784, 0.91533778, 0.91591766],\n",
       "         [0.91388808, 0.91359814, 0.91388808],\n",
       "         [0.91301827, 0.91330821, 0.91330821]],\n",
       " \n",
       "        [[0.74042923, 0.5       , 0.5       ],\n",
       "         [0.86774942, 0.85962877, 0.85353828],\n",
       "         [0.91328306, 0.91444316, 0.91444316],\n",
       "         [0.91763341, 0.91763341, 0.91821346],\n",
       "         [0.91821346, 0.91821346, 0.91821346]],\n",
       " \n",
       "        [[0.73839907, 0.5       , 0.5       ],\n",
       "         [0.88341067, 0.87238979, 0.86397912],\n",
       "         [0.91647332, 0.91705336, 0.91676334],\n",
       "         [0.91589327, 0.91589327, 0.91589327],\n",
       "         [0.91589327, 0.91589327, 0.91589327]],\n",
       " \n",
       "        [[0.74477958, 0.5       , 0.5       ],\n",
       "         [0.875     , 0.86484919, 0.86020882],\n",
       "         [0.90922274, 0.90980278, 0.90951276],\n",
       "         [0.91038283, 0.91067285, 0.91096288],\n",
       "         [0.91212297, 0.91212297, 0.91212297]],\n",
       " \n",
       "        [[0.75232019, 0.5       , 0.5       ],\n",
       "         [0.88718097, 0.88080046, 0.875     ],\n",
       "         [0.91763341, 0.91850348, 0.91676334],\n",
       "         [0.91821346, 0.91763341, 0.91763341],\n",
       "         [0.91792343, 0.91792343, 0.91763341]],\n",
       " \n",
       "        [[0.74854988, 0.5       , 0.5       ],\n",
       "         [0.88225058, 0.87354988, 0.86948956],\n",
       "         [0.91299304, 0.91415313, 0.91328306],\n",
       "         [0.91473318, 0.9150232 , 0.91444316],\n",
       "         [0.91386311, 0.91386311, 0.91386311]],\n",
       " \n",
       "        [[0.7386891 , 0.5       , 0.5       ],\n",
       "         [0.88950116, 0.88051044, 0.87616009],\n",
       "         [0.91908353, 0.9199536 , 0.91966357],\n",
       "         [0.92285383, 0.92285383, 0.92285383],\n",
       "         [0.92401392, 0.92401392, 0.9237239 ]],\n",
       " \n",
       "        [[0.74477958, 0.50029002, 0.50029002],\n",
       "         [0.88312065, 0.87732019, 0.87006961],\n",
       "         [0.92111369, 0.92111369, 0.92140371],\n",
       "         [0.92401392, 0.92401392, 0.92430394],\n",
       "         [0.92430394, 0.92430394, 0.92430394]],\n",
       " \n",
       "        [[0.74825986, 0.49970998, 0.49970998],\n",
       "         [0.87441995, 0.86948956, 0.86948956],\n",
       "         [0.90139211, 0.90052204, 0.90023202],\n",
       "         [0.90139211, 0.90110209, 0.90110209],\n",
       "         [0.90226218, 0.90226218, 0.90226218]]])}"
      ]
     },
     "execution_count": 25,
     "metadata": {},
     "output_type": "execute_result"
    }
   ],
   "source": [
    "fit_model.scores_"
   ]
  },
  {
   "cell_type": "code",
   "execution_count": 28,
   "metadata": {
    "ExecuteTime": {
     "end_time": "2020-07-07T16:55:07.610027Z",
     "start_time": "2020-07-07T16:55:07.602719Z"
    }
   },
   "outputs": [],
   "source": [
    "import pickle\n",
    "pickle.dump(fit_model, open(\"output/optimized_model.pkl\", \"wb\"))"
   ]
  },
  {
   "cell_type": "markdown",
   "metadata": {},
   "source": [
    "# Find bioRxiv unpublished ->  published PMC articles"
   ]
  },
  {
   "cell_type": "code",
   "execution_count": 26,
   "metadata": {
    "ExecuteTime": {
     "end_time": "2020-07-06T19:44:16.988879Z",
     "start_time": "2020-07-06T19:44:16.925684Z"
    }
   },
   "outputs": [
    {
     "name": "stdout",
     "output_type": "stream",
     "text": [
      "(39706, 301)\n"
     ]
    },
    {
     "data": {
      "text/html": [
       "<div>\n",
       "<style scoped>\n",
       "    .dataframe tbody tr th:only-of-type {\n",
       "        vertical-align: middle;\n",
       "    }\n",
       "\n",
       "    .dataframe tbody tr th {\n",
       "        vertical-align: top;\n",
       "    }\n",
       "\n",
       "    .dataframe thead th {\n",
       "        text-align: right;\n",
       "    }\n",
       "</style>\n",
       "<table border=\"1\" class=\"dataframe\">\n",
       "  <thead>\n",
       "    <tr style=\"text-align: right;\">\n",
       "      <th></th>\n",
       "      <th>document</th>\n",
       "      <th>feat_0</th>\n",
       "      <th>feat_1</th>\n",
       "      <th>feat_2</th>\n",
       "      <th>feat_3</th>\n",
       "      <th>feat_4</th>\n",
       "      <th>feat_5</th>\n",
       "      <th>feat_6</th>\n",
       "      <th>feat_7</th>\n",
       "      <th>feat_8</th>\n",
       "      <th>...</th>\n",
       "      <th>feat_290</th>\n",
       "      <th>feat_291</th>\n",
       "      <th>feat_292</th>\n",
       "      <th>feat_293</th>\n",
       "      <th>feat_294</th>\n",
       "      <th>feat_295</th>\n",
       "      <th>feat_296</th>\n",
       "      <th>feat_297</th>\n",
       "      <th>feat_298</th>\n",
       "      <th>feat_299</th>\n",
       "    </tr>\n",
       "  </thead>\n",
       "  <tbody>\n",
       "    <tr>\n",
       "      <td>3</td>\n",
       "      <td>000091_v1.xml</td>\n",
       "      <td>-0.460216</td>\n",
       "      <td>-0.077183</td>\n",
       "      <td>-0.346650</td>\n",
       "      <td>0.354429</td>\n",
       "      <td>0.540097</td>\n",
       "      <td>-0.367523</td>\n",
       "      <td>-0.597944</td>\n",
       "      <td>-0.026886</td>\n",
       "      <td>0.658745</td>\n",
       "      <td>...</td>\n",
       "      <td>0.313261</td>\n",
       "      <td>-0.251339</td>\n",
       "      <td>0.563322</td>\n",
       "      <td>0.144810</td>\n",
       "      <td>-0.369955</td>\n",
       "      <td>-0.624727</td>\n",
       "      <td>0.338073</td>\n",
       "      <td>0.619281</td>\n",
       "      <td>-0.313213</td>\n",
       "      <td>-0.013729</td>\n",
       "    </tr>\n",
       "    <tr>\n",
       "      <td>9</td>\n",
       "      <td>000216_v1.xml</td>\n",
       "      <td>-0.878772</td>\n",
       "      <td>-0.382037</td>\n",
       "      <td>0.242107</td>\n",
       "      <td>0.273857</td>\n",
       "      <td>-0.240972</td>\n",
       "      <td>-0.685833</td>\n",
       "      <td>-0.162845</td>\n",
       "      <td>0.632005</td>\n",
       "      <td>0.432191</td>\n",
       "      <td>...</td>\n",
       "      <td>-0.514925</td>\n",
       "      <td>-0.151738</td>\n",
       "      <td>-0.114430</td>\n",
       "      <td>-0.211827</td>\n",
       "      <td>-0.670710</td>\n",
       "      <td>-0.032114</td>\n",
       "      <td>1.047945</td>\n",
       "      <td>0.428050</td>\n",
       "      <td>0.091200</td>\n",
       "      <td>-0.024027</td>\n",
       "    </tr>\n",
       "    <tr>\n",
       "      <td>11</td>\n",
       "      <td>000240_v1.xml</td>\n",
       "      <td>-0.222395</td>\n",
       "      <td>0.372372</td>\n",
       "      <td>-0.265261</td>\n",
       "      <td>-0.040393</td>\n",
       "      <td>-0.101332</td>\n",
       "      <td>0.127247</td>\n",
       "      <td>0.140201</td>\n",
       "      <td>-0.037639</td>\n",
       "      <td>0.263343</td>\n",
       "      <td>...</td>\n",
       "      <td>0.267328</td>\n",
       "      <td>0.475576</td>\n",
       "      <td>0.185293</td>\n",
       "      <td>-0.104871</td>\n",
       "      <td>-0.853241</td>\n",
       "      <td>-0.607207</td>\n",
       "      <td>0.262616</td>\n",
       "      <td>0.537938</td>\n",
       "      <td>-0.215396</td>\n",
       "      <td>0.115544</td>\n",
       "    </tr>\n",
       "    <tr>\n",
       "      <td>16</td>\n",
       "      <td>000349_v1.xml</td>\n",
       "      <td>-0.688957</td>\n",
       "      <td>-0.205284</td>\n",
       "      <td>-0.425503</td>\n",
       "      <td>0.061386</td>\n",
       "      <td>0.476985</td>\n",
       "      <td>0.069718</td>\n",
       "      <td>-0.302954</td>\n",
       "      <td>-0.282741</td>\n",
       "      <td>0.468321</td>\n",
       "      <td>...</td>\n",
       "      <td>0.115480</td>\n",
       "      <td>0.110121</td>\n",
       "      <td>0.320913</td>\n",
       "      <td>0.413017</td>\n",
       "      <td>-0.799646</td>\n",
       "      <td>-0.298769</td>\n",
       "      <td>0.460827</td>\n",
       "      <td>0.976833</td>\n",
       "      <td>-0.109842</td>\n",
       "      <td>-0.074529</td>\n",
       "    </tr>\n",
       "    <tr>\n",
       "      <td>17</td>\n",
       "      <td>000364_v1.xml</td>\n",
       "      <td>-0.780313</td>\n",
       "      <td>-0.241075</td>\n",
       "      <td>-0.444565</td>\n",
       "      <td>0.187437</td>\n",
       "      <td>0.243241</td>\n",
       "      <td>-0.068211</td>\n",
       "      <td>-0.142050</td>\n",
       "      <td>-0.248046</td>\n",
       "      <td>0.129683</td>\n",
       "      <td>...</td>\n",
       "      <td>0.085241</td>\n",
       "      <td>0.021038</td>\n",
       "      <td>0.397676</td>\n",
       "      <td>0.112086</td>\n",
       "      <td>-1.035499</td>\n",
       "      <td>-0.838363</td>\n",
       "      <td>0.181689</td>\n",
       "      <td>0.923590</td>\n",
       "      <td>-0.690641</td>\n",
       "      <td>-0.450603</td>\n",
       "    </tr>\n",
       "  </tbody>\n",
       "</table>\n",
       "<p>5 rows × 301 columns</p>\n",
       "</div>"
      ],
      "text/plain": [
       "         document    feat_0    feat_1    feat_2    feat_3    feat_4    feat_5  \\\n",
       "3   000091_v1.xml -0.460216 -0.077183 -0.346650  0.354429  0.540097 -0.367523   \n",
       "9   000216_v1.xml -0.878772 -0.382037  0.242107  0.273857 -0.240972 -0.685833   \n",
       "11  000240_v1.xml -0.222395  0.372372 -0.265261 -0.040393 -0.101332  0.127247   \n",
       "16  000349_v1.xml -0.688957 -0.205284 -0.425503  0.061386  0.476985  0.069718   \n",
       "17  000364_v1.xml -0.780313 -0.241075 -0.444565  0.187437  0.243241 -0.068211   \n",
       "\n",
       "      feat_6    feat_7    feat_8  ...  feat_290  feat_291  feat_292  feat_293  \\\n",
       "3  -0.597944 -0.026886  0.658745  ...  0.313261 -0.251339  0.563322  0.144810   \n",
       "9  -0.162845  0.632005  0.432191  ... -0.514925 -0.151738 -0.114430 -0.211827   \n",
       "11  0.140201 -0.037639  0.263343  ...  0.267328  0.475576  0.185293 -0.104871   \n",
       "16 -0.302954 -0.282741  0.468321  ...  0.115480  0.110121  0.320913  0.413017   \n",
       "17 -0.142050 -0.248046  0.129683  ...  0.085241  0.021038  0.397676  0.112086   \n",
       "\n",
       "    feat_294  feat_295  feat_296  feat_297  feat_298  feat_299  \n",
       "3  -0.369955 -0.624727  0.338073  0.619281 -0.313213 -0.013729  \n",
       "9  -0.670710 -0.032114  1.047945  0.428050  0.091200 -0.024027  \n",
       "11 -0.853241 -0.607207  0.262616  0.537938 -0.215396  0.115544  \n",
       "16 -0.799646 -0.298769  0.460827  0.976833 -0.109842 -0.074529  \n",
       "17 -1.035499 -0.838363  0.181689  0.923590 -0.690641 -0.450603  \n",
       "\n",
       "[5 rows x 301 columns]"
      ]
     },
     "execution_count": 26,
     "metadata": {},
     "output_type": "execute_result"
    }
   ],
   "source": [
    "biorxiv_unpublished = (\n",
    "    biorxiv_journal_mapped_df\n",
    "    .query(\"published_doi.isnull()\")\n",
    "    .drop([\"published_doi\", \"pmcid\", \"pmcoa\"], axis=1)\n",
    ")\n",
    "print(biorxiv_unpublished.shape)\n",
    "biorxiv_unpublished.head()"
   ]
  },
  {
   "cell_type": "code",
   "execution_count": 27,
   "metadata": {
    "ExecuteTime": {
     "end_time": "2020-07-06T19:44:18.619541Z",
     "start_time": "2020-07-06T19:44:16.990102Z"
    }
   },
   "outputs": [
    {
     "name": "stdout",
     "output_type": "stream",
     "text": [
      "(1834477, 303)\n"
     ]
    },
    {
     "data": {
      "text/html": [
       "<div>\n",
       "<style scoped>\n",
       "    .dataframe tbody tr th:only-of-type {\n",
       "        vertical-align: middle;\n",
       "    }\n",
       "\n",
       "    .dataframe tbody tr th {\n",
       "        vertical-align: top;\n",
       "    }\n",
       "\n",
       "    .dataframe thead th {\n",
       "        text-align: right;\n",
       "    }\n",
       "</style>\n",
       "<table border=\"1\" class=\"dataframe\">\n",
       "  <thead>\n",
       "    <tr style=\"text-align: right;\">\n",
       "      <th></th>\n",
       "      <th>journal</th>\n",
       "      <th>doi</th>\n",
       "      <th>document</th>\n",
       "      <th>feat_0</th>\n",
       "      <th>feat_1</th>\n",
       "      <th>feat_2</th>\n",
       "      <th>feat_3</th>\n",
       "      <th>feat_4</th>\n",
       "      <th>feat_5</th>\n",
       "      <th>feat_6</th>\n",
       "      <th>...</th>\n",
       "      <th>feat_290</th>\n",
       "      <th>feat_291</th>\n",
       "      <th>feat_292</th>\n",
       "      <th>feat_293</th>\n",
       "      <th>feat_294</th>\n",
       "      <th>feat_295</th>\n",
       "      <th>feat_296</th>\n",
       "      <th>feat_297</th>\n",
       "      <th>feat_298</th>\n",
       "      <th>feat_299</th>\n",
       "    </tr>\n",
       "  </thead>\n",
       "  <tbody>\n",
       "    <tr>\n",
       "      <td>0</td>\n",
       "      <td>Environ_Health</td>\n",
       "      <td>10.1186/1476-069X-5-22</td>\n",
       "      <td>PMC1552054</td>\n",
       "      <td>-0.428596</td>\n",
       "      <td>0.004477</td>\n",
       "      <td>-0.153677</td>\n",
       "      <td>0.059131</td>\n",
       "      <td>-0.394598</td>\n",
       "      <td>-0.066383</td>\n",
       "      <td>0.358798</td>\n",
       "      <td>...</td>\n",
       "      <td>-0.067994</td>\n",
       "      <td>0.033121</td>\n",
       "      <td>-0.077121</td>\n",
       "      <td>-0.433617</td>\n",
       "      <td>-1.111247</td>\n",
       "      <td>-0.405260</td>\n",
       "      <td>0.293903</td>\n",
       "      <td>0.613155</td>\n",
       "      <td>-0.500204</td>\n",
       "      <td>-0.214057</td>\n",
       "    </tr>\n",
       "    <tr>\n",
       "      <td>1</td>\n",
       "      <td>Environ_Health</td>\n",
       "      <td>10.1186/1476-069X-4-12</td>\n",
       "      <td>PMC1226148</td>\n",
       "      <td>-0.434013</td>\n",
       "      <td>-0.185516</td>\n",
       "      <td>-0.070654</td>\n",
       "      <td>0.488759</td>\n",
       "      <td>-0.280275</td>\n",
       "      <td>0.042681</td>\n",
       "      <td>0.116685</td>\n",
       "      <td>...</td>\n",
       "      <td>0.318905</td>\n",
       "      <td>-0.065244</td>\n",
       "      <td>0.159258</td>\n",
       "      <td>-0.380412</td>\n",
       "      <td>-0.665559</td>\n",
       "      <td>-0.485417</td>\n",
       "      <td>0.180982</td>\n",
       "      <td>0.523053</td>\n",
       "      <td>-0.485158</td>\n",
       "      <td>-0.251244</td>\n",
       "    </tr>\n",
       "    <tr>\n",
       "      <td>2</td>\n",
       "      <td>Environ_Health</td>\n",
       "      <td>10.1186/s12940-017-0316-3</td>\n",
       "      <td>PMC5635510</td>\n",
       "      <td>-0.248388</td>\n",
       "      <td>0.118660</td>\n",
       "      <td>-0.103008</td>\n",
       "      <td>0.267721</td>\n",
       "      <td>0.278939</td>\n",
       "      <td>-0.220584</td>\n",
       "      <td>0.089593</td>\n",
       "      <td>...</td>\n",
       "      <td>0.081127</td>\n",
       "      <td>-0.110091</td>\n",
       "      <td>-0.031617</td>\n",
       "      <td>-0.188741</td>\n",
       "      <td>-0.936947</td>\n",
       "      <td>-0.461118</td>\n",
       "      <td>0.618781</td>\n",
       "      <td>0.647195</td>\n",
       "      <td>-0.270240</td>\n",
       "      <td>-0.409643</td>\n",
       "    </tr>\n",
       "    <tr>\n",
       "      <td>3</td>\n",
       "      <td>Environ_Health</td>\n",
       "      <td>10.1186/1476-069X-10-46</td>\n",
       "      <td>PMC3125232</td>\n",
       "      <td>-0.507224</td>\n",
       "      <td>0.024099</td>\n",
       "      <td>-0.039696</td>\n",
       "      <td>-0.171992</td>\n",
       "      <td>0.371326</td>\n",
       "      <td>-0.137797</td>\n",
       "      <td>-0.202616</td>\n",
       "      <td>...</td>\n",
       "      <td>-0.218274</td>\n",
       "      <td>-0.022597</td>\n",
       "      <td>-0.028885</td>\n",
       "      <td>-0.250560</td>\n",
       "      <td>-1.140730</td>\n",
       "      <td>-0.568136</td>\n",
       "      <td>0.482088</td>\n",
       "      <td>0.899122</td>\n",
       "      <td>-0.250971</td>\n",
       "      <td>-0.592976</td>\n",
       "    </tr>\n",
       "    <tr>\n",
       "      <td>4</td>\n",
       "      <td>Environ_Health</td>\n",
       "      <td>10.1186/1476-069X-11-91</td>\n",
       "      <td>PMC3533997</td>\n",
       "      <td>-0.424435</td>\n",
       "      <td>0.175519</td>\n",
       "      <td>-0.048797</td>\n",
       "      <td>0.178023</td>\n",
       "      <td>-0.042913</td>\n",
       "      <td>-0.282377</td>\n",
       "      <td>0.317917</td>\n",
       "      <td>...</td>\n",
       "      <td>-0.111805</td>\n",
       "      <td>-0.262620</td>\n",
       "      <td>-0.187817</td>\n",
       "      <td>-0.463804</td>\n",
       "      <td>-1.308874</td>\n",
       "      <td>-0.352892</td>\n",
       "      <td>0.251982</td>\n",
       "      <td>0.550853</td>\n",
       "      <td>-0.659678</td>\n",
       "      <td>-0.614042</td>\n",
       "    </tr>\n",
       "  </tbody>\n",
       "</table>\n",
       "<p>5 rows × 303 columns</p>\n",
       "</div>"
      ],
      "text/plain": [
       "          journal                        doi    document    feat_0    feat_1  \\\n",
       "0  Environ_Health     10.1186/1476-069X-5-22  PMC1552054 -0.428596  0.004477   \n",
       "1  Environ_Health     10.1186/1476-069X-4-12  PMC1226148 -0.434013 -0.185516   \n",
       "2  Environ_Health  10.1186/s12940-017-0316-3  PMC5635510 -0.248388  0.118660   \n",
       "3  Environ_Health    10.1186/1476-069X-10-46  PMC3125232 -0.507224  0.024099   \n",
       "4  Environ_Health    10.1186/1476-069X-11-91  PMC3533997 -0.424435  0.175519   \n",
       "\n",
       "     feat_2    feat_3    feat_4    feat_5    feat_6  ...  feat_290  feat_291  \\\n",
       "0 -0.153677  0.059131 -0.394598 -0.066383  0.358798  ... -0.067994  0.033121   \n",
       "1 -0.070654  0.488759 -0.280275  0.042681  0.116685  ...  0.318905 -0.065244   \n",
       "2 -0.103008  0.267721  0.278939 -0.220584  0.089593  ...  0.081127 -0.110091   \n",
       "3 -0.039696 -0.171992  0.371326 -0.137797 -0.202616  ... -0.218274 -0.022597   \n",
       "4 -0.048797  0.178023 -0.042913 -0.282377  0.317917  ... -0.111805 -0.262620   \n",
       "\n",
       "   feat_292  feat_293  feat_294  feat_295  feat_296  feat_297  feat_298  \\\n",
       "0 -0.077121 -0.433617 -1.111247 -0.405260  0.293903  0.613155 -0.500204   \n",
       "1  0.159258 -0.380412 -0.665559 -0.485417  0.180982  0.523053 -0.485158   \n",
       "2 -0.031617 -0.188741 -0.936947 -0.461118  0.618781  0.647195 -0.270240   \n",
       "3 -0.028885 -0.250560 -1.140730 -0.568136  0.482088  0.899122 -0.250971   \n",
       "4 -0.187817 -0.463804 -1.308874 -0.352892  0.251982  0.550853 -0.659678   \n",
       "\n",
       "   feat_299  \n",
       "0 -0.214057  \n",
       "1 -0.251244  \n",
       "2 -0.409643  \n",
       "3 -0.592976  \n",
       "4 -0.614042  \n",
       "\n",
       "[5 rows x 303 columns]"
      ]
     },
     "execution_count": 27,
     "metadata": {},
     "output_type": "execute_result"
    }
   ],
   "source": [
    "PMC_unlinked = (\n",
    "    pmc_journal_mapped_df\n",
    "    .query(\n",
    "        f\"\"\"\n",
    "        document not in {\n",
    "            biorxiv_published\n",
    "            .reset_index()\n",
    "            .pmcid\n",
    "            .tolist()\n",
    "        }\n",
    "        \"\"\"\n",
    "    )\n",
    ")\n",
    "print(PMC_unlinked.shape)\n",
    "PMC_unlinked.head()"
   ]
  },
  {
   "cell_type": "code",
   "execution_count": 28,
   "metadata": {
    "ExecuteTime": {
     "end_time": "2020-07-06T19:44:18.628169Z",
     "start_time": "2020-07-06T19:44:18.620627Z"
    }
   },
   "outputs": [
    {
     "data": {
      "text/plain": [
       "1.9184824531116913"
      ]
     },
     "execution_count": 28,
     "metadata": {},
     "output_type": "execute_result"
    }
   ],
   "source": [
    "cutoff_score = (\n",
    "    final_df\n",
    "    .query(\"label=='pre_vs_random'\")\n",
    "    .distance\n",
    "    .min()\n",
    ")\n",
    "cutoff_score"
   ]
  },
  {
   "cell_type": "code",
   "execution_count": 29,
   "metadata": {
    "ExecuteTime": {
     "end_time": "2020-07-06T19:44:18.642946Z",
     "start_time": "2020-07-06T19:44:18.629272Z"
    }
   },
   "outputs": [],
   "source": [
    "chunksize=100\n",
    "chunk_iterator = range(\n",
    "    0, biorxiv_unpublished.shape[0], \n",
    "    chunksize\n",
    ")"
   ]
  },
  {
   "cell_type": "code",
   "execution_count": 30,
   "metadata": {
    "ExecuteTime": {
     "end_time": "2020-07-06T23:44:42.515286Z",
     "start_time": "2020-07-06T19:44:18.644201Z"
    }
   },
   "outputs": [
    {
     "name": "stderr",
     "output_type": "stream",
     "text": [
      "398it [4:00:23, 36.24s/it]\n"
     ]
    }
   ],
   "source": [
    "for idx, chunk in tqdm.tqdm(enumerate(chunk_iterator)):\n",
    "    \n",
    "    # Chunk the documents so memory doesn't break\n",
    "    biorxiv_subset = (\n",
    "        biorxiv_unpublished\n",
    "        .iloc[chunk:chunk+chunksize]\n",
    "    )\n",
    "    \n",
    "    # Calculate distances\n",
    "    paper_distances = cdist(\n",
    "        biorxiv_subset.drop([\"document\"], axis=1), \n",
    "        PMC_unlinked.drop([\"journal\", \"document\", \"doi\"], axis=1),\n",
    "        'euclidean'\n",
    "    )\n",
    "    \n",
    "    # Get elements less than threshold\n",
    "    sig_indicies = np.where(paper_distances < cutoff_score)\n",
    "    results = zip(\n",
    "        sig_indicies[0],\n",
    "        sig_indicies[1],\n",
    "        paper_distances[paper_distances < cutoff_score]\n",
    "    )\n",
    "    \n",
    "    # Map the results into records for pandas to parse\n",
    "    results = list(\n",
    "        map(\n",
    "            lambda x: dict(\n",
    "                document=biorxiv_subset.iloc[x[0]].document,\n",
    "                pmcid=PMC_unlinked.iloc[x[1]].document,\n",
    "                distance=x[2]\n",
    "            ),\n",
    "            results\n",
    "        )\n",
    "    )\n",
    "    \n",
    "    # There may be cases where there are no matches\n",
    "    if len(results) > 0:\n",
    "        # Generate pandas dataframe\n",
    "        potential_matches_df = (\n",
    "            biorxiv_journal_df[[\"document\", \"doi\"]]\n",
    "            .merge(\n",
    "                pd.DataFrame\n",
    "                .from_records(results)\n",
    "            )\n",
    "            .sort_values(\"distance\")\n",
    "        )\n",
    "    \n",
    "        # Write to file\n",
    "        if idx == 0:\n",
    "            potential_matches_df.to_csv(\n",
    "                \"output/potential_biorxiv_pmc_links.tsv\", \n",
    "                sep=\"\\t\", index=False\n",
    "            )\n",
    "\n",
    "        else:\n",
    "            potential_matches_df.to_csv(\n",
    "                \"output/potential_biorxiv_pmc_links.tsv\", \n",
    "                sep=\"\\t\", index=False,\n",
    "                mode=\"a\", header=False\n",
    "            )\n"
   ]
  },
  {
   "cell_type": "markdown",
   "metadata": {},
   "source": [
    "# Bin Potential Matches"
   ]
  },
  {
   "cell_type": "code",
   "execution_count": 31,
   "metadata": {
    "ExecuteTime": {
     "end_time": "2020-07-06T23:44:42.597306Z",
     "start_time": "2020-07-06T23:44:42.516471Z"
    }
   },
   "outputs": [
    {
     "data": {
      "text/html": [
       "<div>\n",
       "<style scoped>\n",
       "    .dataframe tbody tr th:only-of-type {\n",
       "        vertical-align: middle;\n",
       "    }\n",
       "\n",
       "    .dataframe tbody tr th {\n",
       "        vertical-align: top;\n",
       "    }\n",
       "\n",
       "    .dataframe thead th {\n",
       "        text-align: right;\n",
       "    }\n",
       "</style>\n",
       "<table border=\"1\" class=\"dataframe\">\n",
       "  <thead>\n",
       "    <tr style=\"text-align: right;\">\n",
       "      <th></th>\n",
       "      <th>document</th>\n",
       "      <th>doi</th>\n",
       "      <th>pmcid</th>\n",
       "      <th>distance</th>\n",
       "    </tr>\n",
       "  </thead>\n",
       "  <tbody>\n",
       "    <tr>\n",
       "      <td>0</td>\n",
       "      <td>002097_v1.xml</td>\n",
       "      <td>10.1101/002097</td>\n",
       "      <td>PMC4404056</td>\n",
       "      <td>0.855655</td>\n",
       "    </tr>\n",
       "    <tr>\n",
       "      <td>1</td>\n",
       "      <td>000836_v1.xml</td>\n",
       "      <td>10.1101/000836</td>\n",
       "      <td>PMC4592070</td>\n",
       "      <td>0.857073</td>\n",
       "    </tr>\n",
       "    <tr>\n",
       "      <td>2</td>\n",
       "      <td>003129_v1.xml</td>\n",
       "      <td>10.1101/003129</td>\n",
       "      <td>PMC4866720</td>\n",
       "      <td>1.026857</td>\n",
       "    </tr>\n",
       "    <tr>\n",
       "      <td>3</td>\n",
       "      <td>000240_v1.xml</td>\n",
       "      <td>10.1101/000240</td>\n",
       "      <td>PMC4243381</td>\n",
       "      <td>1.130239</td>\n",
       "    </tr>\n",
       "    <tr>\n",
       "      <td>4</td>\n",
       "      <td>004291_v1.xml</td>\n",
       "      <td>10.1101/004291</td>\n",
       "      <td>PMC4650676</td>\n",
       "      <td>1.201887</td>\n",
       "    </tr>\n",
       "  </tbody>\n",
       "</table>\n",
       "</div>"
      ],
      "text/plain": [
       "        document             doi       pmcid  distance\n",
       "0  002097_v1.xml  10.1101/002097  PMC4404056  0.855655\n",
       "1  000836_v1.xml  10.1101/000836  PMC4592070  0.857073\n",
       "2  003129_v1.xml  10.1101/003129  PMC4866720  1.026857\n",
       "3  000240_v1.xml  10.1101/000240  PMC4243381  1.130239\n",
       "4  004291_v1.xml  10.1101/004291  PMC4650676  1.201887"
      ]
     },
     "execution_count": 31,
     "metadata": {},
     "output_type": "execute_result"
    }
   ],
   "source": [
    "potential_matches_df = pd.read_csv(\n",
    "    \"output/potential_biorxiv_pmc_links.tsv\",\n",
    "    sep=\"\\t\"\n",
    ")\n",
    "potential_matches_df.head()"
   ]
  },
  {
   "cell_type": "code",
   "execution_count": 32,
   "metadata": {
    "ExecuteTime": {
     "end_time": "2020-07-06T23:44:42.714276Z",
     "start_time": "2020-07-06T23:44:42.598373Z"
    }
   },
   "outputs": [
    {
     "data": {
      "text/html": [
       "<div>\n",
       "<style scoped>\n",
       "    .dataframe tbody tr th:only-of-type {\n",
       "        vertical-align: middle;\n",
       "    }\n",
       "\n",
       "    .dataframe tbody tr th {\n",
       "        vertical-align: top;\n",
       "    }\n",
       "\n",
       "    .dataframe thead th {\n",
       "        text-align: right;\n",
       "    }\n",
       "</style>\n",
       "<table border=\"1\" class=\"dataframe\">\n",
       "  <thead>\n",
       "    <tr style=\"text-align: right;\">\n",
       "      <th></th>\n",
       "      <th>document</th>\n",
       "      <th>biorxiv_doi</th>\n",
       "      <th>pmcid</th>\n",
       "      <th>distance</th>\n",
       "      <th>pmcid_url</th>\n",
       "      <th>biorxiv_doi_url</th>\n",
       "    </tr>\n",
       "  </thead>\n",
       "  <tbody>\n",
       "    <tr>\n",
       "      <td>0</td>\n",
       "      <td>002097_v1.xml</td>\n",
       "      <td>10.1101/002097</td>\n",
       "      <td>PMC4404056</td>\n",
       "      <td>0.855655</td>\n",
       "      <td>https://www.ncbi.nlm.nih.gov/pmc/PMC4404056</td>\n",
       "      <td>https://doi.org/10.1101/002097</td>\n",
       "    </tr>\n",
       "    <tr>\n",
       "      <td>1</td>\n",
       "      <td>000836_v1.xml</td>\n",
       "      <td>10.1101/000836</td>\n",
       "      <td>PMC4592070</td>\n",
       "      <td>0.857073</td>\n",
       "      <td>https://www.ncbi.nlm.nih.gov/pmc/PMC4592070</td>\n",
       "      <td>https://doi.org/10.1101/000836</td>\n",
       "    </tr>\n",
       "    <tr>\n",
       "      <td>2</td>\n",
       "      <td>003129_v1.xml</td>\n",
       "      <td>10.1101/003129</td>\n",
       "      <td>PMC4866720</td>\n",
       "      <td>1.026857</td>\n",
       "      <td>https://www.ncbi.nlm.nih.gov/pmc/PMC4866720</td>\n",
       "      <td>https://doi.org/10.1101/003129</td>\n",
       "    </tr>\n",
       "    <tr>\n",
       "      <td>3</td>\n",
       "      <td>000240_v1.xml</td>\n",
       "      <td>10.1101/000240</td>\n",
       "      <td>PMC4243381</td>\n",
       "      <td>1.130239</td>\n",
       "      <td>https://www.ncbi.nlm.nih.gov/pmc/PMC4243381</td>\n",
       "      <td>https://doi.org/10.1101/000240</td>\n",
       "    </tr>\n",
       "    <tr>\n",
       "      <td>4</td>\n",
       "      <td>004291_v1.xml</td>\n",
       "      <td>10.1101/004291</td>\n",
       "      <td>PMC4650676</td>\n",
       "      <td>1.201887</td>\n",
       "      <td>https://www.ncbi.nlm.nih.gov/pmc/PMC4650676</td>\n",
       "      <td>https://doi.org/10.1101/004291</td>\n",
       "    </tr>\n",
       "  </tbody>\n",
       "</table>\n",
       "</div>"
      ],
      "text/plain": [
       "        document     biorxiv_doi       pmcid  distance  \\\n",
       "0  002097_v1.xml  10.1101/002097  PMC4404056  0.855655   \n",
       "1  000836_v1.xml  10.1101/000836  PMC4592070  0.857073   \n",
       "2  003129_v1.xml  10.1101/003129  PMC4866720  1.026857   \n",
       "3  000240_v1.xml  10.1101/000240  PMC4243381  1.130239   \n",
       "4  004291_v1.xml  10.1101/004291  PMC4650676  1.201887   \n",
       "\n",
       "                                     pmcid_url                 biorxiv_doi_url  \n",
       "0  https://www.ncbi.nlm.nih.gov/pmc/PMC4404056  https://doi.org/10.1101/002097  \n",
       "1  https://www.ncbi.nlm.nih.gov/pmc/PMC4592070  https://doi.org/10.1101/000836  \n",
       "2  https://www.ncbi.nlm.nih.gov/pmc/PMC4866720  https://doi.org/10.1101/003129  \n",
       "3  https://www.ncbi.nlm.nih.gov/pmc/PMC4243381  https://doi.org/10.1101/000240  \n",
       "4  https://www.ncbi.nlm.nih.gov/pmc/PMC4650676  https://doi.org/10.1101/004291  "
      ]
     },
     "execution_count": 32,
     "metadata": {},
     "output_type": "execute_result"
    }
   ],
   "source": [
    "potential_matches_df = (\n",
    "    potential_matches_df\n",
    "    .rename(index=str, columns={\"doi\":\"biorxiv_doi\"})\n",
    "    .drop_duplicates([\"document\", \"biorxiv_doi\",\"pmcid\"])\n",
    "    .assign(\n",
    "        pmcid_url=lambda x:(\n",
    "            x\n",
    "            .pmcid\n",
    "            .apply(\n",
    "                lambda paper: f\"https://www.ncbi.nlm.nih.gov/pmc/{paper}\"\n",
    "            )\n",
    "        ),\n",
    "        biorxiv_doi_url=lambda x:(\n",
    "            x\n",
    "            .biorxiv_doi\n",
    "            .apply(\n",
    "                lambda paper: f\"https://doi.org/{paper}\"\n",
    "            )\n",
    "        )\n",
    "    )\n",
    "    \n",
    ")\n",
    "potential_matches_df.head()"
   ]
  },
  {
   "cell_type": "code",
   "execution_count": 33,
   "metadata": {
    "ExecuteTime": {
     "end_time": "2020-07-06T23:44:42.732581Z",
     "start_time": "2020-07-06T23:44:42.715504Z"
    }
   },
   "outputs": [
    {
     "data": {
      "text/plain": [
       "array([0.        , 0.98019147, 1.22516676, 1.57598214, 1.91848245])"
      ]
     },
     "execution_count": 33,
     "metadata": {},
     "output_type": "execute_result"
    }
   ],
   "source": [
    "distance_bins = np.squeeze(\n",
    "    final_df\n",
    "    .query(\"label=='pre_vs_published'\")\n",
    "    .describe()\n",
    "    .loc[[\"25%\", \"50%\", \"75%\"]]\n",
    "    .values\n",
    ")\n",
    "\n",
    "distance_bins = np.append(\n",
    "        [0.0],\n",
    "        distance_bins,\n",
    ")\n",
    "\n",
    "distance_bins = np.append(\n",
    "    distance_bins,\n",
    "    (\n",
    "        final_df\n",
    "        .query(\"label=='pre_vs_random'\")\n",
    "        .distance\n",
    "        .min()\n",
    "    )   \n",
    ")\n",
    "\n",
    "distance_bins"
   ]
  },
  {
   "cell_type": "code",
   "execution_count": 34,
   "metadata": {
    "ExecuteTime": {
     "end_time": "2020-07-06T23:44:43.215756Z",
     "start_time": "2020-07-06T23:44:42.733813Z"
    }
   },
   "outputs": [
    {
     "data": {
      "text/html": [
       "<div>\n",
       "<style scoped>\n",
       "    .dataframe tbody tr th:only-of-type {\n",
       "        vertical-align: middle;\n",
       "    }\n",
       "\n",
       "    .dataframe tbody tr th {\n",
       "        vertical-align: top;\n",
       "    }\n",
       "\n",
       "    .dataframe thead th {\n",
       "        text-align: right;\n",
       "    }\n",
       "</style>\n",
       "<table border=\"1\" class=\"dataframe\">\n",
       "  <thead>\n",
       "    <tr style=\"text-align: right;\">\n",
       "      <th></th>\n",
       "      <th>document</th>\n",
       "      <th>biorxiv_doi</th>\n",
       "      <th>biorxiv_doi_url</th>\n",
       "      <th>pmcid</th>\n",
       "      <th>pmcid_url</th>\n",
       "      <th>distance</th>\n",
       "      <th>distance_bin</th>\n",
       "    </tr>\n",
       "  </thead>\n",
       "  <tbody>\n",
       "    <tr>\n",
       "      <td>0</td>\n",
       "      <td>002097_v1.xml</td>\n",
       "      <td>10.1101/002097</td>\n",
       "      <td>https://doi.org/10.1101/002097</td>\n",
       "      <td>PMC4404056</td>\n",
       "      <td>https://www.ncbi.nlm.nih.gov/pmc/PMC4404056</td>\n",
       "      <td>0.855655</td>\n",
       "      <td>[0, 25%ile)</td>\n",
       "    </tr>\n",
       "    <tr>\n",
       "      <td>1</td>\n",
       "      <td>000836_v1.xml</td>\n",
       "      <td>10.1101/000836</td>\n",
       "      <td>https://doi.org/10.1101/000836</td>\n",
       "      <td>PMC4592070</td>\n",
       "      <td>https://www.ncbi.nlm.nih.gov/pmc/PMC4592070</td>\n",
       "      <td>0.857073</td>\n",
       "      <td>[0, 25%ile)</td>\n",
       "    </tr>\n",
       "    <tr>\n",
       "      <td>2</td>\n",
       "      <td>003129_v1.xml</td>\n",
       "      <td>10.1101/003129</td>\n",
       "      <td>https://doi.org/10.1101/003129</td>\n",
       "      <td>PMC4866720</td>\n",
       "      <td>https://www.ncbi.nlm.nih.gov/pmc/PMC4866720</td>\n",
       "      <td>1.026857</td>\n",
       "      <td>[25%ile, 50%ile)</td>\n",
       "    </tr>\n",
       "    <tr>\n",
       "      <td>3</td>\n",
       "      <td>000240_v1.xml</td>\n",
       "      <td>10.1101/000240</td>\n",
       "      <td>https://doi.org/10.1101/000240</td>\n",
       "      <td>PMC4243381</td>\n",
       "      <td>https://www.ncbi.nlm.nih.gov/pmc/PMC4243381</td>\n",
       "      <td>1.130239</td>\n",
       "      <td>[25%ile, 50%ile)</td>\n",
       "    </tr>\n",
       "    <tr>\n",
       "      <td>4</td>\n",
       "      <td>004291_v1.xml</td>\n",
       "      <td>10.1101/004291</td>\n",
       "      <td>https://doi.org/10.1101/004291</td>\n",
       "      <td>PMC4650676</td>\n",
       "      <td>https://www.ncbi.nlm.nih.gov/pmc/PMC4650676</td>\n",
       "      <td>1.201887</td>\n",
       "      <td>[25%ile, 50%ile)</td>\n",
       "    </tr>\n",
       "  </tbody>\n",
       "</table>\n",
       "</div>"
      ],
      "text/plain": [
       "        document     biorxiv_doi                 biorxiv_doi_url       pmcid  \\\n",
       "0  002097_v1.xml  10.1101/002097  https://doi.org/10.1101/002097  PMC4404056   \n",
       "1  000836_v1.xml  10.1101/000836  https://doi.org/10.1101/000836  PMC4592070   \n",
       "2  003129_v1.xml  10.1101/003129  https://doi.org/10.1101/003129  PMC4866720   \n",
       "3  000240_v1.xml  10.1101/000240  https://doi.org/10.1101/000240  PMC4243381   \n",
       "4  004291_v1.xml  10.1101/004291  https://doi.org/10.1101/004291  PMC4650676   \n",
       "\n",
       "                                     pmcid_url  distance      distance_bin  \n",
       "0  https://www.ncbi.nlm.nih.gov/pmc/PMC4404056  0.855655       [0, 25%ile)  \n",
       "1  https://www.ncbi.nlm.nih.gov/pmc/PMC4592070  0.857073       [0, 25%ile)  \n",
       "2  https://www.ncbi.nlm.nih.gov/pmc/PMC4866720  1.026857  [25%ile, 50%ile)  \n",
       "3  https://www.ncbi.nlm.nih.gov/pmc/PMC4243381  1.130239  [25%ile, 50%ile)  \n",
       "4  https://www.ncbi.nlm.nih.gov/pmc/PMC4650676  1.201887  [25%ile, 50%ile)  "
      ]
     },
     "execution_count": 34,
     "metadata": {},
     "output_type": "execute_result"
    }
   ],
   "source": [
    "potential_matches_df = (\n",
    "    potential_matches_df\n",
    "    .assign(\n",
    "        distance_bin=(\n",
    "            pd.cut(\n",
    "                potential_matches_df.distance,\n",
    "                distance_bins,\n",
    "                right=False,\n",
    "                labels=[\n",
    "                    \"[0, 25%ile)\",\n",
    "                    \"[25%ile, 50%ile)\",\n",
    "                    \"[50%ile, 75%ile)\",\n",
    "                    \"[75%, min(same-journal-no-known-link))\"\n",
    "                ]\n",
    "            )\n",
    "        )\n",
    "    )\n",
    "    [[\n",
    "        \"document\", \"biorxiv_doi\", \n",
    "        \"biorxiv_doi_url\", \"pmcid\",\n",
    "        \"pmcid_url\", \"distance\",\n",
    "        \"distance_bin\"\n",
    "    ]]\n",
    ")\n",
    "\n",
    "potential_matches_df.to_csv(\n",
    "    \"output/potential_biorxiv_pmc_links.tsv\", \n",
    "    sep=\"\\t\", index=False\n",
    ")\n",
    "\n",
    "potential_matches_df.head()"
   ]
  }
 ],
 "metadata": {
  "kernelspec": {
   "display_name": "Python [conda env:annorxiver]",
   "language": "python",
   "name": "conda-env-annorxiver-py"
  },
  "language_info": {
   "codemirror_mode": {
    "name": "ipython",
    "version": 3
   },
   "file_extension": ".py",
   "mimetype": "text/x-python",
   "name": "python",
   "nbconvert_exporter": "python",
   "pygments_lexer": "ipython3",
   "version": "3.7.2"
  },
  "toc": {
   "base_numbering": 1,
   "nav_menu": {},
   "number_sections": true,
   "sideBar": true,
   "skip_h1_title": false,
   "title_cell": "Table of Contents",
   "title_sidebar": "Contents",
   "toc_cell": false,
   "toc_position": {},
   "toc_section_display": true,
   "toc_window_display": false
  }
 },
 "nbformat": 4,
 "nbformat_minor": 2
}
