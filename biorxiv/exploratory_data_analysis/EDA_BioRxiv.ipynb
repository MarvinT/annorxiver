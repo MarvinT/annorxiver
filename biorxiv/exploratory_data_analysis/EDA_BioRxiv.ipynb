{
 "cells": [
  {
   "cell_type": "markdown",
   "metadata": {},
   "source": [
    "# Exploratory Data Analysis-BioRxiv"
   ]
  },
  {
   "cell_type": "markdown",
   "metadata": {},
   "source": [
    "This notebook is designed to generate descriptive statistics for a snapshot of the BioRxiv repository. The following information is obtained: \n",
    "1. if the article is a research article\n",
    "2. if the article is a new, contradictory, or confirmatory analysis\n",
    "3. the category assigned to each research article (pi self assigns)\n",
    "4. the type of section headers contain in each research article"
   ]
  },
  {
   "cell_type": "markdown",
   "metadata": {},
   "source": [
    "## Load the environment to parse BioRxiv"
   ]
  },
  {
   "cell_type": "code",
   "execution_count": 1,
   "metadata": {
    "ExecuteTime": {
     "end_time": "2020-11-12T15:10:14.260699Z",
     "start_time": "2020-11-12T15:10:13.432688Z"
    }
   },
   "outputs": [],
   "source": [
    "from pathlib import Path\n",
    "import re\n",
    "from itertools import product\n",
    "\n",
    "import lxml.etree as ET\n",
    "import pandas as pd\n",
    "import plotnine as p9\n",
    "from tqdm import tqdm_notebook"
   ]
  },
  {
   "cell_type": "code",
   "execution_count": 2,
   "metadata": {
    "ExecuteTime": {
     "end_time": "2020-11-12T15:10:14.264241Z",
     "start_time": "2020-11-12T15:10:14.261933Z"
    }
   },
   "outputs": [],
   "source": [
    "biorxiv_files = Path(\"../biorxiv_articles\").rglob(\"*.xml\")"
   ]
  },
  {
   "cell_type": "markdown",
   "metadata": {},
   "source": [
    "## Parse BioRxiv"
   ]
  },
  {
   "cell_type": "code",
   "execution_count": 3,
   "metadata": {
    "ExecuteTime": {
     "end_time": "2020-11-12T15:10:14.273745Z",
     "start_time": "2020-11-12T15:10:14.265523Z"
    }
   },
   "outputs": [],
   "source": [
    "def header_group_mapper(header):\n",
    "    if re.search(\"method\", header, flags=re.I):\n",
    "        return \"material and methods\"\n",
    "    if re.search(\"abstract\", header, flags=re.I):\n",
    "        return \"abstract\"\n",
    "    if re.search(\"conclusion\", header, flags=re.I):\n",
    "        return \"conclusion\"\n",
    "    if re.search(r\"(supplementary|supplemental) material\", header, flags=re.I):\n",
    "        return \"supplemental material\"\n",
    "    if re.search(r\"(declaration[s]?( of interest[s]?)?)|(competing (financial )?interest[s]?)\", header, flags=re.I):\n",
    "        return \"conflict of interest\"\n",
    "    if re.search(\"additional information\", header, flags=re.I):\n",
    "        return \"supplemental information\"\n",
    "    if re.search(r\"author[s]?[']? contribution[s]?\", header, flags=re.I):\n",
    "        return \"author contribution\"\n",
    "    if re.search(r\"(supplementary|supporting) information\", header, flags=re.I):\n",
    "        return \"supplemental information\"\n",
    "    if re.search(\"data accessibility\", header, flags=re.I):\n",
    "        return \"data availability\"\n",
    "    if re.search(r\"experimental procedures\", header, flags=re.I):\n",
    "        return \"material and methods\"\n",
    "    return header"
   ]
  },
  {
   "cell_type": "code",
   "execution_count": 4,
   "metadata": {
    "ExecuteTime": {
     "end_time": "2020-11-12T15:10:14.287441Z",
     "start_time": "2020-11-12T15:10:14.275187Z"
    },
    "scrolled": true
   },
   "outputs": [],
   "source": [
    "if (\n",
    "    not Path(\"output/biorxiv_article_metadata.tsv\").exists() and \n",
    "    not Path(\"output/biorxiv_article_sections.tsv\").exists()\n",
    "):\n",
    "    article_metadata = []\n",
    "    article_sections = []\n",
    "\n",
    "    type_mapper = {\n",
    "        'author-type':'author_type',\n",
    "        'heading':'heading',\n",
    "        'hwp-journal-coll':'category'\n",
    "    }\n",
    "    xml_parser = ET.XMLParser(encoding='UTF-8', recover=True)\n",
    "    for file in tqdm_notebook(biorxiv_files):\n",
    "        article = file.with_suffix('').name\n",
    "        root = ET.parse(open(file, \"rb\"), parser=xml_parser).getroot()\n",
    "\n",
    "        # Grab the subject category\n",
    "        metadata = {\n",
    "            type_mapper[x.attrib['subj-group-type']]:x.getchildren()[0].text.lower()\n",
    "            for x in root.xpath('//subj-group')\n",
    "        }\n",
    "\n",
    "        metadata.update({'document':f\"{article}.xml\", 'doi':root.xpath('//article-id')[0].text})\n",
    "        article_metadata.append(metadata)\n",
    "\n",
    "        # Grab the section titles \n",
    "        section_objs = list(\n",
    "            filter(\n",
    "                lambda x: \"id\" in x.attrib and re.search(r\"s[\\d]+$\", x.attrib['id']) is not None,\n",
    "                root.xpath('//sec')\n",
    "            )\n",
    "        )\n",
    "\n",
    "        title_objs = list(map(lambda x: x.xpath('title//text()'), section_objs))\n",
    "        title_objs = list(filter(lambda x: len(x) > 0, title_objs))\n",
    "\n",
    "        # edge case in the xml where\n",
    "        # a tag contains the following: <title>A<sc>bstract</sc></title>\n",
    "        # why is there a <sc> tag?\n",
    "        if any(list(map(lambda x: len(x) > 1, title_objs))):\n",
    "\n",
    "            # filter out weird characters ⓘ\n",
    "            # cant think of a better way to handle these types of edge cases\n",
    "            title_objs = list(map(lambda headers: list(filter(lambda token: token != 'ⓘ', headers)), title_objs))\n",
    "            title_objs = list(map(lambda x: x[0] + x[1] if len(x) > 1 else x, title_objs))\n",
    "\n",
    "        abstract_section = root.xpath('//abstract/title//text()')\n",
    "        if len(abstract_section) > 0:\n",
    "\n",
    "            # in case of a parse error that splits A from bstract\n",
    "            if len(abstract_section) > 1:\n",
    "                abstract_section = [\"\".join(abstract_section)]\n",
    "\n",
    "            title_objs = title_objs + [abstract_section]\n",
    "\n",
    "        title_objs = list(map(lambda x: x[0].rstrip().lower(), title_objs))\n",
    "\n",
    "        article_sections += list(\n",
    "            map(\n",
    "                lambda x: {'section':header_group_mapper(x[0]), 'document':x[1]},\n",
    "                product(title_objs, [article])\n",
    "            )\n",
    "        )"
   ]
  },
  {
   "cell_type": "code",
   "execution_count": 5,
   "metadata": {
    "ExecuteTime": {
     "end_time": "2020-11-12T15:10:14.412628Z",
     "start_time": "2020-11-12T15:10:14.288418Z"
    }
   },
   "outputs": [
    {
     "data": {
      "text/html": [
       "<div>\n",
       "<style scoped>\n",
       "    .dataframe tbody tr th:only-of-type {\n",
       "        vertical-align: middle;\n",
       "    }\n",
       "\n",
       "    .dataframe tbody tr th {\n",
       "        vertical-align: top;\n",
       "    }\n",
       "\n",
       "    .dataframe thead th {\n",
       "        text-align: right;\n",
       "    }\n",
       "</style>\n",
       "<table border=\"1\" class=\"dataframe\">\n",
       "  <thead>\n",
       "    <tr style=\"text-align: right;\">\n",
       "      <th></th>\n",
       "      <th>author_type</th>\n",
       "      <th>heading</th>\n",
       "      <th>category</th>\n",
       "      <th>document</th>\n",
       "      <th>doi</th>\n",
       "    </tr>\n",
       "  </thead>\n",
       "  <tbody>\n",
       "    <tr>\n",
       "      <th>0</th>\n",
       "      <td>regular article</td>\n",
       "      <td>new results</td>\n",
       "      <td>genetics</td>\n",
       "      <td>440735_v1.xml</td>\n",
       "      <td>10.1101/440735</td>\n",
       "    </tr>\n",
       "    <tr>\n",
       "      <th>1</th>\n",
       "      <td>regular article</td>\n",
       "      <td>new results</td>\n",
       "      <td>systems biology</td>\n",
       "      <td>775270_v1.xml</td>\n",
       "      <td>10.1101/775270</td>\n",
       "    </tr>\n",
       "    <tr>\n",
       "      <th>2</th>\n",
       "      <td>regular article</td>\n",
       "      <td>new results</td>\n",
       "      <td>genetics</td>\n",
       "      <td>242404_v1.xml</td>\n",
       "      <td>10.1101/242404</td>\n",
       "    </tr>\n",
       "    <tr>\n",
       "      <th>3</th>\n",
       "      <td>regular article</td>\n",
       "      <td>new results</td>\n",
       "      <td>neuroscience</td>\n",
       "      <td>872994_v1.xml</td>\n",
       "      <td>10.1101/2019.12.11.872994</td>\n",
       "    </tr>\n",
       "    <tr>\n",
       "      <th>4</th>\n",
       "      <td>regular article</td>\n",
       "      <td>new results</td>\n",
       "      <td>developmental biology</td>\n",
       "      <td>080853_v2.xml</td>\n",
       "      <td>10.1101/080853</td>\n",
       "    </tr>\n",
       "  </tbody>\n",
       "</table>\n",
       "</div>"
      ],
      "text/plain": [
       "       author_type      heading               category       document  \\\n",
       "0  regular article  new results               genetics  440735_v1.xml   \n",
       "1  regular article  new results        systems biology  775270_v1.xml   \n",
       "2  regular article  new results               genetics  242404_v1.xml   \n",
       "3  regular article  new results           neuroscience  872994_v1.xml   \n",
       "4  regular article  new results  developmental biology  080853_v2.xml   \n",
       "\n",
       "                         doi  \n",
       "0             10.1101/440735  \n",
       "1             10.1101/775270  \n",
       "2             10.1101/242404  \n",
       "3  10.1101/2019.12.11.872994  \n",
       "4             10.1101/080853  "
      ]
     },
     "execution_count": 5,
     "metadata": {},
     "output_type": "execute_result"
    }
   ],
   "source": [
    "if (not Path(\"output/biorxiv_article_metadata.tsv\").exists()):\n",
    "    metadata_df = (\n",
    "        pd.DataFrame\n",
    "        .from_records(article_metadata)\n",
    "        .fillna({\"category\":'none', 'author_type':'none', 'heading':'none'})\n",
    "        .assign(category=lambda x:x.category.apply(lambda x: \" \".join(x.split(\"_\")) if \"_\" in x else x))\n",
    "        .replace(\n",
    "            {'heading':\n",
    "                  {\n",
    "                    \"bioinformatics\":\"none\",\n",
    "                    \"genomics\": \"none\",\n",
    "                    \"zoology\": \"none\",\n",
    "                    \"evolutionary biology\": \"none\",\n",
    "                    \"animal behavior and cognition\": \"none\",\n",
    "                    \"ecology\":\"none\",\n",
    "                    \"genetics\":\"none\"\n",
    "                  }\n",
    "            }\n",
    "        )\n",
    "    )\n",
    "\n",
    "    metadata_df.to_csv(\n",
    "        \"output/biorxiv_article_metadata.tsv\", \n",
    "        sep=\"\\t\", index=False\n",
    "    )\n",
    "else:\n",
    "    metadata_df = pd.read_csv(\n",
    "        \"output/biorxiv_article_metadata.tsv\", \n",
    "        sep=\"\\t\"\n",
    "    )\n",
    "\n",
    "metadata_df.head()"
   ]
  },
  {
   "cell_type": "code",
   "execution_count": 6,
   "metadata": {
    "ExecuteTime": {
     "end_time": "2020-11-12T15:10:14.774332Z",
     "start_time": "2020-11-12T15:10:14.413788Z"
    }
   },
   "outputs": [
    {
     "data": {
      "text/html": [
       "<div>\n",
       "<style scoped>\n",
       "    .dataframe tbody tr th:only-of-type {\n",
       "        vertical-align: middle;\n",
       "    }\n",
       "\n",
       "    .dataframe tbody tr th {\n",
       "        vertical-align: top;\n",
       "    }\n",
       "\n",
       "    .dataframe thead th {\n",
       "        text-align: right;\n",
       "    }\n",
       "</style>\n",
       "<table border=\"1\" class=\"dataframe\">\n",
       "  <thead>\n",
       "    <tr style=\"text-align: right;\">\n",
       "      <th></th>\n",
       "      <th>section</th>\n",
       "      <th>document</th>\n",
       "    </tr>\n",
       "  </thead>\n",
       "  <tbody>\n",
       "    <tr>\n",
       "      <th>0</th>\n",
       "      <td>research in context</td>\n",
       "      <td>440735_v1</td>\n",
       "    </tr>\n",
       "    <tr>\n",
       "      <th>1</th>\n",
       "      <td>introduction</td>\n",
       "      <td>440735_v1</td>\n",
       "    </tr>\n",
       "    <tr>\n",
       "      <th>2</th>\n",
       "      <td>results</td>\n",
       "      <td>440735_v1</td>\n",
       "    </tr>\n",
       "    <tr>\n",
       "      <th>3</th>\n",
       "      <td>discussion</td>\n",
       "      <td>440735_v1</td>\n",
       "    </tr>\n",
       "    <tr>\n",
       "      <th>4</th>\n",
       "      <td>material and methods</td>\n",
       "      <td>440735_v1</td>\n",
       "    </tr>\n",
       "  </tbody>\n",
       "</table>\n",
       "</div>"
      ],
      "text/plain": [
       "                section   document\n",
       "0   research in context  440735_v1\n",
       "1          introduction  440735_v1\n",
       "2               results  440735_v1\n",
       "3            discussion  440735_v1\n",
       "4  material and methods  440735_v1"
      ]
     },
     "execution_count": 6,
     "metadata": {},
     "output_type": "execute_result"
    }
   ],
   "source": [
    "if (not Path(\"output/biorxiv_article_sections.tsv\").exists()):\n",
    "    sections_df = (\n",
    "        pd.DataFrame\n",
    "        .from_records(article_sections)\n",
    "    )\n",
    "\n",
    "    sections_df.to_csv(\n",
    "        \"output/biorxiv_article_sections.tsv\", \n",
    "        sep=\"\\t\", index=False\n",
    "    )\n",
    "else:\n",
    "    sections_df = pd.read_csv(\n",
    "        \"output/biorxiv_article_sections.tsv\", \n",
    "        sep=\"\\t\"\n",
    "    )\n",
    "\n",
    "sections_df.head()"
   ]
  },
  {
   "cell_type": "markdown",
   "metadata": {},
   "source": [
    "# Regular Research Articles?"
   ]
  },
  {
   "cell_type": "markdown",
   "metadata": {},
   "source": [
    "BioRxiv claims that each article should be a research article. The plot below mainly confirms that statement."
   ]
  },
  {
   "cell_type": "code",
   "execution_count": 7,
   "metadata": {
    "ExecuteTime": {
     "end_time": "2020-11-12T15:10:15.116250Z",
     "start_time": "2020-11-12T15:10:14.775378Z"
    }
   },
   "outputs": [
    {
     "data": {
      "image/png": "[encoded data removed]",
      "text/plain": [
       "<Figure size 640x480 with 1 Axes>"
      ]
     },
     "metadata": {},
     "output_type": "display_data"
    },
    {
     "name": "stdout",
     "output_type": "stream",
     "text": [
      "<ggplot: (8737161466046)>\n"
     ]
    }
   ],
   "source": [
    "g = (\n",
    "    p9.ggplot(metadata_df, p9.aes(x=\"author_type\"))\n",
    "    + p9.geom_bar(size=10, fill=\"#253494\",)\n",
    "    + p9.theme_seaborn(\n",
    "        context=\"paper\",\n",
    "        style=\"ticks\",\n",
    "        font=\"Arial\",\n",
    "        font_scale=1\n",
    "    )\n",
    ")\n",
    "print(g)"
   ]
  },
  {
   "cell_type": "code",
   "execution_count": 8,
   "metadata": {
    "ExecuteTime": {
     "end_time": "2020-11-12T15:10:15.127116Z",
     "start_time": "2020-11-12T15:10:15.117282Z"
    }
   },
   "outputs": [
    {
     "data": {
      "text/plain": [
       "regular article    98014\n",
       "none                   9\n",
       "Name: author_type, dtype: int64"
      ]
     },
     "execution_count": 8,
     "metadata": {},
     "output_type": "execute_result"
    }
   ],
   "source": [
    "metadata_df[\"author_type\"].value_counts()"
   ]
  },
  {
   "cell_type": "markdown",
   "metadata": {},
   "source": [
    "# BioRxiv Research Article Categories"
   ]
  },
  {
   "cell_type": "markdown",
   "metadata": {},
   "source": [
    "Categories assigned to each research article. Neuroscience dominates majority of the articles as expected."
   ]
  },
  {
   "cell_type": "code",
   "execution_count": 9,
   "metadata": {
    "ExecuteTime": {
     "end_time": "2020-11-12T15:10:17.032932Z",
     "start_time": "2020-11-12T15:10:15.128895Z"
    }
   },
   "outputs": [
    {
     "name": "stderr",
     "output_type": "stream",
     "text": [
      "/home/danich1/anaconda3/envs/annorxiver/lib/python3.7/site-packages/plotnine/ggplot.py:729: PlotnineWarning: Saving 6.4 x 4.8 in image.\n",
      "/home/danich1/anaconda3/envs/annorxiver/lib/python3.7/site-packages/plotnine/ggplot.py:730: PlotnineWarning: Filename: output/figures/preprint_category.png\n"
     ]
    },
    {
     "data": {
      "image/png": "[encoded data removed]",
      "text/plain": [
       "<Figure size 640x480 with 1 Axes>"
      ]
     },
     "metadata": {},
     "output_type": "display_data"
    },
    {
     "name": "stdout",
     "output_type": "stream",
     "text": [
      "<ggplot: (8737162991410)>\n"
     ]
    }
   ],
   "source": [
    "category_list = metadata_df.category.value_counts().index.tolist()[::-1]\n",
    "\n",
    "# plot nine doesn't implement reverse keyword for scale x discrete\n",
    "# ugh...\n",
    "g = (\n",
    "    p9.ggplot(metadata_df, p9.aes(x=\"category\"))\n",
    "    + p9.geom_bar(\n",
    "        size=10, fill=\"#253494\",\n",
    "        position=p9.position_dodge(width=3)\n",
    "    )\n",
    "    + p9.scale_x_discrete(limits=category_list)\n",
    "    + p9.coord_flip()\n",
    "    + p9.theme_seaborn(\n",
    "        context=\"paper\",\n",
    "        style=\"ticks\",\n",
    "        font=\"Arial\",\n",
    "        font_scale=1\n",
    "    )\n",
    ")\n",
    "g.save(\"output/figures/preprint_category.png\", dpi=500)\n",
    "print(g)"
   ]
  },
  {
   "cell_type": "code",
   "execution_count": 10,
   "metadata": {
    "ExecuteTime": {
     "end_time": "2020-11-12T15:10:17.044411Z",
     "start_time": "2020-11-12T15:10:17.034028Z"
    }
   },
   "outputs": [
    {
     "data": {
      "text/plain": [
       "neuroscience                              18390\n",
       "bioinformatics                            10152\n",
       "microbiology                               7407\n",
       "evolutionary biology                       7174\n",
       "genomics                                   6759\n",
       "genetics                                   5443\n",
       "cell biology                               4480\n",
       "ecology                                    4386\n",
       "biophysics                                 4145\n",
       "cancer biology                             3176\n",
       "molecular biology                          2947\n",
       "systems biology                            2821\n",
       "developmental biology                      2797\n",
       "biochemistry                               2689\n",
       "plant biology                              2672\n",
       "immunology                                 2351\n",
       "epidemiology                               2038\n",
       "bioengineering                             1882\n",
       "animal behavior and cognition              1632\n",
       "physiology                                 1139\n",
       "synthetic biology                           876\n",
       "pharmacology                                767\n",
       "scientific communication                    677\n",
       "pathology                                   459\n",
       "zoology                                     457\n",
       "clinical trials                             137\n",
       "paleontology                                135\n",
       "none                                         25\n",
       "scientific communication and education       10\n",
       "Name: category, dtype: int64"
      ]
     },
     "execution_count": 10,
     "metadata": {},
     "output_type": "execute_result"
    }
   ],
   "source": [
    "metadata_df[\"category\"].value_counts()"
   ]
  },
  {
   "cell_type": "markdown",
   "metadata": {},
   "source": [
    "# New, Confirmatory, Contradictory Results?"
   ]
  },
  {
   "cell_type": "code",
   "execution_count": 11,
   "metadata": {
    "ExecuteTime": {
     "end_time": "2020-11-12T15:10:18.441417Z",
     "start_time": "2020-11-12T15:10:17.045598Z"
    }
   },
   "outputs": [
    {
     "name": "stderr",
     "output_type": "stream",
     "text": [
      "/home/danich1/anaconda3/envs/annorxiver/lib/python3.7/site-packages/plotnine/ggplot.py:729: PlotnineWarning: Saving 6.4 x 4.8 in image.\n",
      "/home/danich1/anaconda3/envs/annorxiver/lib/python3.7/site-packages/plotnine/ggplot.py:730: PlotnineWarning: Filename: output/figures/preprint_headings.png\n"
     ]
    },
    {
     "data": {
      "image/png": "[encoded data removed]",
      "text/plain": [
       "<Figure size 640x480 with 1 Axes>"
      ]
     },
     "metadata": {},
     "output_type": "display_data"
    },
    {
     "name": "stdout",
     "output_type": "stream",
     "text": [
      "<ggplot: (8737162896760)>\n"
     ]
    }
   ],
   "source": [
    "heading_list = metadata_df.heading.value_counts().index.tolist()[::-1]\n",
    "\n",
    "g = (\n",
    "    p9.ggplot(\n",
    "        metadata_df, \n",
    "        p9.aes(x=\"heading\")\n",
    "    )\n",
    "    + p9.geom_bar(size=10, fill=\"#253494\")\n",
    "    + p9.scale_x_discrete(limits=heading_list)\n",
    "    + p9.coord_flip()\n",
    "    + p9.theme_seaborn(\n",
    "        context=\"paper\",\n",
    "        style=\"ticks\",\n",
    "        font=\"Arial\",\n",
    "        font_scale=1\n",
    "    )\n",
    ")\n",
    "g.save(\"output/figures/preprint_headings.png\", dpi=500)\n",
    "print(g)"
   ]
  },
  {
   "cell_type": "code",
   "execution_count": 12,
   "metadata": {
    "ExecuteTime": {
     "end_time": "2020-11-12T15:10:18.452600Z",
     "start_time": "2020-11-12T15:10:18.442805Z"
    }
   },
   "outputs": [
    {
     "data": {
      "text/plain": [
       "new results              95585\n",
       "confirmatory results      1668\n",
       "contradictory results      671\n",
       "withdrawn                   72\n",
       "none                        27\n",
       "Name: heading, dtype: int64"
      ]
     },
     "execution_count": 12,
     "metadata": {},
     "output_type": "execute_result"
    }
   ],
   "source": [
    "metadata_df[\"heading\"].value_counts()"
   ]
  },
  {
   "cell_type": "markdown",
   "metadata": {},
   "source": [
    "# BioRxiv Section Articles"
   ]
  },
  {
   "cell_type": "code",
   "execution_count": 13,
   "metadata": {
    "ExecuteTime": {
     "end_time": "2020-11-12T15:10:22.168743Z",
     "start_time": "2020-11-12T15:10:18.453737Z"
    }
   },
   "outputs": [
    {
     "name": "stderr",
     "output_type": "stream",
     "text": [
      "/home/danich1/anaconda3/envs/annorxiver/lib/python3.7/site-packages/plotnine/ggplot.py:729: PlotnineWarning: Saving 6.4 x 4.8 in image.\n",
      "/home/danich1/anaconda3/envs/annorxiver/lib/python3.7/site-packages/plotnine/ggplot.py:730: PlotnineWarning: Filename: output/figures/preprint_sections.png\n"
     ]
    },
    {
     "data": {
      "image/png": "[encoded data removed]",
      "text/plain": [
       "<Figure size 640x480 with 1 Axes>"
      ]
     },
     "metadata": {},
     "output_type": "display_data"
    },
    {
     "name": "stdout",
     "output_type": "stream",
     "text": [
      "<ggplot: (-9223363299691923617)>\n"
     ]
    }
   ],
   "source": [
    "section_list = sections_df.section.value_counts()\n",
    "section_list = section_list[section_list > 800].index.to_list()[::-1]\n",
    "\n",
    "g = (\n",
    "    p9.ggplot(sections_df[sections_df.section.isin(section_list)])\n",
    "    + p9.aes(x=\"section\")\n",
    "    + p9.geom_bar(position=\"dodge\", fill=\"#253494\")\n",
    "    + p9.scale_x_discrete(limits=section_list)\n",
    "    + p9.coord_flip()\n",
    "    + p9.theme_seaborn(\n",
    "        context=\"paper\",\n",
    "        style=\"ticks\",\n",
    "        font=\"Arial\",\n",
    "        font_scale=1\n",
    "    )\n",
    ")\n",
    "g.save(\"output/figures/preprint_sections.png\", dpi=500)\n",
    "print(g)"
   ]
  },
  {
   "cell_type": "code",
   "execution_count": 14,
   "metadata": {
    "ExecuteTime": {
     "end_time": "2020-11-12T15:10:22.222253Z",
     "start_time": "2020-11-12T15:10:22.169979Z"
    }
   },
   "outputs": [
    {
     "data": {
      "text/plain": [
       "material and methods        87638\n",
       "abstract                    86150\n",
       "introduction                82045\n",
       "results                     74852\n",
       "discussion                  74564\n",
       "conclusion                  23179\n",
       "author contribution         17698\n",
       "conflict of interest        14123\n",
       "supplemental information     8635\n",
       "results and discussion       7726\n",
       "funding                      6792\n",
       "summary                      5319\n",
       "supplemental material        4713\n",
       "data availability            4340\n",
       "background                   3983\n",
       "main text                    1473\n",
       "supplementary figures        1469\n",
       "authors’ contributions       1385\n",
       "conflicts of interest         928\n",
       "Name: section, dtype: int64"
      ]
     },
     "execution_count": 14,
     "metadata": {},
     "output_type": "execute_result"
    }
   ],
   "source": [
    "section_list = sections_df.section.value_counts()\n",
    "section_list[section_list > 800]"
   ]
  }
 ],
 "metadata": {
  "kernelspec": {
   "display_name": "Python [conda env:annorxiver]",
   "language": "python",
   "name": "conda-env-annorxiver-py"
  },
  "language_info": {
   "codemirror_mode": {
    "name": "ipython",
    "version": 3
   },
   "file_extension": ".py",
   "mimetype": "text/x-python",
   "name": "python",
   "nbconvert_exporter": "python",
   "pygments_lexer": "ipython3",
   "version": "3.7.2"
  },
  "toc": {
   "base_numbering": 1,
   "nav_menu": {},
   "number_sections": true,
   "sideBar": true,
   "skip_h1_title": false,
   "title_cell": "Table of Contents",
   "title_sidebar": "Contents",
   "toc_cell": false,
   "toc_position": {},
   "toc_section_display": true,
   "toc_window_display": false
  },
  "varInspector": {
   "cols": {
    "lenName": 16,
    "lenType": 16,
    "lenVar": 40
   },
   "kernels_config": {
    "python": {
     "delete_cmd_postfix": "",
     "delete_cmd_prefix": "del ",
     "library": "var_list.py",
     "varRefreshCmd": "print(var_dic_list())"
    },
    "r": {
     "delete_cmd_postfix": ") ",
     "delete_cmd_prefix": "rm(",
     "library": "var_list.r",
     "varRefreshCmd": "cat(var_dic_list()) "
    }
   },
   "types_to_exclude": [
    "module",
    "function",
    "builtin_function_or_method",
    "instance",
    "_Feature"
   ],
   "window_display": false
  }
 },
 "nbformat": 4,
 "nbformat_minor": 2
}
